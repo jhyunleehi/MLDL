{
 "cells": [
  {
   "cell_type": "markdown",
   "metadata": {
    "id": "vv5OqLE-9tjv"
   },
   "source": [
    "# import"
   ]
  },
  {
   "cell_type": "code",
   "execution_count": 1,
   "metadata": {
    "id": "fEJeCbq78CIY"
   },
   "outputs": [],
   "source": [
    "import numpy as np\n",
    "import pandas as pd\n",
    "import matplotlib.pyplot as plt\n",
    "\n",
    "\n",
    "import torch\n",
    "import torch.nn as nn\n",
    "import torch.nn.functional as F\n",
    "from torchtext.data.utils import get_tokenizer\n",
    "from torchtext.vocab import build_vocab_from_iterator"
   ]
  },
  {
   "cell_type": "code",
   "execution_count": 2,
   "metadata": {
    "id": "SK_t8f4xTwBz"
   },
   "outputs": [],
   "source": [
    "device =\"cuda\" if torch.cuda.is_available() else \"cpu\""
   ]
  },
  {
   "cell_type": "code",
   "execution_count": 3,
   "metadata": {
    "colab": {
     "base_uri": "https://localhost:8080/"
    },
    "executionInfo": {
     "elapsed": 9184,
     "status": "ok",
     "timestamp": 1697794323508,
     "user": {
      "displayName": "bandal_lab이세우",
      "userId": "06927367528797360084"
     },
     "user_tz": -540
    },
    "id": "3tzqqkEcbPs4",
    "outputId": "eb042b6c-5f5e-4700-e78f-617422dc44ea"
   },
   "outputs": [
    {
     "name": "stdout",
     "output_type": "stream",
     "text": [
      "Requirement already satisfied: torchinfo in c:\\users\\sds\\appdata\\local\\programs\\python\\python311\\lib\\site-packages (1.8.0)\n"
     ]
    },
    {
     "name": "stderr",
     "output_type": "stream",
     "text": [
      "\n",
      "[notice] A new release of pip is available: 23.2.1 -> 23.3.1\n",
      "[notice] To update, run: python.exe -m pip install --upgrade pip\n"
     ]
    }
   ],
   "source": [
    "!pip install torchinfo --proxy 70.10.15.10:8080\n",
    "import torchinfo"
   ]
  },
  {
   "cell_type": "markdown",
   "metadata": {
    "id": "dFnOBEcD-Plj"
   },
   "source": [
    "# 단어 자동 완성\n",
    "* 4개의 문자로 구성된 단어의 마지막 문자 예측 모델\n",
    "* character 분류 모델\n"
   ]
  },
  {
   "cell_type": "markdown",
   "metadata": {
    "id": "lKv1K9S22P_J"
   },
   "source": [
    "## Tokenizing\n",
    "* 단어집 생성"
   ]
  },
  {
   "cell_type": "code",
   "execution_count": null,
   "metadata": {
    "colab": {
     "base_uri": "https://localhost:8080/"
    },
    "executionInfo": {
     "elapsed": 370,
     "status": "ok",
     "timestamp": 1697792106755,
     "user": {
      "displayName": "bandal_lab이세우",
      "userId": "06927367528797360084"
     },
     "user_tz": -540
    },
    "id": "0axvSmVRE7t7",
    "outputId": "17bb9605-c111-4113-e988-3e0989e87be6"
   },
   "outputs": [
    {
     "data": {
      "text/plain": [
       "{'s': 0,\n",
       " 'w': 1,\n",
       " 'v': 2,\n",
       " 'n': 3,\n",
       " 'o': 4,\n",
       " 'i': 5,\n",
       " 'k': 6,\n",
       " 'r': 7,\n",
       " 'e': 8,\n",
       " 'p': 9,\n",
       " 'l': 10,\n",
       " 'd': 11,\n",
       " 'a': 12,\n",
       " 'c': 13}"
      ]
     },
     "execution_count": 2,
     "metadata": {},
     "output_type": "execute_result"
    }
   ],
   "source": [
    "text_data = ['word', 'wood', 'deep', 'dive', 'cold', 'love', 'cool', 'load', 'kiss', 'kind']\n",
    "\n",
    "def tokenize(data):\n",
    "  tokens = []\n",
    "  # code here\n",
    "\n",
    "  \n",
    "vocab = tokenize(text_data)\n",
    "vocab"
   ]
  },
  {
   "cell_type": "code",
   "execution_count": null,
   "metadata": {
    "colab": {
     "base_uri": "https://localhost:8080/"
    },
    "executionInfo": {
     "elapsed": 325,
     "status": "ok",
     "timestamp": 1697792109356,
     "user": {
      "displayName": "bandal_lab이세우",
      "userId": "06927367528797360084"
     },
     "user_tz": -540
    },
    "id": "Lqho6p3cHFRE",
    "outputId": "87af26d1-a25d-4ce5-a340-b0078b7a7d0f"
   },
   "outputs": [
    {
     "data": {
      "text/plain": [
       "{0: 's',\n",
       " 1: 'w',\n",
       " 2: 'v',\n",
       " 3: 'n',\n",
       " 4: 'o',\n",
       " 5: 'i',\n",
       " 6: 'k',\n",
       " 7: 'r',\n",
       " 8: 'e',\n",
       " 9: 'p',\n",
       " 10: 'l',\n",
       " 11: 'd',\n",
       " 12: 'a',\n",
       " 13: 'c'}"
      ]
     },
     "execution_count": 3,
     "metadata": {},
     "output_type": "execute_result"
    }
   ],
   "source": [
    "i2c = # code here\n",
    "i2c"
   ]
  },
  {
   "cell_type": "markdown",
   "metadata": {
    "id": "UzPZcgu34-hb"
   },
   "source": [
    "## 시퀀스 변환"
   ]
  },
  {
   "cell_type": "code",
   "execution_count": null,
   "metadata": {
    "colab": {
     "base_uri": "https://localhost:8080/"
    },
    "executionInfo": {
     "elapsed": 327,
     "status": "ok",
     "timestamp": 1697792114242,
     "user": {
      "displayName": "bandal_lab이세우",
      "userId": "06927367528797360084"
     },
     "user_tz": -540
    },
    "id": "03Z2RXxNHeYN",
    "outputId": "a9314544-7fe9-4d43-d2a3-a2d02c15e4fd"
   },
   "outputs": [
    {
     "data": {
      "text/plain": [
       "[[1, 4, 7, 11],\n",
       " [1, 4, 4, 11],\n",
       " [11, 8, 8, 9],\n",
       " [11, 5, 2, 8],\n",
       " [13, 4, 10, 11],\n",
       " [10, 4, 2, 8],\n",
       " [13, 4, 4, 10],\n",
       " [10, 4, 12, 11],\n",
       " [6, 5, 0, 0],\n",
       " [6, 5, 3, 11]]"
      ]
     },
     "execution_count": 4,
     "metadata": {},
     "output_type": "execute_result"
    }
   ],
   "source": [
    "seq = # code here\n",
    "seq"
   ]
  },
  {
   "cell_type": "markdown",
   "metadata": {
    "id": "QRpZka7f5IXd"
   },
   "source": [
    "## One-Hot Encoding\n",
    "* `torch.nn.functional.one_hot()`"
   ]
  },
  {
   "cell_type": "code",
   "execution_count": null,
   "metadata": {
    "colab": {
     "base_uri": "https://localhost:8080/"
    },
    "executionInfo": {
     "elapsed": 417,
     "status": "ok",
     "timestamp": 1697792117525,
     "user": {
      "displayName": "bandal_lab이세우",
      "userId": "06927367528797360084"
     },
     "user_tz": -540
    },
    "id": "nG2QHtpPH_nZ",
    "outputId": "459edc40-d57e-4de2-fb8f-49ff6cf0d632"
   },
   "outputs": [
    {
     "data": {
      "text/plain": [
       "(tensor([[[0., 1., 0., 0., 0., 0., 0., 0., 0., 0., 0., 0., 0., 0.],\n",
       "          [0., 0., 0., 0., 1., 0., 0., 0., 0., 0., 0., 0., 0., 0.],\n",
       "          [0., 0., 0., 0., 0., 0., 0., 1., 0., 0., 0., 0., 0., 0.]],\n",
       " \n",
       "         [[0., 1., 0., 0., 0., 0., 0., 0., 0., 0., 0., 0., 0., 0.],\n",
       "          [0., 0., 0., 0., 1., 0., 0., 0., 0., 0., 0., 0., 0., 0.],\n",
       "          [0., 0., 0., 0., 1., 0., 0., 0., 0., 0., 0., 0., 0., 0.]]]),\n",
       " tensor([11, 11]),\n",
       " torch.Size([10, 3, 14]),\n",
       " torch.Size([10]),\n",
       " tensor(11))"
      ]
     },
     "execution_count": 5,
     "metadata": {},
     "output_type": "execute_result"
    }
   ],
   "source": [
    "import torch.nn.functional as F\n",
    "\n",
    "X = # code here\n",
    "y = # code here\n",
    "X_enc = # code here\n",
    "X_enc[:2], y[:2], X_enc.shape, y.shape, y.max()"
   ]
  },
  {
   "cell_type": "markdown",
   "metadata": {
    "id": "_oGp9FNG5XfP"
   },
   "source": [
    "## 모델 생성"
   ]
  },
  {
   "cell_type": "code",
   "execution_count": null,
   "metadata": {
    "colab": {
     "base_uri": "https://localhost:8080/"
    },
    "executionInfo": {
     "elapsed": 314,
     "status": "ok",
     "timestamp": 1697792127275,
     "user": {
      "displayName": "bandal_lab이세우",
      "userId": "06927367528797360084"
     },
     "user_tz": -540
    },
    "id": "VDY664Q9Igne",
    "outputId": "4ee6b7e1-c29b-4ab0-df4f-a3f8a6e1cc29"
   },
   "outputs": [
    {
     "data": {
      "text/plain": [
       "torch.Size([10, 14])"
      ]
     },
     "execution_count": 6,
     "metadata": {},
     "output_type": "execute_result"
    }
   ],
   "source": [
    "import torch.nn as nn\n",
    "torch.manual_seed(0)\n",
    "\n",
    "class NextChar(nn.Module):\n",
    "  def __init__(self, input_size, hidden_size, output_size):\n",
    "    super().__init__()\n",
    "    # code here\n",
    "\n",
    "\n",
    "  def forward(self, x):\n",
    "    # code here\n",
    "    return x\n",
    "\n",
    "model = NextChar(len(vocab), 128, len(vocab))\n",
    "output = model(X_enc)\n",
    "output.shape"
   ]
  },
  {
   "cell_type": "markdown",
   "metadata": {
    "id": "DJNDrWMr5deO"
   },
   "source": [
    "## 모델 학습"
   ]
  },
  {
   "cell_type": "code",
   "execution_count": null,
   "metadata": {
    "colab": {
     "base_uri": "https://localhost:8080/"
    },
    "executionInfo": {
     "elapsed": 2789,
     "status": "ok",
     "timestamp": 1697792186263,
     "user": {
      "displayName": "bandal_lab이세우",
      "userId": "06927367528797360084"
     },
     "user_tz": -540
    },
    "id": "zBFCMNKLKGSy",
    "outputId": "cef6a356-fc93-4597-8425-70c77293c4d7"
   },
   "outputs": [
    {
     "name": "stdout",
     "output_type": "stream",
     "text": [
      "epoch=0, cost:2.6926026344299316\n",
      "epoch=100, cost:0.39995887875556946\n",
      "epoch=200, cost:0.04750177636742592\n",
      "epoch=300, cost:0.013277577236294746\n",
      "epoch=400, cost:0.006181691773235798\n",
      "epoch=500, cost:0.0036220229230821133\n",
      "epoch=600, cost:0.0023990818299353123\n",
      "epoch=700, cost:0.001712761470116675\n",
      "epoch=800, cost:0.0012863705633208156\n",
      "epoch=900, cost:0.0010022077476605773\n"
     ]
    }
   ],
   "source": [
    "loss_fn = nn.CrossEntropyLoss()\n",
    "opt = torch.optim.Adam(model.parameters())\n",
    "\n",
    "losses = []\n",
    "for epoch in range(1000):\n",
    "  output = model(X_enc)\n",
    "  opt.zero_grad()\n",
    "  cost = loss_fn(output, y)\n",
    "  cost.backward()\n",
    "  opt.step()\n",
    "\n",
    "  if epoch%100==0:\n",
    "    print(f'epoch={epoch}, cost:{cost.item()}')\n",
    "  losses.append(cost.item())\n",
    "\n"
   ]
  },
  {
   "cell_type": "markdown",
   "metadata": {
    "id": "nyx1GI0X5g-d"
   },
   "source": [
    "## 추론"
   ]
  },
  {
   "cell_type": "code",
   "execution_count": null,
   "metadata": {
    "colab": {
     "base_uri": "https://localhost:8080/"
    },
    "executionInfo": {
     "elapsed": 290,
     "status": "ok",
     "timestamp": 1697792189323,
     "user": {
      "displayName": "bandal_lab이세우",
      "userId": "06927367528797360084"
     },
     "user_tz": -540
    },
    "id": "ixWdNmw18LIo",
    "outputId": "59e7ed25-3dc2-458b-eabb-62898dbbff1f"
   },
   "outputs": [
    {
     "name": "stdout",
     "output_type": "stream",
     "text": [
      "['word', 'wood', 'deep', 'dive', 'cold', 'love', 'cool', 'load', 'kiss', 'kind']\n",
      "X: ['wor', 'woo', 'dee', 'div', 'col', 'lov', 'coo', 'loa', 'kis', 'kin']\n",
      "pred: ['d', 'd', 'p', 'e', 'd', 'e', 'l', 'd', 's', 'd']\n"
     ]
    }
   ],
   "source": [
    "output = # code here\n",
    "y_pred = # code here\n",
    "\n",
    "print(text_data)\n",
    "print('X:',  # code here)\n",
    "print('pred:', # code here)"
   ]
  },
  {
   "cell_type": "markdown",
   "metadata": {
    "id": "xDlnbWk-Ebx4"
   },
   "source": [
    "# Word Embedding\n"
   ]
  },
  {
   "cell_type": "markdown",
   "metadata": {
    "id": "t1vJNxoP6lhr"
   },
   "source": [
    "## 문장 긍정/부정 분류\n",
    "* 0 : 부정(negative)\n",
    "* 1 : 긍정(positive)"
   ]
  },
  {
   "cell_type": "code",
   "execution_count": null,
   "metadata": {
    "id": "VoZgY94SEdJN"
   },
   "outputs": [],
   "source": [
    "text_data = ['very good nice quality',\n",
    "          'stop lies',\n",
    "          'ugly terrible',\n",
    "          'excellent work',\n",
    "          'adorable lovely',\n",
    "          'bad',\n",
    "          'greate nice']\n",
    "y = np.array([1, 0, 0, 1, 1, 0, 1]) #1 :pos, 0 : neg"
   ]
  },
  {
   "cell_type": "markdown",
   "metadata": {
    "id": "-j8r47GJ7nh-"
   },
   "source": [
    "## Tokenizing\n",
    "* `torchtext.data.utils.get_tokenizer()`\n",
    "* `torchtext.vocab.build_vocab_from_iterator()`\n",
    "* `vocab.get_itos()`\n",
    "* `vocab.get_stoi()`\n",
    "* `seq = vocab([\"word])`\n",
    "* `word=vocab.lookup_tokens([seq])`"
   ]
  },
  {
   "cell_type": "code",
   "execution_count": null,
   "metadata": {
    "id": "6bPGOW9iEodP"
   },
   "outputs": [],
   "source": [
    "from torchtext.data.utils import get_tokenizer\n",
    "from torchtext.vocab import build_vocab_from_iterator\n",
    "\n",
    "tokenizer = # code here\n",
    "\n",
    "def tokenize(text):\n",
    "  for s in text:\n",
    "    yield tokenizer(s)\n",
    "\n",
    "vocab = # code here\n"
   ]
  },
  {
   "cell_type": "code",
   "execution_count": null,
   "metadata": {
    "colab": {
     "base_uri": "https://localhost:8080/"
    },
    "executionInfo": {
     "elapsed": 360,
     "status": "ok",
     "timestamp": 1697792205763,
     "user": {
      "displayName": "bandal_lab이세우",
      "userId": "06927367528797360084"
     },
     "user_tz": -540
    },
    "id": "aj8rITJLE5XD",
    "outputId": "ada1d863-6807-47d4-f574-969fbece0c82"
   },
   "outputs": [
    {
     "data": {
      "text/plain": [
       "16"
      ]
     },
     "execution_count": 11,
     "metadata": {},
     "output_type": "execute_result"
    }
   ],
   "source": [
    "len(vocab)"
   ]
  },
  {
   "cell_type": "code",
   "execution_count": null,
   "metadata": {
    "colab": {
     "base_uri": "https://localhost:8080/"
    },
    "executionInfo": {
     "elapsed": 3,
     "status": "ok",
     "timestamp": 1697792206047,
     "user": {
      "displayName": "bandal_lab이세우",
      "userId": "06927367528797360084"
     },
     "user_tz": -540
    },
    "id": "yGCa8KhbG-8a",
    "outputId": "355f7e9e-f5f8-45e3-9532-ca90e4f460c5"
   },
   "outputs": [
    {
     "data": {
      "text/plain": [
       "['<pad>',\n",
       " '<unk>',\n",
       " 'nice',\n",
       " 'adorable',\n",
       " 'bad',\n",
       " 'excellent',\n",
       " 'good',\n",
       " 'greate',\n",
       " 'lies',\n",
       " 'lovely',\n",
       " 'quality',\n",
       " 'stop',\n",
       " 'terrible',\n",
       " 'ugly',\n",
       " 'very',\n",
       " 'work']"
      ]
     },
     "execution_count": 12,
     "metadata": {},
     "output_type": "execute_result"
    }
   ],
   "source": []
  },
  {
   "cell_type": "code",
   "execution_count": null,
   "metadata": {
    "colab": {
     "base_uri": "https://localhost:8080/"
    },
    "executionInfo": {
     "elapsed": 4,
     "status": "ok",
     "timestamp": 1697792206411,
     "user": {
      "displayName": "bandal_lab이세우",
      "userId": "06927367528797360084"
     },
     "user_tz": -540
    },
    "id": "Nh_NPpnbHU_y",
    "outputId": "aca911c9-f9ee-4fbf-b195-1e9c6c9cced5"
   },
   "outputs": [
    {
     "data": {
      "text/plain": [
       "{'very': 14,\n",
       " 'ugly': 13,\n",
       " '<pad>': 0,\n",
       " 'quality': 10,\n",
       " 'nice': 2,\n",
       " '<unk>': 1,\n",
       " 'bad': 4,\n",
       " 'terrible': 12,\n",
       " 'lies': 8,\n",
       " 'excellent': 5,\n",
       " 'stop': 11,\n",
       " 'work': 15,\n",
       " 'good': 6,\n",
       " 'adorable': 3,\n",
       " 'greate': 7,\n",
       " 'lovely': 9}"
      ]
     },
     "execution_count": 13,
     "metadata": {},
     "output_type": "execute_result"
    }
   ],
   "source": []
  },
  {
   "cell_type": "code",
   "execution_count": null,
   "metadata": {
    "colab": {
     "base_uri": "https://localhost:8080/"
    },
    "executionInfo": {
     "elapsed": 2,
     "status": "ok",
     "timestamp": 1697792208991,
     "user": {
      "displayName": "bandal_lab이세우",
      "userId": "06927367528797360084"
     },
     "user_tz": -540
    },
    "id": "92ZhY-z7HdcK",
    "outputId": "d295aef8-3a8b-4dee-f39c-ac795896adfd"
   },
   "outputs": [
    {
     "data": {
      "text/plain": [
       "([14, 2], ['very', 'nice'])"
      ]
     },
     "execution_count": 14,
     "metadata": {},
     "output_type": "execute_result"
    }
   ],
   "source": []
  },
  {
   "cell_type": "markdown",
   "metadata": {
    "id": "2AHQcIRYab2O"
   },
   "source": [
    "## Text to Sequence"
   ]
  },
  {
   "cell_type": "code",
   "execution_count": null,
   "metadata": {
    "colab": {
     "base_uri": "https://localhost:8080/"
    },
    "executionInfo": {
     "elapsed": 2,
     "status": "ok",
     "timestamp": 1697792209444,
     "user": {
      "displayName": "bandal_lab이세우",
      "userId": "06927367528797360084"
     },
     "user_tz": -540
    },
    "id": "E8QH_ETzIRxw",
    "outputId": "645c02b5-d50c-486c-fa46-f8637d5ff4e4"
   },
   "outputs": [
    {
     "data": {
      "text/plain": [
       "[tensor([14,  6,  2, 10]),\n",
       " tensor([11,  8]),\n",
       " tensor([13, 12]),\n",
       " tensor([ 5, 15]),\n",
       " tensor([3, 9]),\n",
       " tensor([4]),\n",
       " tensor([7, 2])]"
      ]
     },
     "execution_count": 15,
     "metadata": {},
     "output_type": "execute_result"
    }
   ],
   "source": [
    "seq= # code here\n",
    "seq"
   ]
  },
  {
   "cell_type": "markdown",
   "metadata": {
    "id": "Nnynkt39ABGv"
   },
   "source": [
    "## padding\n",
    "* `torch.nn.utils.rnn.pad_sequence(seq, batch_first)`"
   ]
  },
  {
   "cell_type": "code",
   "execution_count": null,
   "metadata": {
    "colab": {
     "base_uri": "https://localhost:8080/"
    },
    "executionInfo": {
     "elapsed": 439,
     "status": "ok",
     "timestamp": 1697792212150,
     "user": {
      "displayName": "bandal_lab이세우",
      "userId": "06927367528797360084"
     },
     "user_tz": -540
    },
    "id": "RZZSEyyayOb3",
    "outputId": "e2f3dbb6-f7b6-4d29-932f-98a669048656"
   },
   "outputs": [
    {
     "data": {
      "text/plain": [
       "tensor([[14,  6,  2, 10],\n",
       "        [11,  8,  0,  0],\n",
       "        [13, 12,  0,  0],\n",
       "        [ 5, 15,  0,  0],\n",
       "        [ 3,  9,  0,  0],\n",
       "        [ 4,  0,  0,  0],\n",
       "        [ 7,  2,  0,  0]])"
      ]
     },
     "execution_count": 16,
     "metadata": {},
     "output_type": "execute_result"
    }
   ],
   "source": [
    "import torch.nn.utils.rnn as rnn_utils\n",
    "X =# code here\n",
    "X"
   ]
  },
  {
   "cell_type": "markdown",
   "metadata": {
    "id": "xwMMLuV3AUP3"
   },
   "source": [
    "## 모델 생성"
   ]
  },
  {
   "cell_type": "code",
   "execution_count": null,
   "metadata": {
    "id": "uEskD_Suc8pg"
   },
   "outputs": [],
   "source": [
    "import torch.nn as nn\n",
    "import torch.nn.functional as F\n",
    "\n",
    "class TextClassificationModel(nn.Module):\n",
    "    def __init__(self, vocab_size, embed_dim, num_class):\n",
    "        super().__init__()\n",
    "        # code here\n",
    "        \n",
    "    def forward(self, x):\n",
    "        # code here\n",
    "\n",
    "        return x"
   ]
  },
  {
   "cell_type": "markdown",
   "metadata": {
    "id": "pRjaw5xBAWl2"
   },
   "source": [
    "## 모델 학습 및 추론"
   ]
  },
  {
   "cell_type": "code",
   "execution_count": null,
   "metadata": {
    "colab": {
     "base_uri": "https://localhost:8080/"
    },
    "executionInfo": {
     "elapsed": 4109,
     "status": "ok",
     "timestamp": 1697792266513,
     "user": {
      "displayName": "bandal_lab이세우",
      "userId": "06927367528797360084"
     },
     "user_tz": -540
    },
    "id": "zzzqmAmYzGnY",
    "outputId": "182bce78-d11d-4195-ef21-be5851beb222"
   },
   "outputs": [
    {
     "name": "stdout",
     "output_type": "stream",
     "text": [
      "target: [1 0 0 1 1 0 1]\n",
      "output: tensor([[1.],\n",
      "        [0.],\n",
      "        [0.],\n",
      "        [1.],\n",
      "        [1.],\n",
      "        [0.],\n",
      "        [1.]])\n"
     ]
    }
   ],
   "source": [
    "torch.manual_seed(0)\n",
    "\n",
    "model = TextClassificationModel(len(vocab), 2, 1)\n",
    "loss_fn = torch.nn.BCELoss()\n",
    "opt = torch.optim.Adam(model.parameters())\n",
    "\n",
    "for i in range(5000):\n",
    "  output = model(X)\n",
    "  opt.zero_grad()\n",
    "  cost = loss_fn(output, torch.FloatTensor(y).view(-1, 1))\n",
    "  cost.backward()\n",
    "  opt.step()\n",
    "print('target:', y)\n",
    "print('output:', (output>=0.5).float())"
   ]
  },
  {
   "cell_type": "markdown",
   "metadata": {
    "id": "8XaooUmbAsCe"
   },
   "source": [
    "## Embedding Layer의 weights 시각화"
   ]
  },
  {
   "cell_type": "code",
   "execution_count": null,
   "metadata": {
    "colab": {
     "base_uri": "https://localhost:8080/",
     "height": 729
    },
    "executionInfo": {
     "elapsed": 424,
     "status": "ok",
     "timestamp": 1697792270021,
     "user": {
      "displayName": "bandal_lab이세우",
      "userId": "06927367528797360084"
     },
     "user_tz": -540
    },
    "id": "nYElO1CuoZIX",
    "outputId": "95b68a5a-b7d5-4ede-84e3-81c7e4574da9"
   },
   "outputs": [
    {
     "name": "stdout",
     "output_type": "stream",
     "text": [
      "[[-2.4334319  -0.8679732 ]\n",
      " [-0.25057858 -0.4338788 ]\n",
      " [ 1.2296567   2.1355274 ]\n",
      " [ 0.53783464 -3.4137537 ]\n",
      " [-1.4442064   0.6517211 ]\n",
      " [ 2.0226734  -1.5348928 ]\n",
      " [ 0.5887725   1.2018392 ]\n",
      " [ 2.3392754  -1.7587653 ]\n",
      " [-1.5661091  -1.5961248 ]\n",
      " [ 1.337331    0.8580178 ]\n",
      " [ 1.6383116  -2.1011572 ]\n",
      " [-0.57956797  2.7144701 ]\n",
      " [-0.6288151  -1.0388124 ]\n",
      " [-1.6818316   1.8739498 ]\n",
      " [ 1.9119207   0.51198494]\n",
      " [ 2.4873044  -0.2018592 ]] (16, 2)\n"
     ]
    },
    {
     "data": {
      "image/png": "[encoded data removed]",
      "text/plain": [
       "<Figure size 640x480 with 1 Axes>"
      ]
     },
     "metadata": {},
     "output_type": "display_data"
    }
   ],
   "source": [
    "weights= model.embedding.weight.detach().numpy()\n",
    "print(weights, weights.shape)\n",
    "\n",
    "for idx, (x1, x2) in enumerate(weights):\n",
    "    if idx == 0 : continue\n",
    "    plt.plot(x1, x2, 'b.')\n",
    "    plt.annotate(vocab.get_itos()[idx], (x1,x2))"
   ]
  },
  {
   "cell_type": "markdown",
   "metadata": {
    "id": "hWZfw6T9RTea"
   },
   "source": [
    "# IMDB 감성분류"
   ]
  },
  {
   "cell_type": "markdown",
   "metadata": {
    "id": "5L0g96HuCDVp"
   },
   "source": [
    "## 데이터 준비\n",
    "* Token, Seequence 처리 된 데이터 사용"
   ]
  },
  {
   "cell_type": "code",
   "execution_count": 4,
   "metadata": {
    "colab": {
     "base_uri": "https://localhost:8080/"
    },
    "executionInfo": {
     "elapsed": 7052,
     "status": "ok",
     "timestamp": 1697792295243,
     "user": {
      "displayName": "bandal_lab이세우",
      "userId": "06927367528797360084"
     },
     "user_tz": -540
    },
    "id": "47AH6ukVz8gn",
    "outputId": "91c91497-a2b3-4ed7-fcd3-f1ac8c14cffd"
   },
   "outputs": [
    {
     "name": "stdout",
     "output_type": "stream",
     "text": [
      "train set : 25000, test set: (25000,), classes : 2\n"
     ]
    }
   ],
   "source": [
    "import keras\n",
    "max_len = 500\n",
    "\n",
    "imdb = keras.datasets.imdb\n",
    "\n",
    "voca_size = 10000\n",
    "(X_train, y_train), (X_test, y_test) = imdb.load_data(num_words=voca_size)\n",
    "print(f'train set : {len(X_train)}, test set: {len(X_test), }, classes : {max(y_train)+1}')"
   ]
  },
  {
   "cell_type": "code",
   "execution_count": 5,
   "metadata": {
    "colab": {
     "base_uri": "https://localhost:8080/",
     "height": 91
    },
    "executionInfo": {
     "elapsed": 813,
     "status": "ok",
     "timestamp": 1697792296051,
     "user": {
      "displayName": "bandal_lab이세우",
      "userId": "06927367528797360084"
     },
     "user_tz": -540
    },
    "id": "U2p6M6l94HPk",
    "outputId": "22114eba-7319-4474-831e-834a4541391e"
   },
   "outputs": [
    {
     "name": "stdout",
     "output_type": "stream",
     "text": [
      "[1, 14, 22, 16, 43, 530, 973, 1622, 1385, 65, 458, 4468, 66, 3941, 4, 173, 36, 256, 5, 25]\n"
     ]
    },
    {
     "data": {
      "text/plain": [
       "\"? this film was just brilliant casting location scenery story direction everyone's really suited the part they played and you\""
      ]
     },
     "execution_count": 5,
     "metadata": {},
     "output_type": "execute_result"
    }
   ],
   "source": [
    "imdb_word_index = imdb.get_word_index()\n",
    "imdb_index_word = { idx : key for key, idx in imdb_word_index.items()}\n",
    "print(X_train[0][:20])\n",
    "\n",
    "# 0:pad, 1:<start>, 2:UNK\n",
    "' '.join([imdb_index_word.get(i-3, '?') for i in X_train[0][:20]])"
   ]
  },
  {
   "cell_type": "markdown",
   "metadata": {
    "id": "kcy2IZ3SCF50"
   },
   "source": [
    "## Padding"
   ]
  },
  {
   "cell_type": "code",
   "execution_count": null,
   "metadata": {
    "id": "-ckAsNgl4OJ1"
   },
   "outputs": [],
   "source": [
    "#padding\n",
    "max_len = 500\n",
    "X_train = keras.preprocessing.sequence.pad_sequences(X_train, maxlen=max_len)\n",
    "X_test = keras.preprocessing.sequence.pad_sequences(X_test, maxlen=max_len)"
   ]
  },
  {
   "cell_type": "code",
   "execution_count": null,
   "metadata": {
    "colab": {
     "base_uri": "https://localhost:8080/"
    },
    "executionInfo": {
     "elapsed": 5,
     "status": "ok",
     "timestamp": 1694717696906,
     "user": {
      "displayName": "bandal_lab이세우",
      "userId": "06927367528797360084"
     },
     "user_tz": -540
    },
    "id": "UHQY0Zb98VLR",
    "outputId": "6b42bb80-8055-4239-e208-d0f1f0cf3f65"
   },
   "outputs": [
    {
     "data": {
      "text/plain": [
       "array([[   0,    0,    0, ...,   19,  178,   32],\n",
       "       [   0,    0,    0, ...,   16,  145,   95],\n",
       "       [   0,    0,    0, ...,    7,  129,  113],\n",
       "       [ 687,   23,    4, ...,   21,   64, 2574],\n",
       "       [   0,    0,    0, ...,    7,   61,  113]], dtype=int32)"
      ]
     },
     "execution_count": 5,
     "metadata": {},
     "output_type": "execute_result"
    }
   ],
   "source": [
    "X_train[:5]"
   ]
  },
  {
   "cell_type": "markdown",
   "metadata": {
    "id": "fWfGNh9SDIEF"
   },
   "source": [
    "## DataSet, DataLoader"
   ]
  },
  {
   "cell_type": "code",
   "execution_count": null,
   "metadata": {
    "id": "BsFDdHDS4On3"
   },
   "outputs": [],
   "source": [
    "from torch.utils.data import TensorDataset, DataLoader\n",
    "\n",
    "train_ds = TensorDataset(torch.tensor(X_train), torch.FloatTensor(y_train).view(-1,1))\n",
    "test_ds = TensorDataset(torch.tensor(X_test), torch.FloatTensor(y_test).view(-1,1))\n",
    "\n",
    "train_loader = DataLoader(train_ds, batch_size=64, shuffle=True)\n",
    "test_loader = DataLoader(test_ds, batch_size=64)"
   ]
  },
  {
   "cell_type": "markdown",
   "metadata": {
    "id": "UQbFrvmSDKyM"
   },
   "source": [
    "## 모델 생성"
   ]
  },
  {
   "cell_type": "code",
   "execution_count": null,
   "metadata": {
    "id": "P9yO2ZRl4udI"
   },
   "outputs": [],
   "source": [
    "import torch.nn as nn\n",
    "import torch.nn.functional as F\n",
    "\n",
    "class IMDBClassifier(nn.Module):\n",
    "    def __init__(self, vocab_size, embed_dim, num_class):\n",
    "        super().__init__()\n",
    "        self.embedding = nn.Embedding(vocab_size, embed_dim)\n",
    "        self.rnn = nn.LSTM(embed_dim, 120, bidirectional=True, batch_first=True)\n",
    "        self.fc1 = nn.Linear(120*2, 32)\n",
    "        self.dropout = nn.Dropout(0.2)\n",
    "        self.out = nn.Linear(32, num_class)\n",
    "\n",
    "    def forward(self, x):\n",
    "        x = self.embedding(x)\n",
    "        x, _ = self.rnn(x)\n",
    "        x = self.fc1(x[:,-1,:])\n",
    "        x = F.relu(x)\n",
    "        x = self.dropout(x)\n",
    "        x = self.out(x)\n",
    "        x = F.sigmoid(x)\n",
    "        return x"
   ]
  },
  {
   "cell_type": "markdown",
   "metadata": {
    "id": "VOQ2LbQ3DPxD"
   },
   "source": [
    "## 모델 학습"
   ]
  },
  {
   "cell_type": "code",
   "execution_count": null,
   "metadata": {
    "id": "7Wzg_ctoT7a9"
   },
   "outputs": [],
   "source": [
    "def fit(model, loader, loss_fn, opt):\n",
    "  n_batch = len(loader)\n",
    "  loss=0\n",
    "  model.train()\n",
    "  for (x, y) in loader:\n",
    "    x, y = x.to(device), y.to(device)\n",
    "    y_pred = model(x)\n",
    "    cost = loss_fn(y_pred, y)\n",
    "    opt.zero_grad()\n",
    "    cost.backward()\n",
    "    opt.step()\n",
    "    loss += cost.item()/n_batch\n",
    "  return loss\n",
    "\n",
    "def evaluate(model, loader, metric_fn):\n",
    "  loss=0\n",
    "  n_batch = len(loader)\n",
    "  model.eval()\n",
    "  with torch.no_grad():\n",
    "    for x, y in loader:\n",
    "      x, y = x.to(device), y.to(device)\n",
    "      y_pred = model(x)\n",
    "      cost = metric_fn(y_pred, y)\n",
    "      loss += cost.item()/n_batch\n",
    "  return loss"
   ]
  },
  {
   "cell_type": "code",
   "execution_count": null,
   "metadata": {
    "colab": {
     "base_uri": "https://localhost:8080/"
    },
    "executionInfo": {
     "elapsed": 174146,
     "status": "ok",
     "timestamp": 1697795865047,
     "user": {
      "displayName": "bandal_lab이세우",
      "userId": "06927367528797360084"
     },
     "user_tz": -540
    },
    "id": "Rw2kTV_y5WXJ",
    "outputId": "4e442e0b-3b5b-4202-cb70-5bd6b7905f16"
   },
   "outputs": [
    {
     "name": "stdout",
     "output_type": "stream",
     "text": [
      "epoch=0, loss:0.5739458014288217, test_loss:0.4663517675588807\n",
      "epoch=1, loss:0.4004007678888643, test_loss:0.3843283314076836\n",
      "epoch=2, loss:0.3518252742412448, test_loss:0.3704120553363012\n",
      "epoch=3, loss:0.28144904159371487, test_loss:0.3738660917943701\n",
      "epoch=4, loss:0.19476902381995753, test_loss:0.35535253927378346\n",
      "epoch=5, loss:0.1363298530735628, test_loss:0.4236150126132517\n",
      "epoch=6, loss:0.09649178666322292, test_loss:0.45826260312972483\n",
      "epoch=7, loss:0.0654497571370524, test_loss:0.5618287979546562\n",
      "epoch=8, loss:0.052382022466348564, test_loss:0.600469742056049\n",
      "epoch=9, loss:0.04291205848460003, test_loss:0.62734248007045\n"
     ]
    }
   ],
   "source": [
    "model = IMDBClassifier(voca_size, 250, 1).to(device)\n",
    "loss_fn = torch.nn.BCELoss()\n",
    "opt = torch.optim.Adam(model.parameters())\n",
    "\n",
    "history={'loss':[], 'val_loss':[]}\n",
    "for epoch in range(10):\n",
    "  train_loss = fit(model, train_loader, loss_fn, opt)\n",
    "  history['loss'].append(train_loss)\n",
    "  test_loss = evaluate(model, test_loader, loss_fn)\n",
    "  print(f'epoch={epoch}, loss:{train_loss}, test_loss:{test_loss}')\n"
   ]
  },
  {
   "cell_type": "markdown",
   "metadata": {
    "id": "5xc0G5auUbDd"
   },
   "source": [
    "## 평가"
   ]
  },
  {
   "cell_type": "code",
   "execution_count": null,
   "metadata": {
    "id": "3-uOGyd9UcyA"
   },
   "outputs": [],
   "source": [
    "def predict(model, loader, fn=None, **kw):\n",
    "  preds = []\n",
    "  model.eval()\n",
    "  with torch.no_grad():\n",
    "    for X, y in loader:\n",
    "      X = X.to(device)\n",
    "      y_pred = model(X)\n",
    "      if fn:\n",
    "        y_pred = fn(y_pred, **kw)\n",
    "      preds.append(y_pred.detach().cpu().numpy())\n",
    "  return np.concatenate(preds)"
   ]
  },
  {
   "cell_type": "code",
   "execution_count": null,
   "metadata": {
    "colab": {
     "base_uri": "https://localhost:8080/"
    },
    "executionInfo": {
     "elapsed": 95889,
     "status": "ok",
     "timestamp": 1697796141741,
     "user": {
      "displayName": "bandal_lab이세우",
      "userId": "06927367528797360084"
     },
     "user_tz": -540
    },
    "id": "2Bp44ridUjXa",
    "outputId": "47dc9a67-a396-47e5-f446-9a388bcd3939"
   },
   "outputs": [
    {
     "name": "stdout",
     "output_type": "stream",
     "text": [
      "train acc:0.99624, test acc:0.85764\n"
     ]
    }
   ],
   "source": [
    "from sklearn.metrics import accuracy_score\n",
    "\n",
    "proba_train = predict(model, DataLoader(train_ds, shuffle=False))\n",
    "proba_test = predict(model, test_loader)\n",
    "pred_train = proba_train>=0.5\n",
    "pred_test = proba_test>=0.5\n",
    "train_acc = accuracy_score(y_train, pred_train)\n",
    "test_acc = accuracy_score(y_test, pred_test)\n",
    "\n",
    "print(f'train acc:{train_acc}, test acc:{test_acc}')"
   ]
  },
  {
   "cell_type": "markdown",
   "metadata": {
    "id": "c4mRnAeKjHTF"
   },
   "source": [
    "# 한국어 처리\n",
    "## KoNLPy(코엔엘파이)\n",
    "* Korean NLP in Python\n",
    "* 한국어 형태소 Tokeniziner 통합 라이브러리\n",
    "* https://konlpy.org/en/latest/\n",
    "* 설치\n",
    "    * `!pip install konlpy`\n",
    "* 9품사\n",
    "    * 명사(개,고양이), 대명사(나,너), 동사(간다,먹었다), 형용사(예쁘다), 부사(매우,정말), 조사(은,는), 감탄사(우아), 수사(하나,둘), 관형사(이,그,저,새,헌)\n",
    "* Sub tag package\n",
    "    * kKma\n",
    "    * Komoran\n",
    "    * Okt\n",
    "    * Hannanum\n",
    "    * Mecab\n"
   ]
  },
  {
   "cell_type": "code",
   "execution_count": 6,
   "metadata": {
    "colab": {
     "base_uri": "https://localhost:8080/"
    },
    "executionInfo": {
     "elapsed": 13980,
     "status": "ok",
     "timestamp": 1697798379905,
     "user": {
      "displayName": "bandal_lab이세우",
      "userId": "06927367528797360084"
     },
     "user_tz": -540
    },
    "id": "nhfAWUr1jIe0",
    "outputId": "63398c95-b753-4eeb-fe4a-2fbec396a65a"
   },
   "outputs": [
    {
     "name": "stdout",
     "output_type": "stream",
     "text": [
      "Requirement already satisfied: konlpy in c:\\users\\sds\\appdata\\local\\programs\\python\\python311\\lib\\site-packages (0.6.0)\n",
      "Requirement already satisfied: JPype1>=0.7.0 in c:\\users\\sds\\appdata\\local\\programs\\python\\python311\\lib\\site-packages (from konlpy) (1.4.1)\n",
      "Requirement already satisfied: lxml>=4.1.0 in c:\\users\\sds\\appdata\\local\\programs\\python\\python311\\lib\\site-packages (from konlpy) (4.9.3)\n",
      "Requirement already satisfied: numpy>=1.6 in c:\\users\\sds\\appdata\\local\\programs\\python\\python311\\lib\\site-packages (from konlpy) (1.25.2)\n",
      "Requirement already satisfied: packaging in c:\\users\\sds\\appdata\\local\\programs\\python\\python311\\lib\\site-packages (from JPype1>=0.7.0->konlpy) (23.1)\n"
     ]
    },
    {
     "name": "stderr",
     "output_type": "stream",
     "text": [
      "\n",
      "[notice] A new release of pip is available: 23.2.1 -> 23.3.1\n",
      "[notice] To update, run: python.exe -m pip install --upgrade pip\n"
     ]
    }
   ],
   "source": [
    "!pip install konlpy --proxy 70.10.15.10:8080"
   ]
  },
  {
   "cell_type": "code",
   "execution_count": 8,
   "metadata": {},
   "outputs": [],
   "source": [
    "import os\n",
    "os.environ['JAVA_HOME'] = 'C:\\Program Files\\Java\\jdk-20'"
   ]
  },
  {
   "cell_type": "markdown",
   "metadata": {
    "id": "zEvm8UphqomC"
   },
   "source": [
    "## Kkma(꼬꼬마)\n",
    "* 서울대학교 IDS 연구실\n",
    "* http://kkma.snu.ac.kr/\n",
    "* API\n",
    "    * morphs(phrase) : 문장을 형태소 단위로 토크나이징하고 리스트로 반환\n",
    "    * nouns(phrase) : 문장을 명사 품사만 토큰나이징\n",
    "    * pos(phrase, flatten=True) : 문장을 형태소와 품사 태크를 튜플로 묶어 리스트로 반환\n",
    "    * sentences(phrase) : 여러 문장을 분리"
   ]
  },
  {
   "cell_type": "code",
   "execution_count": 9,
   "metadata": {
    "colab": {
     "base_uri": "https://localhost:8080/"
    },
    "executionInfo": {
     "elapsed": 17532,
     "status": "ok",
     "timestamp": 1697798397425,
     "user": {
      "displayName": "bandal_lab이세우",
      "userId": "06927367528797360084"
     },
     "user_tz": -540
    },
    "id": "3ZhOwQTxqrKQ",
    "outputId": "d7031de4-2ea2-4760-8695-d3d0ef170cc5"
   },
   "outputs": [
    {
     "name": "stdout",
     "output_type": "stream",
     "text": [
      "['나', '는', '누구', '이', '고', '여기', '는', '어디', '이', 'ㄴ가', '.']\n",
      "[('나', 'NP'), ('는', 'JX'), ('누구', 'NP'), ('이', 'VCP'), ('고', 'ECE'), ('여기', 'NP'), ('는', 'JX'), ('어디', 'NP'), ('이', 'VCP'), ('ㄴ가', 'EFQ'), ('.', 'SF')]\n",
      "['나', '누구', '여기', '어디']\n",
      "['오늘 날 시 어 때요?', '내일은 춥다 던데.']\n"
     ]
    }
   ],
   "source": [
    "from konlpy.tag import Kkma\n",
    "\n",
    "kkma = Kkma()\n",
    "text = '나는 누구이고 여기는 어디인가.'\n",
    "\n",
    "morphs = kkma.morphs(text)\n",
    "print(morphs)\n",
    "\n",
    "pos = kkma.pos(text)\n",
    "print(pos)\n",
    "\n",
    "noun = kkma.nouns(text)\n",
    "print(noun)\n",
    "\n",
    "sentences = '오늘 날시 어때요? 내일은 춥다던데.'\n",
    "s = kkma.sentences(sentences)\n",
    "print(s)\n"
   ]
  },
  {
   "cell_type": "markdown",
   "metadata": {
    "id": "Ib2rf-apq4XK"
   },
   "source": [
    "## Komoran(코모란)\n",
    "* Korean Morphological ANalyzer, Shineware\n",
    "* https://github.com/shineware/KOMORAN\n",
    "* https://www.shineware.co.kr/products/komoran/\n",
    "* API\n",
    "    * morphs(phrase) : 문장을 형태소 단위로 토크나이징하고 리스트로 반환\n",
    "    * nouns(phrase) : 문장을 명사 품사만 토큰나이징\n",
    "    * pos(phrase, flatten=True) : 문장을 형태소와 품사 태크를 튜플로 묶어 리스트로 반환"
   ]
  },
  {
   "cell_type": "code",
   "execution_count": 10,
   "metadata": {
    "colab": {
     "base_uri": "https://localhost:8080/"
    },
    "executionInfo": {
     "elapsed": 7666,
     "status": "ok",
     "timestamp": 1697798589617,
     "user": {
      "displayName": "bandal_lab이세우",
      "userId": "06927367528797360084"
     },
     "user_tz": -540
    },
    "id": "Qj9p0kL5qytN",
    "outputId": "66b5d13e-8f81-4169-e871-b69df37be917"
   },
   "outputs": [
    {
     "name": "stdout",
     "output_type": "stream",
     "text": [
      "['나', '는', '누구', '이', '고', '여기', '는', '어디', '이', 'ㄴ가', '.']\n",
      "[('나', 'NP'), ('는', 'JX'), ('누구', 'NP'), ('이', 'VCP'), ('고', 'EC'), ('여기', 'NP'), ('는', 'JX'), ('어디', 'NP'), ('이', 'VCP'), ('ㄴ가', 'EF'), ('.', 'SF')]\n",
      "[]\n",
      "['아버지', '방']\n"
     ]
    }
   ],
   "source": [
    "from konlpy.tag import Komoran\n",
    "\n",
    "komoran = Komoran()\n",
    "text = '나는 누구이고 여기는 어디인가.'\n",
    "\n",
    "morphs = komoran.morphs(text)\n",
    "print(morphs)\n",
    "\n",
    "pos = komoran.pos(text)\n",
    "print(pos)\n",
    "\n",
    "noun = komoran.nouns(text)\n",
    "print(noun)\n",
    "\n",
    "noun = komoran.nouns(\"아버지가 방에 들어 가신다.\")\n",
    "print(noun)"
   ]
  },
  {
   "cell_type": "markdown",
   "metadata": {
    "id": "UeFOsYUdtiSE"
   },
   "source": [
    "## Okt\n",
    "* Open source Korean Text Processor, Fork of Twitter\n",
    "* https://github.com/open-korean-text/open-korean-text\n",
    "* 완전한 형태소 분석 미지원\n",
    "* API\n",
    "    * morphs(phrase) : 문장을 형태소 단위로 토크나이징하고 리스트로 반환\n",
    "    * nouns(phrase) : 문장을 명사 품사만 토큰나이징\n",
    "    * pos(phrase, stem=False, join=False) : 문장을 형태소와 품사 태크를 튜플로 묶어 리스트로 반환\n",
    "    * normlize(phrase) : 문장을 정규화\n",
    "        * 예)before: 사랑햌ㅋ -> after: 사랑해ㅋㅋ\n",
    "    * phrases(phrase) : 문장에서 어구 추출"
   ]
  },
  {
   "cell_type": "code",
   "execution_count": 11,
   "metadata": {
    "colab": {
     "base_uri": "https://localhost:8080/"
    },
    "executionInfo": {
     "elapsed": 10525,
     "status": "ok",
     "timestamp": 1697799329575,
     "user": {
      "displayName": "bandal_lab이세우",
      "userId": "06927367528797360084"
     },
     "user_tz": -540
    },
    "id": "tU-o3ZCqtjaU",
    "outputId": "5a8b4d93-64b9-4515-c704-db802be28838"
   },
   "outputs": [
    {
     "name": "stdout",
     "output_type": "stream",
     "text": [
      "['나', '는', '누구', '이고', '여기는', '어디', '인가', '.']\n",
      "[('나', 'Noun'), ('는', 'Josa'), ('누구', 'Noun'), ('이고', 'Josa'), ('여기는', 'Verb'), ('어디', 'Noun'), ('인가', 'Josa'), ('.', 'Punctuation')]\n",
      "['나', '누구', '어디']\n",
      "['아버지', '방']\n",
      "오늘 날씨가 좋아요ㅋㅋ\n"
     ]
    }
   ],
   "source": [
    "#from konlpy.tag import Twitter\n",
    "from konlpy.tag import Okt\n",
    "\n",
    "okt = Okt()\n",
    "text = '나는 누구이고 여기는 어디인가.'\n",
    "\n",
    "morphs = okt.morphs(text)\n",
    "print(morphs)\n",
    "\n",
    "pos = okt.pos(text)\n",
    "print(pos)\n",
    "\n",
    "noun = okt.nouns(text)\n",
    "print(noun)\n",
    "\n",
    "noun = okt.nouns(\"아버지가 방에 들어 가신다.\")\n",
    "print(noun)\n",
    "\n",
    "print(okt.normalize('오늘 날씨가 좋아욬ㅋㅋ'))"
   ]
  },
  {
   "cell_type": "markdown",
   "metadata": {
    "id": "YhmZNYhZxReV"
   },
   "source": [
    "# Dummy Chattbot\n",
    "* 모델 학습 없이 자연어 생성"
   ]
  },
  {
   "cell_type": "code",
   "execution_count": 1,
   "metadata": {},
   "outputs": [],
   "source": [
    "import os\n",
    "os.environ[\"HTTP_PROXY\"] = \"70.10.15.10:8080\"\n",
    "os.environ['HTTPS_PROXY'] = \"70.10.15.10:8080\"\n",
    "os.environ['CURL_CA_BUNDLE'] = ''\n",
    "os.environ['PYTHONHTTPSVERIFY'] ='0' \n",
    "\n",
    "import ssl\n",
    "ssl._create_default_https_context = ssl._create_unverified_context\n",
    "\n"
   ]
  },
  {
   "cell_type": "code",
   "execution_count": 2,
   "metadata": {
    "executionInfo": {
     "elapsed": 5,
     "status": "ok",
     "timestamp": 1698194238509,
     "user": {
      "displayName": "bandal_lab이세우",
      "userId": "06927367528797360084"
     },
     "user_tz": -540
    },
    "id": "UP1L7jESQlDb"
   },
   "outputs": [],
   "source": [
    "# 강사가 파일을 제공한 경우 실행하지 마세요.\n",
    "from urllib import request\n",
    "\n",
    "url_script = 'https://raw.githubusercontent.com/dltpdn/download/master/csv/script.txt'\n",
    "script_file = 'script.txt'\n",
    "\n",
    "with request.urlopen(url_script) as r:\n",
    "  with open(script_file, 'wb') as f:\n",
    "\n",
    "    f.write(r.read())"
   ]
  },
  {
   "cell_type": "code",
   "execution_count": 14,
   "metadata": {
    "executionInfo": {
     "elapsed": 288,
     "status": "ok",
     "timestamp": 1698194301144,
     "user": {
      "displayName": "bandal_lab이세우",
      "userId": "06927367528797360084"
     },
     "user_tz": -540
    },
    "id": "5QcaxiMDQ9XZ"
   },
   "outputs": [],
   "source": [
    "# 강사가 파일을 제공한 경우 실행하지 마세요.\n",
    "from urllib import request\n",
    "\n",
    "url_dict = 'https://raw.githubusercontent.com/dltpdn/download/master/csv/chatbot-data.json'\n",
    "dict_file = 'chatbot-data.json'\n",
    "\n",
    "with request.urlopen(url_dict) as r:\n",
    "  with open(dict_file, 'wb') as f:\n",
    "    f.write(r.read())"
   ]
  },
  {
   "cell_type": "code",
   "execution_count": 15,
   "metadata": {
    "colab": {
     "base_uri": "https://localhost:8080/"
    },
    "executionInfo": {
     "elapsed": 854,
     "status": "ok",
     "timestamp": 1697802042484,
     "user": {
      "displayName": "bandal_lab이세우",
      "userId": "06927367528797360084"
     },
     "user_tz": -540
    },
    "id": "vrgowhDw0Ka-",
    "outputId": "f68d4fe7-08ca-48ad-e6d5-c43d3110e94c"
   },
   "outputs": [
    {
     "name": "stdout",
     "output_type": "stream",
     "text": [
      "dictionary loaded.\n",
      "trained using script .\n"
     ]
    }
   ],
   "source": [
    "import codecs\n",
    "from bs4 import BeautifulSoup\n",
    "import urllib.request\n",
    "from konlpy.tag import Okt\n",
    "import os, re, json, random\n",
    "\n",
    "script_file = 'script.txt'\n",
    "dict_file = \"./chatbot-data.json\"\n",
    "dic = {}\n",
    "okt = Okt()\n",
    "\n",
    "def register_dic(words, save=True):\n",
    "    global dic\n",
    "    if len(words) == 0: return\n",
    "    tmp = [\"@\"]\n",
    "    for word in words:\n",
    "        #word = i[0]\n",
    "        if word == \"\" or word == \"\\r\\n\" or word == \"\\n\": continue\n",
    "        tmp.append(word)\n",
    "        if len(tmp) < 3: continue\n",
    "        if len(tmp) > 3: tmp = tmp[1:]\n",
    "        set_word3(dic, tmp)\n",
    "        if word == \".\" or word == \"?\":\n",
    "            tmp = [\"@\"]\n",
    "            continue\n",
    "    # 딕셔너리가 변경될 때마다 저장하기\n",
    "    if save:\n",
    "        json.dump(dic, open(dict_file,\"w\", encoding=\"utf-8\"))\n",
    "\n",
    "def set_word3(dic, s3):\n",
    "    w1, w2, w3 = s3\n",
    "    if not w1 in dic: dic[w1] = {}\n",
    "    if not w2 in dic[w1]: dic[w1][w2] = {}\n",
    "    if not w3 in dic[w1][w2]: dic[w1][w2][w3] = 0\n",
    "    dic[w1][w2][w3] += 1\n",
    "\n",
    "def make_sentence(head):\n",
    "    if not head in dic: return \"\"\n",
    "    ret = []\n",
    "    if head != \"@\": ret.append(head)\n",
    "    top = dic[head]\n",
    "    w1 = word_choice(top)\n",
    "    w2 = word_choice(top[w1])\n",
    "    ret.append(w1)\n",
    "    ret.append(w2)\n",
    "    while True:\n",
    "        if w1 in dic and w2 in dic[w1]:\n",
    "            w3 = word_choice(dic[w1][w2])\n",
    "        else:\n",
    "            w3 = \"\"\n",
    "        ret.append(w3)\n",
    "        if w3 == \".\" or w3 == \"?\" or w3 == \"\": break\n",
    "        w1, w2 = w2, w3\n",
    "    ret = \"\".join(ret)\n",
    "    return ret\n",
    "\n",
    "def word_choice(sel):\n",
    "    keys = sel.keys()\n",
    "    return random.choice(list(keys))\n",
    "\n",
    "\n",
    "def make_reply(text):\n",
    "    # 문장 끝에 구두점 추가\n",
    "    if not text[-1] in [\".\", \"?\"]: text += \".\"\n",
    "    #문장 파싱후 단어 등록\n",
    "    words = okt.morphs(text)\n",
    "    register_dic(words)\n",
    "    # 가장 먼저 발견된 단어가 사전에 있다면 그것을 기반으로 문장생성\n",
    "    for word in words:\n",
    "        if word in dic: return make_sentence(word)\n",
    "    #아니면 시작 단어로 문장 생성\n",
    "    return make_sentence(\"@\")\n",
    "\n",
    "\n",
    "\n",
    "# 딕셔너리가 있다면 읽어 들이기\n",
    "if os.path.exists(dict_file):\n",
    "    dic = json.load(open(dict_file,\"r\"))\n",
    "    print(\"dictionary loaded.\")\n",
    "else:\n",
    "    print(\"no dictionary. trainning chatbot is needed.\")\n",
    "\n",
    "if os.path.exists(script_file):\n",
    "    f = open(script_file, 'rt', encoding='UTF8')\n",
    "    while True:\n",
    "        line = f.readline()\n",
    "        if not line :\n",
    "            break\n",
    "        line = line.strip()\n",
    "        if line == \"\"  :\n",
    "            continue\n",
    "        if not line[-1] in [\".\", \"?\"]: line += \".\"\n",
    "        words = okt.morphs(line)\n",
    "        register_dic(words, save=False)\n",
    "    json.dump(dic, open(dict_file,\"w\", encoding=\"utf-8\"))\n",
    "    print(\"trained using script .\")\n",
    "else:\n",
    "    print(\"no script file. \")\n"
   ]
  },
  {
   "cell_type": "code",
   "execution_count": 16,
   "metadata": {
    "colab": {
     "base_uri": "https://localhost:8080/"
    },
    "executionInfo": {
     "elapsed": 71415,
     "status": "ok",
     "timestamp": 1697802255304,
     "user": {
      "displayName": "bandal_lab이세우",
      "userId": "06927367528797360084"
     },
     "user_tz": -540
    },
    "id": "5ph2tZd20rfV",
    "outputId": "b9a217e2-b013-4158-984b-4c21d084eb53"
   },
   "outputs": [
    {
     "name": "stdout",
     "output_type": "stream",
     "text": [
      "대화를 종료하시려면 'exit'를 입력하세요.\n"
     ]
    },
    {
     "name": "stdout",
     "output_type": "stream",
     "text": [
      "You : 배고파요\n"
     ]
    },
    {
     "name": "stdout",
     "output_type": "stream",
     "text": [
      "Bot :내가몸좀쓸게.\n"
     ]
    },
    {
     "name": "stdout",
     "output_type": "stream",
     "text": [
      "You : 안녕?\n"
     ]
    },
    {
     "name": "stdout",
     "output_type": "stream",
     "text": [
      "Bot :안녕들하세요.\n"
     ]
    },
    {
     "name": "stdout",
     "output_type": "stream",
     "text": [
      "You : 잘가\n"
     ]
    },
    {
     "name": "stdout",
     "output_type": "stream",
     "text": [
      "Bot :꺼지쇼.\n"
     ]
    },
    {
     "name": "stdout",
     "output_type": "stream",
     "text": [
      "You : exit\n"
     ]
    },
    {
     "name": "stdout",
     "output_type": "stream",
     "text": [
      "Bye~\n"
     ]
    }
   ],
   "source": [
    "print(\"대화를 종료하시려면 'exit'를 입력하세요.\")\n",
    "while True:\n",
    "    txt = input(\"You :\")\n",
    "    #print('You:', txt)\n",
    "    if txt == \"exit\":\n",
    "        print(\"Bye~\")\n",
    "        break\n",
    "    reply = make_reply(txt)\n",
    "    print(\"Bot :%s\"%reply)"
   ]
  },
  {
   "cell_type": "markdown",
   "metadata": {
    "id": "K9wRL36Uuv8c"
   },
   "source": [
    "# 자연어 생성 모델"
   ]
  },
  {
   "cell_type": "markdown",
   "metadata": {
    "id": "YNZZmCSJvzfd"
   },
   "source": [
    "## Data 준비"
   ]
  },
  {
   "cell_type": "code",
   "execution_count": 3,
   "metadata": {
    "colab": {
     "base_uri": "https://localhost:8080/",
     "height": 225
    },
    "executionInfo": {
     "elapsed": 2755,
     "status": "ok",
     "timestamp": 1698194523612,
     "user": {
      "displayName": "bandal_lab이세우",
      "userId": "06927367528797360084"
     },
     "user_tz": -540
    },
    "id": "NlmepR5gvvNj",
    "outputId": "b12ac6af-d211-4eba-da39-99bc0bb49482"
   },
   "outputs": [
    {
     "data": {
      "text/html": [
       "<div>\n",
       "<style scoped>\n",
       "    .dataframe tbody tr th:only-of-type {\n",
       "        vertical-align: middle;\n",
       "    }\n",
       "\n",
       "    .dataframe tbody tr th {\n",
       "        vertical-align: top;\n",
       "    }\n",
       "\n",
       "    .dataframe thead th {\n",
       "        text-align: right;\n",
       "    }\n",
       "</style>\n",
       "<table border=\"1\" class=\"dataframe\">\n",
       "  <thead>\n",
       "    <tr style=\"text-align: right;\">\n",
       "      <th></th>\n",
       "      <th>id</th>\n",
       "      <th>document</th>\n",
       "      <th>label</th>\n",
       "    </tr>\n",
       "  </thead>\n",
       "  <tbody>\n",
       "    <tr>\n",
       "      <th>0</th>\n",
       "      <td>9976970</td>\n",
       "      <td>아 더빙.. 진짜 짜증나네요 목소리</td>\n",
       "      <td>0</td>\n",
       "    </tr>\n",
       "    <tr>\n",
       "      <th>1</th>\n",
       "      <td>3819312</td>\n",
       "      <td>흠...포스터보고 초딩영화줄....오버연기조차 가볍지 않구나</td>\n",
       "      <td>1</td>\n",
       "    </tr>\n",
       "    <tr>\n",
       "      <th>2</th>\n",
       "      <td>10265843</td>\n",
       "      <td>너무재밓었다그래서보는것을추천한다</td>\n",
       "      <td>0</td>\n",
       "    </tr>\n",
       "    <tr>\n",
       "      <th>3</th>\n",
       "      <td>9045019</td>\n",
       "      <td>교도소 이야기구먼 ..솔직히 재미는 없다..평점 조정</td>\n",
       "      <td>0</td>\n",
       "    </tr>\n",
       "    <tr>\n",
       "      <th>4</th>\n",
       "      <td>6483659</td>\n",
       "      <td>사이몬페그의 익살스런 연기가 돋보였던 영화!스파이더맨에서 늙어보이기만 했던 커스틴 ...</td>\n",
       "      <td>1</td>\n",
       "    </tr>\n",
       "  </tbody>\n",
       "</table>\n",
       "</div>"
      ],
      "text/plain": [
       "         id                                           document  label\n",
       "0   9976970                                아 더빙.. 진짜 짜증나네요 목소리      0\n",
       "1   3819312                  흠...포스터보고 초딩영화줄....오버연기조차 가볍지 않구나      1\n",
       "2  10265843                                  너무재밓었다그래서보는것을추천한다      0\n",
       "3   9045019                      교도소 이야기구먼 ..솔직히 재미는 없다..평점 조정      0\n",
       "4   6483659  사이몬페그의 익살스런 연기가 돋보였던 영화!스파이더맨에서 늙어보이기만 했던 커스틴 ...      1"
      ]
     },
     "metadata": {},
     "output_type": "display_data"
    },
    {
     "name": "stdout",
     "output_type": "stream",
     "text": [
      "(150000, 3)\n"
     ]
    }
   ],
   "source": [
    "import pandas as pd\n",
    "url_train = 'https://raw.githubusercontent.com/e9t/nsmc/master/ratings_train.txt'\n",
    "train = pd.read_csv(url_train, sep='\\t')\n",
    "display(train.head())\n",
    "print(train.shape)"
   ]
  },
  {
   "cell_type": "code",
   "execution_count": 18,
   "metadata": {
    "colab": {
     "base_uri": "https://localhost:8080/",
     "height": 269
    },
    "executionInfo": {
     "elapsed": 8,
     "status": "ok",
     "timestamp": 1697802528801,
     "user": {
      "displayName": "bandal_lab이세우",
      "userId": "06927367528797360084"
     },
     "user_tz": -540
    },
    "id": "ID3XCI2EwPiu",
    "outputId": "7735149c-d3c7-4d04-bd9a-23dc7ca313a6"
   },
   "outputs": [
    {
     "data": {
      "text/html": [
       "<div>\n",
       "<style scoped>\n",
       "    .dataframe tbody tr th:only-of-type {\n",
       "        vertical-align: middle;\n",
       "    }\n",
       "\n",
       "    .dataframe tbody tr th {\n",
       "        vertical-align: top;\n",
       "    }\n",
       "\n",
       "    .dataframe thead th {\n",
       "        text-align: right;\n",
       "    }\n",
       "</style>\n",
       "<table border=\"1\" class=\"dataframe\">\n",
       "  <thead>\n",
       "    <tr style=\"text-align: right;\">\n",
       "      <th></th>\n",
       "      <th>id</th>\n",
       "      <th>document</th>\n",
       "      <th>label</th>\n",
       "    </tr>\n",
       "  </thead>\n",
       "  <tbody>\n",
       "    <tr>\n",
       "      <th>1000</th>\n",
       "      <td>9856453</td>\n",
       "      <td>정말 최고의 명작 성인이 되고 본 이집트의 왕자는 또 다른 감동 그자체네요</td>\n",
       "      <td>1</td>\n",
       "    </tr>\n",
       "    <tr>\n",
       "      <th>1001</th>\n",
       "      <td>6961803</td>\n",
       "      <td>이영화만 성공 했어도 스퀘어가 에닉스랑 합병 할일은 없었을텐데..</td>\n",
       "      <td>0</td>\n",
       "    </tr>\n",
       "    <tr>\n",
       "      <th>1002</th>\n",
       "      <td>8681713</td>\n",
       "      <td>울컥하는 사회현실 ㅠㅠ</td>\n",
       "      <td>1</td>\n",
       "    </tr>\n",
       "    <tr>\n",
       "      <th>1003</th>\n",
       "      <td>5348290</td>\n",
       "      <td>기대를하나도안하면 할일없을때보기좋은영화</td>\n",
       "      <td>0</td>\n",
       "    </tr>\n",
       "    <tr>\n",
       "      <th>1004</th>\n",
       "      <td>9340549</td>\n",
       "      <td>소림사 관문 통과하기 진짜 어렵다는거 보여준 영화..극장에서 개봉하는거 반갑다..</td>\n",
       "      <td>1</td>\n",
       "    </tr>\n",
       "    <tr>\n",
       "      <th>1005</th>\n",
       "      <td>7357684</td>\n",
       "      <td>시리즈안나오나 ㅠㅠㅠㅠㅠㅠㅠㅠ</td>\n",
       "      <td>1</td>\n",
       "    </tr>\n",
       "    <tr>\n",
       "      <th>1006</th>\n",
       "      <td>9303587</td>\n",
       "      <td>끝난다는 사실이 너무 슬퍼요. 가슴이 뻥 뚫려버린것같아..</td>\n",
       "      <td>1</td>\n",
       "    </tr>\n",
       "  </tbody>\n",
       "</table>\n",
       "</div>"
      ],
      "text/plain": [
       "           id                                       document  label\n",
       "1000  9856453      정말 최고의 명작 성인이 되고 본 이집트의 왕자는 또 다른 감동 그자체네요      1\n",
       "1001  6961803           이영화만 성공 했어도 스퀘어가 에닉스랑 합병 할일은 없었을텐데..      0\n",
       "1002  8681713                                   울컥하는 사회현실 ㅠㅠ      1\n",
       "1003  5348290                          기대를하나도안하면 할일없을때보기좋은영화      0\n",
       "1004  9340549  소림사 관문 통과하기 진짜 어렵다는거 보여준 영화..극장에서 개봉하는거 반갑다..      1\n",
       "1005  7357684                               시리즈안나오나 ㅠㅠㅠㅠㅠㅠㅠㅠ      1\n",
       "1006  9303587               끝난다는 사실이 너무 슬퍼요. 가슴이 뻥 뚫려버린것같아..      1"
      ]
     },
     "execution_count": 18,
     "metadata": {},
     "output_type": "execute_result"
    }
   ],
   "source": [
    "train[1000:1007]"
   ]
  },
  {
   "cell_type": "markdown",
   "metadata": {
    "id": "mFbxoaKj9m3v"
   },
   "source": [
    "## 전처리 및 Tokenizing"
   ]
  },
  {
   "cell_type": "code",
   "execution_count": null,
   "metadata": {
    "colab": {
     "base_uri": "https://localhost:8080/"
    },
    "executionInfo": {
     "elapsed": 10272,
     "status": "ok",
     "timestamp": 1697805352029,
     "user": {
      "displayName": "bandal_lab이세우",
      "userId": "06927367528797360084"
     },
     "user_tz": -540
    },
    "id": "7Dcmf1GX6tKB",
    "outputId": "79ace78e-967d-4982-dfe2-4f4ec4595655"
   },
   "outputs": [
    {
     "name": "stderr",
     "output_type": "stream",
     "text": [
      "<ipython-input-92-0558ffe25af2>:4: FutureWarning: The default value of regex will change from True to False in a future version.\n",
      "  df['document'] = df['document'].str.replace(\"[^A-Za-z0-9가-힣ㄱ-ㅎㅏ-ㅣ ]\",\"\")\n"
     ]
    },
    {
     "name": "stdout",
     "output_type": "stream",
     "text": [
      "2000\n",
      "1000    [정말, 최고, 의, 명작, 성인, 이, 되고, 본, 이집트, 의, 왕자, 는, 또...\n",
      "1001    [이영화, 만, 성공, 했어도, 스퀘어, 가, 에, 닉스, 랑, 합병, 할, 일, ...\n",
      "1002                          [울컥, 하는, 사회, 현실, ㅠㅠ, <eos>]\n",
      "1003    [기대, 를, 하나, 도안, 하, 면, 할, 일, 없을, 때, 보기, 좋은, 영화,...\n",
      "1004    [소림사, 관문, 통과, 하기, 진짜, 어렵다는거, 보여준, 영화, 극장, 에서, ...\n",
      "1005                       [시리즈, 안, 나오나, ㅠㅠㅠㅠㅠㅠㅠㅠ, <eos>]\n",
      "1006    [끝난다는, 사실, 이, 너무, 슬퍼요, 가슴, 이, 뻥, 뚫려, 버린것, 같아, ...\n",
      "1007                                      [펑점, 조절, <eos>]\n",
      "1008                     [와이, 건, 진짜, 으리, 으리, 한, 데, <eos>]\n",
      "1009                         [손발, 이, 오, 그라드, 네, 요, <eos>]\n",
      "Name: document, dtype: object\n"
     ]
    }
   ],
   "source": [
    "okt = Okt()\n",
    "def preprocessing(df):\n",
    "  df = df.dropna()\n",
    "  df['document'] = df['document'].str.replace(\"[^A-Za-z0-9가-힣ㄱ-ㅎㅏ-ㅣ ]\",\"\")\n",
    "  data =  df['document'].apply(lambda x: [word for word in okt.morphs(x)] + ['<eos>']) #각 문장의 끝에 '<eos>' 추가\n",
    "  return data\n",
    "\n",
    "review = preprocessing(train[1000:3000])  # 샘플 데이터 2000개, 학습시간을 줄이고자 함\n",
    "print(len(review))\n",
    "print(review[:10])"
   ]
  },
  {
   "cell_type": "markdown",
   "metadata": {
    "id": "sx_BWR5f963j"
   },
   "source": [
    "## Text to Sequence"
   ]
  },
  {
   "cell_type": "code",
   "execution_count": null,
   "metadata": {
    "colab": {
     "base_uri": "https://localhost:8080/"
    },
    "executionInfo": {
     "elapsed": 974,
     "status": "ok",
     "timestamp": 1697803414574,
     "user": {
      "displayName": "bandal_lab이세우",
      "userId": "06927367528797360084"
     },
     "user_tz": -540
    },
    "id": "um_YjznX68jP",
    "outputId": "cd4d5336-1992-4e9c-b721-5cb160e63862"
   },
   "outputs": [
    {
     "data": {
      "text/plain": [
       "[tensor([ 127,   14, 1973, 1459, 5097,    5,    6, 3482,  134, 7349,   85,  128,\n",
       "           11, 5636]),\n",
       " tensor([ 127,   14, 1973, 1459, 5097,    5,    6, 3482,  134, 7349,   85,  128,\n",
       "           11, 5636,    1]),\n",
       " tensor([1339,   43]),\n",
       " tensor([1339,   43,  907]),\n",
       " tensor([1339,   43,  907,  144]),\n",
       " tensor([1339,   43,  907,  144,  122]),\n",
       " tensor([1339,   43,  907,  144,  122,    1]),\n",
       " tensor([349,  10]),\n",
       " tensor([349,  10, 100])]"
      ]
     },
     "execution_count": 61,
     "metadata": {},
     "output_type": "execute_result"
    }
   ],
   "source": [
    "from torchtext.vocab import build_vocab_from_iterator\n",
    "\n",
    "vocab = build_vocab_from_iterator(review.values, specials=['<pad>'])\n",
    "def get_tokens(review):\n",
    "\n",
    "  total_words = len(vocab)\n",
    "  tokenized_sentences = [ torch.tensor(vocab(text)) for text in review]\n",
    "  input_sequences = []\n",
    "  for token in tokenized_sentences:\n",
    "    for t in range(1, len(token)):\n",
    "        n_gram_sequence = token[:t+1]\n",
    "        input_sequences.append(n_gram_sequence)\n",
    "\n",
    "  return input_sequences, total_words\n",
    "\n",
    "input_sequences, total_words = get_tokens(review)\n",
    "input_sequences[31:40]"
   ]
  },
  {
   "cell_type": "code",
   "execution_count": null,
   "metadata": {
    "colab": {
     "base_uri": "https://localhost:8080/"
    },
    "executionInfo": {
     "elapsed": 498,
     "status": "ok",
     "timestamp": 1697803420964,
     "user": {
      "displayName": "bandal_lab이세우",
      "userId": "06927367528797360084"
     },
     "user_tz": -540
    },
    "id": "XddoBC287B0e",
    "outputId": "1a8965e6-a27e-4532-8778-4b9d658fbdb1"
   },
   "outputs": [
    {
     "data": {
      "text/plain": [
       "[0, 1]"
      ]
     },
     "execution_count": 62,
     "metadata": {},
     "output_type": "execute_result"
    }
   ],
   "source": [
    "vocab(['<pad>', '<eos>'])"
   ]
  },
  {
   "cell_type": "code",
   "execution_count": null,
   "metadata": {
    "colab": {
     "base_uri": "https://localhost:8080/"
    },
    "executionInfo": {
     "elapsed": 3,
     "status": "ok",
     "timestamp": 1697803420964,
     "user": {
      "displayName": "bandal_lab이세우",
      "userId": "06927367528797360084"
     },
     "user_tz": -540
    },
    "id": "amjXQlFC7Dcw",
    "outputId": "f2a0e9bb-5d00-44a4-c310-e8c6a220ba16"
   },
   "outputs": [
    {
     "data": {
      "text/plain": [
       "7592"
      ]
     },
     "execution_count": 63,
     "metadata": {},
     "output_type": "execute_result"
    }
   ],
   "source": [
    "total_words"
   ]
  },
  {
   "cell_type": "markdown",
   "metadata": {
    "id": "tB1HZu7b-FOJ"
   },
   "source": [
    "## Padding"
   ]
  },
  {
   "cell_type": "code",
   "execution_count": null,
   "metadata": {
    "id": "xAAsXQL-7Fmt"
   },
   "outputs": [],
   "source": [
    "from torch.nn.utils.rnn import pad_sequence\n",
    "def custom_padding(sequences, maxlen=None, padding='pre', pad=0.0):\n",
    "    if maxlen:\n",
    "        sequences.append(torch.LongTensor([pad]*maxlen))\n",
    "\n",
    "    if padding == 'post':\n",
    "        result = pad_sequence(sequences, batch_first=True, padding_value=pad)\n",
    "    elif padding == 'pre':\n",
    "        temp_seqs = [seq.flip(-1) for seq in sequences]\n",
    "        result = pad_sequence(temp_seqs, batch_first=True, padding_value=pad).flip(-1)\n",
    "\n",
    "    if maxlen:\n",
    "        sequences.pop()\n",
    "    return result[:-1]"
   ]
  },
  {
   "cell_type": "code",
   "execution_count": null,
   "metadata": {
    "colab": {
     "base_uri": "https://localhost:8080/"
    },
    "executionInfo": {
     "elapsed": 4778,
     "status": "ok",
     "timestamp": 1697803435448,
     "user": {
      "displayName": "bandal_lab이세우",
      "userId": "06927367528797360084"
     },
     "user_tz": -540
    },
    "id": "zTbDq50P7H4c",
    "outputId": "6c75062d-61b8-48fb-88c0-8d8a9008f611"
   },
   "outputs": [
    {
     "name": "stdout",
     "output_type": "stream",
     "text": [
      "max_len: 60\n"
     ]
    },
    {
     "data": {
      "text/plain": [
       "torch.Size([26352, 60])"
      ]
     },
     "execution_count": 65,
     "metadata": {},
     "output_type": "execute_result"
    }
   ],
   "source": [
    "max_len = max([len(word) for word in input_sequences])\n",
    "print(\"max_len:\", max_len)\n",
    "input_sequences = custom_padding(input_sequences,\n",
    "                                         #maxlen=max_len,\n",
    "                                         padding='pre')\n",
    "input_sequences.shape"
   ]
  },
  {
   "cell_type": "code",
   "execution_count": null,
   "metadata": {
    "colab": {
     "base_uri": "https://localhost:8080/"
    },
    "executionInfo": {
     "elapsed": 13,
     "status": "ok",
     "timestamp": 1697803435448,
     "user": {
      "displayName": "bandal_lab이세우",
      "userId": "06927367528797360084"
     },
     "user_tz": -540
    },
    "id": "4F1lEW1U7KHN",
    "outputId": "b1c5e3aa-ed39-40ed-d1b9-ed44251b3c30"
   },
   "outputs": [
    {
     "data": {
      "text/plain": [
       "(tensor([[ 0,  0,  0,  0,  0,  0,  0,  0,  0,  0,  0,  0,  0,  0,  0,  0,  0,  0,\n",
       "           0,  0,  0,  0,  0,  0,  0,  0,  0,  0,  0,  0,  0,  0,  0,  0,  0,  0,\n",
       "           0,  0,  0,  0,  0,  0,  0,  0,  0,  0,  0,  0,  0,  0,  0,  0,  0,  0,\n",
       "           0,  0,  0,  0, 16],\n",
       "         [ 0,  0,  0,  0,  0,  0,  0,  0,  0,  0,  0,  0,  0,  0,  0,  0,  0,  0,\n",
       "           0,  0,  0,  0,  0,  0,  0,  0,  0,  0,  0,  0,  0,  0,  0,  0,  0,  0,\n",
       "           0,  0,  0,  0,  0,  0,  0,  0,  0,  0,  0,  0,  0,  0,  0,  0,  0,  0,\n",
       "           0,  0,  0, 16, 37]]),\n",
       " tensor([37,  4]))"
      ]
     },
     "execution_count": 66,
     "metadata": {},
     "output_type": "execute_result"
    }
   ],
   "source": [
    "X = input_sequences[:,:-1]  # 마지막 단어 제외함\n",
    "y = input_sequences[:,-1]\n",
    "X[:2], y[:2]"
   ]
  },
  {
   "cell_type": "code",
   "execution_count": null,
   "metadata": {
    "colab": {
     "base_uri": "https://localhost:8080/"
    },
    "executionInfo": {
     "elapsed": 281,
     "status": "ok",
     "timestamp": 1697803449257,
     "user": {
      "displayName": "bandal_lab이세우",
      "userId": "06927367528797360084"
     },
     "user_tz": -540
    },
    "id": "77dwitSC7TYC",
    "outputId": "0ca3b608-32c9-4aec-e97a-10ecbac7c3ff"
   },
   "outputs": [
    {
     "data": {
      "text/plain": [
       "['정말', '최고', '의']"
      ]
     },
     "execution_count": 67,
     "metadata": {},
     "output_type": "execute_result"
    }
   ],
   "source": [
    "vocab.lookup_tokens([16, 37, 4])"
   ]
  },
  {
   "cell_type": "markdown",
   "metadata": {
    "id": "n9ix4BjQ-QNa"
   },
   "source": [
    "## Dataset, DataLoader"
   ]
  },
  {
   "cell_type": "code",
   "execution_count": null,
   "metadata": {
    "id": "6wstEciZ7VBr"
   },
   "outputs": [],
   "source": [
    "from torch.utils.data import TensorDataset, DataLoader\n",
    "\n",
    "ds = TensorDataset(X, y)\n",
    "loader = DataLoader(ds, batch_size=64, shuffle=True)"
   ]
  },
  {
   "cell_type": "markdown",
   "metadata": {
    "id": "U1dxbYPH-TKp"
   },
   "source": [
    "## 모델 정의 및 학습"
   ]
  },
  {
   "cell_type": "code",
   "execution_count": null,
   "metadata": {
    "id": "Z8t9Rd9W7XLc"
   },
   "outputs": [],
   "source": [
    "class TextGen(torch.nn.Module):\n",
    "    def __init__(self, vocab_size, embd_dim, num_class):\n",
    "        super().__init__()\n",
    "        self.embd = torch.nn.Embedding(vocab_size, embd_dim)\n",
    "        self.rnn = torch.nn.LSTM(embd_dim, 256, 2, bidirectional=True, batch_first=True)\n",
    "        self.fc = torch.nn.Linear(256*2, num_class)\n",
    "\n",
    "    def forward(self, x):\n",
    "        x = self.embd(x)\n",
    "        x, _ = self.rnn(x)\n",
    "        x = self.fc(x[:, -1,:])\n",
    "        return x"
   ]
  },
  {
   "cell_type": "code",
   "execution_count": null,
   "metadata": {
    "id": "20sbuuLL7my1"
   },
   "outputs": [],
   "source": [
    "def fit(model, loader, loss_fn, opt):\n",
    "  n_batch = len(loader)\n",
    "  loss=0\n",
    "  model.train()\n",
    "  for (x, y) in loader:\n",
    "    x, y = x.to(device), y.to(device)\n",
    "    y_pred = model(x)\n",
    "    cost = loss_fn(y_pred, y)\n",
    "    opt.zero_grad()\n",
    "    cost.backward()\n",
    "    opt.step()\n",
    "    loss += cost.item()/n_batch\n",
    "  return loss\n",
    "\n",
    "def evaluate_accuracy(model, loader):\n",
    "  acc=0\n",
    "  n_batch = len(loader)\n",
    "  model.eval()\n",
    "  with torch.no_grad():\n",
    "    for x, y in loader:\n",
    "      x, y = x.to(device), y.to(device)\n",
    "      y_pred = model(x)\n",
    "      proba = F.softmax(y_pred,dim=1)\n",
    "      idx = torch.argmax(proba, dim=1)\n",
    "      acc += torch.mean((idx == y.view_as(idx)).float())/n_batch\n",
    "  return acc"
   ]
  },
  {
   "cell_type": "code",
   "execution_count": null,
   "metadata": {
    "colab": {
     "base_uri": "https://localhost:8080/"
    },
    "executionInfo": {
     "elapsed": 151503,
     "status": "ok",
     "timestamp": 1697804315981,
     "user": {
      "displayName": "bandal_lab이세우",
      "userId": "06927367528797360084"
     },
     "user_tz": -540
    },
    "id": "FguCLt8T7aj9",
    "outputId": "6d99fab9-7f4e-41ad-fa70-4c458617c4ec"
   },
   "outputs": [
    {
     "name": "stdout",
     "output_type": "stream",
     "text": [
      "epoch=0, loss:7.533384280297364, acc:0.0810578390955925\n",
      "epoch=1, loss:6.944762714858192, acc:0.1146465390920639\n",
      "epoch=2, loss:6.38028072384954, acc:0.1593599170446396\n",
      "epoch=3, loss:5.440805133106636, acc:0.2906680107116699\n",
      "epoch=4, loss:4.150729133087456, acc:0.48692867159843445\n",
      "epoch=5, loss:2.8485134793716758, acc:0.6542397737503052\n",
      "epoch=6, loss:1.873138834261199, acc:0.7894172072410583\n",
      "epoch=7, loss:1.2109816398435431, acc:0.8756060600280762\n",
      "epoch=8, loss:0.7671502511767503, acc:0.922569990158081\n",
      "epoch=9, loss:0.48219389287592146, acc:0.9481570720672607\n"
     ]
    }
   ],
   "source": [
    "model = TextGen(len(vocab), 256, total_words).to(device)\n",
    "loss_fn = torch.nn.CrossEntropyLoss()\n",
    "opt = torch.optim.Adam(model.parameters())\n",
    "\n",
    "for epoch in range(10):\n",
    "  loss = fit(model, loader, loss_fn, opt)\n",
    "  acc  = evaluate_accuracy(model, loader)\n",
    "  print(f'epoch={epoch}, loss:{loss}, acc:{acc}')"
   ]
  },
  {
   "cell_type": "markdown",
   "metadata": {
    "id": "Ed8AWsTZBQS1"
   },
   "source": [
    "## 문장 생성"
   ]
  },
  {
   "cell_type": "code",
   "execution_count": null,
   "metadata": {
    "colab": {
     "base_uri": "https://localhost:8080/"
    },
    "executionInfo": {
     "elapsed": 3,
     "status": "ok",
     "timestamp": 1697942937342,
     "user": {
      "displayName": "bandal_lab이세우",
      "userId": "06927367528797360084"
     },
     "user_tz": -540
    },
    "id": "iYmdFuw5RWcD",
    "outputId": "c91913b2-d5b5-4c2c-9529-f30a25bc9286"
   },
   "outputs": [
    {
     "name": "stdout",
     "output_type": "stream",
     "text": [
      "2, 3, 3, 2, 3, 3, 4, 3, 2, 3, "
     ]
    }
   ],
   "source": [
    "# np.random.choice 선행 실습\n",
    "import numpy as np\n",
    "\n",
    "for i in range(10):\n",
    "  print(np.random.choice(5, p=[0.1, 0, 0.3, 0.5, 0.1]), end=', ')"
   ]
  },
  {
   "cell_type": "code",
   "execution_count": null,
   "metadata": {
    "id": "7UcRO0Ye8D6h"
   },
   "outputs": [],
   "source": [
    "eos = vocab(['<eos>'])[0]\n",
    "\n",
    "def gen_text(seed, stochastic=True, max_len=60, ):\n",
    "    seeds = [seed]\n",
    "    for _ in range(1, max_len):\n",
    "        token_list = vocab(seeds)\n",
    "        token_list = custom_padding([torch.tensor(token_list)],\n",
    "                                   maxlen=max_len-1,\n",
    "                                   padding='pre')\n",
    "        proba = F.softmax(model.cpu()(token_list), dim=1).detach().numpy()[0]\n",
    "        if stochastic:\n",
    "            # 확률 분포에 따른 확률적 선택\n",
    "            pred = np.random.choice(proba.shape[0], p=proba)\n",
    "        else:\n",
    "            # 최대값 인덱스, 가장 높은 확률 선택\n",
    "            pred = np.argmax(proba)\n",
    "        output = vocab.lookup_token(pred)\n",
    "        if pred == eos:\n",
    "            break\n",
    "        seeds.append(output)\n",
    "    return ' '.join(seeds)"
   ]
  },
  {
   "cell_type": "code",
   "execution_count": null,
   "metadata": {
    "colab": {
     "base_uri": "https://localhost:8080/",
     "height": 35
    },
    "executionInfo": {
     "elapsed": 394,
     "status": "ok",
     "timestamp": 1697804323685,
     "user": {
      "displayName": "bandal_lab이세우",
      "userId": "06927367528797360084"
     },
     "user_tz": -540
    },
    "id": "qEleJFL88Fax",
    "outputId": "a09f3c3f-7276-44b3-ee25-e3c6a877c532"
   },
   "outputs": [
    {
     "data": {
      "application/vnd.google.colaboratory.intrinsic+json": {
       "type": "string"
      },
      "text/plain": [
       "'정말 이지 다시 보고싶은데 볼수가 없어요 볼수있는 방법 없을까요 제발'"
      ]
     },
     "execution_count": 82,
     "metadata": {},
     "output_type": "execute_result"
    }
   ],
   "source": [
    "gen_text(\"정말\", stochastic=False)"
   ]
  },
  {
   "cell_type": "code",
   "execution_count": null,
   "metadata": {
    "colab": {
     "base_uri": "https://localhost:8080/"
    },
    "executionInfo": {
     "elapsed": 528,
     "status": "ok",
     "timestamp": 1697804324941,
     "user": {
      "displayName": "bandal_lab이세우",
      "userId": "06927367528797360084"
     },
     "user_tz": -540
    },
    "id": "CfeSoKfu8GwG",
    "outputId": "52e50346-ef2c-496e-f26e-500090dec9d5"
   },
   "outputs": [
    {
     "name": "stdout",
     "output_type": "stream",
     "text": [
      "정말 재미있어요\n",
      "정말 짱 이에요 진짜 감동 받을만큼 눈물나게잘 쓰셨네요 별점 십 점 드릴 게 요\n",
      "정말 이영화 를 가지 고 이렇게 밖에 없다 실망 이다\n",
      "정말 최고 의 드라마 외국 드라마 첨으로 깊게 빠져듬\n",
      "정말 최고다\n"
     ]
    }
   ],
   "source": [
    "for i in range(5):\n",
    "  ret = gen_text(\"정말\")\n",
    "  print(ret)"
   ]
  },
  {
   "cell_type": "code",
   "execution_count": null,
   "metadata": {
    "colab": {
     "base_uri": "https://localhost:8080/"
    },
    "executionInfo": {
     "elapsed": 1434,
     "status": "ok",
     "timestamp": 1697804508254,
     "user": {
      "displayName": "bandal_lab이세우",
      "userId": "06927367528797360084"
     },
     "user_tz": -540
    },
    "id": "DYaMBayt9Awu",
    "outputId": "d28f8b09-a7ee-41fb-b269-651bc0162ee4"
   },
   "outputs": [
    {
     "name": "stdout",
     "output_type": "stream",
     "text": [
      "나 랑 닯 은 더 플라이 주인공 캬캬캬\n",
      "나 해 라 됨 급 도 벗기고 킬링타임 용 게 무슨 추천\n",
      "나 에게는 수면제\n",
      "나 는 진리 다 보았는데 재밌었다\n",
      "나 에게 쓰나미 도 영화 보다 나간 있는데 못 하고 빙빙 강용석 씨 모습 은 경악 ㅠ\n"
     ]
    }
   ],
   "source": [
    "for i in range(5):\n",
    "  ret = gen_text(\"나\")\n",
    "  print(ret)"
   ]
  },
  {
   "cell_type": "code",
   "execution_count": null,
   "metadata": {
    "colab": {
     "base_uri": "https://localhost:8080/"
    },
    "executionInfo": {
     "elapsed": 1531,
     "status": "ok",
     "timestamp": 1697804548254,
     "user": {
      "displayName": "bandal_lab이세우",
      "userId": "06927367528797360084"
     },
     "user_tz": -540
    },
    "id": "CEcT2I1sCWMV",
    "outputId": "e194bba3-4803-4ef0-8a06-9196d9fe1612"
   },
   "outputs": [
    {
     "name": "stdout",
     "output_type": "stream",
     "text": [
      "우리 들 보기 도 질린다 지 들은 뭐 가 잘났다고 성우 욕 하더니 뻔 뻔하게 더빙 애니메이션 나오는 꼴 하고는 ㅉㅉ\n",
      "우리 들 도 영호 처럼 변해 갈까봐 너무 두렵다\n",
      "우리 연기 도 안 돼고 설명 도 안 무섭다\n",
      "우리 들 연기 를 발 만 볼 수 있을까\n",
      "우리 와 자연 의 세계였다 적 인 모습 과 연출 을 추천 하고 싶다\n"
     ]
    }
   ],
   "source": [
    "for i in range(5):\n",
    "  ret = gen_text(\"우리\")\n",
    "  print(ret)"
   ]
  }
 ],
 "metadata": {
  "accelerator": "GPU",
  "colab": {
   "gpuType": "T4",
   "provenance": [],
   "toc_visible": true
  },
  "kernelspec": {
   "display_name": "Python 3 (ipykernel)",
   "language": "python",
   "name": "python3"
  },
  "language_info": {
   "codemirror_mode": {
    "name": "ipython",
    "version": 3
   },
   "file_extension": ".py",
   "mimetype": "text/x-python",
   "name": "python",
   "nbconvert_exporter": "python",
   "pygments_lexer": "ipython3",
   "version": "3.11.5"
  }
 },
 "nbformat": 4,
 "nbformat_minor": 4
}
