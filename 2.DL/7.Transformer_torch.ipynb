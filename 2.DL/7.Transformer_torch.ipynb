{
 "cells": [
  {
   "cell_type": "markdown",
   "metadata": {
    "id": "LyG7ZXYgFw7D"
   },
   "source": [
    "<h1>Transformer</h1>"
   ]
  },
  {
   "cell_type": "markdown",
   "metadata": {
    "id": "hcDbm3gnMe-9"
   },
   "source": [
    "# import"
   ]
  },
  {
   "cell_type": "code",
   "execution_count": 4,
   "metadata": {
    "id": "oQ1mlzBQ60KN"
   },
   "outputs": [],
   "source": [
    "import requests\n",
    "import zipfile\n",
    "import os"
   ]
  },
  {
   "cell_type": "markdown",
   "metadata": {
    "id": "0MzFd5MHMgnO"
   },
   "source": [
    "# 스페인어-영어 말 묶음 데이터"
   ]
  },
  {
   "cell_type": "code",
   "execution_count": 1,
   "metadata": {},
   "outputs": [],
   "source": [
    "import os\n",
    "os.environ[\"HTTP_PROXY\"] = \"70.10.15.10:8080\"\n",
    "os.environ['HTTPS_PROXY'] = \"70.10.15.10:8080\"\n",
    "os.environ['CURL_CA_BUNDLE'] = ''\n",
    "os.environ['PYTHONHTTPSVERIFY'] ='0' \n",
    "\n",
    "import ssl\n",
    "ssl._create_default_https_context = ssl._create_unverified_context\n",
    "\n"
   ]
  },
  {
   "cell_type": "code",
   "execution_count": 2,
   "metadata": {
    "id": "Y_2CGsFdMcUB"
   },
   "outputs": [],
   "source": [
    "# 스페인어-영어 말 묶음 다운로드\n",
    "url ='http://www.manythings.org/anki/spa-eng.zip'\n",
    "filename = 'spa_eng.zip'"
   ]
  },
  {
   "cell_type": "code",
   "execution_count": 5,
   "metadata": {
    "id": "zs9NFCbnMZOy"
   },
   "outputs": [],
   "source": [
    "# 강사가 별도로 파일을 제공했다면 이 셀은 실행하지 마세요.\n",
    "headers = {\n",
    "    'User-Agent': 'Mozilla/5.0 (Windows NT 10.0; Win64; x64)'\n",
    "}\n",
    "\n",
    "with open(filename, 'wb') as f:\n",
    "    r = requests.get(url, headers=headers)\n",
    "    f.write(r.content)"
   ]
  },
  {
   "cell_type": "code",
   "execution_count": 6,
   "metadata": {
    "id": "JpXYjZWQMaLz"
   },
   "outputs": [],
   "source": [
    "with zipfile.ZipFile(filename, 'r') as zip_ref:\n",
    "    zip_ref.extractall(os.getcwd())\n"
   ]
  },
  {
   "cell_type": "code",
   "execution_count": 7,
   "metadata": {
    "colab": {
     "base_uri": "https://localhost:8080/",
     "height": 424
    },
    "executionInfo": {
     "elapsed": 574,
     "status": "ok",
     "timestamp": 1695558993287,
     "user": {
      "displayName": "bandal_lab이세우",
      "userId": "06927367528797360084"
     },
     "user_tz": -540
    },
    "id": "7eGn_2ZDWRh9",
    "outputId": "c9e4ad46-490d-4e9b-f191-3b70c445ed84",
    "tags": []
   },
   "outputs": [
    {
     "data": {
      "text/html": [
       "<div>\n",
       "<style scoped>\n",
       "    .dataframe tbody tr th:only-of-type {\n",
       "        vertical-align: middle;\n",
       "    }\n",
       "\n",
       "    .dataframe tbody tr th {\n",
       "        vertical-align: top;\n",
       "    }\n",
       "\n",
       "    .dataframe thead th {\n",
       "        text-align: right;\n",
       "    }\n",
       "</style>\n",
       "<table border=\"1\" class=\"dataframe\">\n",
       "  <thead>\n",
       "    <tr style=\"text-align: right;\">\n",
       "      <th></th>\n",
       "      <th>eng</th>\n",
       "      <th>spa</th>\n",
       "    </tr>\n",
       "  </thead>\n",
       "  <tbody>\n",
       "    <tr>\n",
       "      <th>0</th>\n",
       "      <td>Go.</td>\n",
       "      <td>Ve.</td>\n",
       "    </tr>\n",
       "    <tr>\n",
       "      <th>1</th>\n",
       "      <td>Go.</td>\n",
       "      <td>Vete.</td>\n",
       "    </tr>\n",
       "    <tr>\n",
       "      <th>2</th>\n",
       "      <td>Go.</td>\n",
       "      <td>Vaya.</td>\n",
       "    </tr>\n",
       "    <tr>\n",
       "      <th>3</th>\n",
       "      <td>Go.</td>\n",
       "      <td>Váyase.</td>\n",
       "    </tr>\n",
       "    <tr>\n",
       "      <th>4</th>\n",
       "      <td>Hi.</td>\n",
       "      <td>Hola.</td>\n",
       "    </tr>\n",
       "    <tr>\n",
       "      <th>...</th>\n",
       "      <td>...</td>\n",
       "      <td>...</td>\n",
       "    </tr>\n",
       "    <tr>\n",
       "      <th>140863</th>\n",
       "      <td>A carbon footprint is the amount of carbon dio...</td>\n",
       "      <td>Una huella de carbono es la cantidad de contam...</td>\n",
       "    </tr>\n",
       "    <tr>\n",
       "      <th>140864</th>\n",
       "      <td>Since there are usually multiple websites on a...</td>\n",
       "      <td>Como suele haber varias páginas web sobre cual...</td>\n",
       "    </tr>\n",
       "    <tr>\n",
       "      <th>140865</th>\n",
       "      <td>If you want to sound like a native speaker, yo...</td>\n",
       "      <td>Si quieres sonar como un hablante nativo, debe...</td>\n",
       "    </tr>\n",
       "    <tr>\n",
       "      <th>140866</th>\n",
       "      <td>It may be impossible to get a completely error...</td>\n",
       "      <td>Puede que sea imposible obtener un corpus comp...</td>\n",
       "    </tr>\n",
       "    <tr>\n",
       "      <th>140867</th>\n",
       "      <td>One day, I woke up to find that God had put ha...</td>\n",
       "      <td>Un día, me desperté y vi que Dios me había pue...</td>\n",
       "    </tr>\n",
       "  </tbody>\n",
       "</table>\n",
       "<p>140868 rows × 2 columns</p>\n",
       "</div>"
      ],
      "text/plain": [
       "                                                      eng  \\\n",
       "0                                                     Go.   \n",
       "1                                                     Go.   \n",
       "2                                                     Go.   \n",
       "3                                                     Go.   \n",
       "4                                                     Hi.   \n",
       "...                                                   ...   \n",
       "140863  A carbon footprint is the amount of carbon dio...   \n",
       "140864  Since there are usually multiple websites on a...   \n",
       "140865  If you want to sound like a native speaker, yo...   \n",
       "140866  It may be impossible to get a completely error...   \n",
       "140867  One day, I woke up to find that God had put ha...   \n",
       "\n",
       "                                                      spa  \n",
       "0                                                     Ve.  \n",
       "1                                                   Vete.  \n",
       "2                                                   Vaya.  \n",
       "3                                                 Váyase.  \n",
       "4                                                   Hola.  \n",
       "...                                                   ...  \n",
       "140863  Una huella de carbono es la cantidad de contam...  \n",
       "140864  Como suele haber varias páginas web sobre cual...  \n",
       "140865  Si quieres sonar como un hablante nativo, debe...  \n",
       "140866  Puede que sea imposible obtener un corpus comp...  \n",
       "140867  Un día, me desperté y vi que Dios me había pue...  \n",
       "\n",
       "[140868 rows x 2 columns]"
      ]
     },
     "execution_count": 7,
     "metadata": {},
     "output_type": "execute_result"
    }
   ],
   "source": [
    "# 영-스 병렬 말묶음 읽기\n",
    "# 0, 1번 열만 사용 (2번 열은 라이선스 정보)\n",
    "import pandas as pd\n",
    "\n",
    "df = pd.read_csv('spa.txt', names=['eng', 'spa'], sep='\\t', usecols=[0,1])\n",
    "df"
   ]
  },
  {
   "cell_type": "code",
   "execution_count": null,
   "metadata": {
    "colab": {
     "base_uri": "https://localhost:8080/",
     "height": 206
    },
    "executionInfo": {
     "elapsed": 17,
     "status": "ok",
     "timestamp": 1695558993288,
     "user": {
      "displayName": "bandal_lab이세우",
      "userId": "06927367528797360084"
     },
     "user_tz": -540
    },
    "id": "BBldX61BWUTc",
    "outputId": "e402d9f2-dc94-45af-e15c-7361363bc183",
    "tags": []
   },
   "outputs": [
    {
     "data": {
      "text/html": [
       "\n",
       "  <div id=\"df-432ca2d6-b59a-4f1c-bba0-7807b0041627\" class=\"colab-df-container\">\n",
       "    <div>\n",
       "<style scoped>\n",
       "    .dataframe tbody tr th:only-of-type {\n",
       "        vertical-align: middle;\n",
       "    }\n",
       "\n",
       "    .dataframe tbody tr th {\n",
       "        vertical-align: top;\n",
       "    }\n",
       "\n",
       "    .dataframe thead th {\n",
       "        text-align: right;\n",
       "    }\n",
       "</style>\n",
       "<table border=\"1\" class=\"dataframe\">\n",
       "  <thead>\n",
       "    <tr style=\"text-align: right;\">\n",
       "      <th></th>\n",
       "      <th>eng</th>\n",
       "      <th>spa</th>\n",
       "    </tr>\n",
       "  </thead>\n",
       "  <tbody>\n",
       "    <tr>\n",
       "      <th>0</th>\n",
       "      <td>Go.</td>\n",
       "      <td>Ve.</td>\n",
       "    </tr>\n",
       "    <tr>\n",
       "      <th>1</th>\n",
       "      <td>Go.</td>\n",
       "      <td>Vete.</td>\n",
       "    </tr>\n",
       "    <tr>\n",
       "      <th>2</th>\n",
       "      <td>Go.</td>\n",
       "      <td>Vaya.</td>\n",
       "    </tr>\n",
       "    <tr>\n",
       "      <th>3</th>\n",
       "      <td>Go.</td>\n",
       "      <td>Váyase.</td>\n",
       "    </tr>\n",
       "    <tr>\n",
       "      <th>4</th>\n",
       "      <td>Hi.</td>\n",
       "      <td>Hola.</td>\n",
       "    </tr>\n",
       "  </tbody>\n",
       "</table>\n",
       "</div>\n",
       "    <div class=\"colab-df-buttons\">\n",
       "\n",
       "  <div class=\"colab-df-container\">\n",
       "    <button class=\"colab-df-convert\" onclick=\"convertToInteractive('df-432ca2d6-b59a-4f1c-bba0-7807b0041627')\"\n",
       "            title=\"Convert this dataframe to an interactive table.\"\n",
       "            style=\"display:none;\">\n",
       "\n",
       "  <svg xmlns=\"http://www.w3.org/2000/svg\" height=\"24px\" viewBox=\"0 -960 960 960\">\n",
       "    <path d=\"M120-120v-720h720v720H120Zm60-500h600v-160H180v160Zm220 220h160v-160H400v160Zm0 220h160v-160H400v160ZM180-400h160v-160H180v160Zm440 0h160v-160H620v160ZM180-180h160v-160H180v160Zm440 0h160v-160H620v160Z\"/>\n",
       "  </svg>\n",
       "    </button>\n",
       "\n",
       "  <style>\n",
       "    .colab-df-container {\n",
       "      display:flex;\n",
       "      gap: 12px;\n",
       "    }\n",
       "\n",
       "    .colab-df-convert {\n",
       "      background-color: #E8F0FE;\n",
       "      border: none;\n",
       "      border-radius: 50%;\n",
       "      cursor: pointer;\n",
       "      display: none;\n",
       "      fill: #1967D2;\n",
       "      height: 32px;\n",
       "      padding: 0 0 0 0;\n",
       "      width: 32px;\n",
       "    }\n",
       "\n",
       "    .colab-df-convert:hover {\n",
       "      background-color: #E2EBFA;\n",
       "      box-shadow: 0px 1px 2px rgba(60, 64, 67, 0.3), 0px 1px 3px 1px rgba(60, 64, 67, 0.15);\n",
       "      fill: #174EA6;\n",
       "    }\n",
       "\n",
       "    .colab-df-buttons div {\n",
       "      margin-bottom: 4px;\n",
       "    }\n",
       "\n",
       "    [theme=dark] .colab-df-convert {\n",
       "      background-color: #3B4455;\n",
       "      fill: #D2E3FC;\n",
       "    }\n",
       "\n",
       "    [theme=dark] .colab-df-convert:hover {\n",
       "      background-color: #434B5C;\n",
       "      box-shadow: 0px 1px 3px 1px rgba(0, 0, 0, 0.15);\n",
       "      filter: drop-shadow(0px 1px 2px rgba(0, 0, 0, 0.3));\n",
       "      fill: #FFFFFF;\n",
       "    }\n",
       "  </style>\n",
       "\n",
       "    <script>\n",
       "      const buttonEl =\n",
       "        document.querySelector('#df-432ca2d6-b59a-4f1c-bba0-7807b0041627 button.colab-df-convert');\n",
       "      buttonEl.style.display =\n",
       "        google.colab.kernel.accessAllowed ? 'block' : 'none';\n",
       "\n",
       "      async function convertToInteractive(key) {\n",
       "        const element = document.querySelector('#df-432ca2d6-b59a-4f1c-bba0-7807b0041627');\n",
       "        const dataTable =\n",
       "          await google.colab.kernel.invokeFunction('convertToInteractive',\n",
       "                                                    [key], {});\n",
       "        if (!dataTable) return;\n",
       "\n",
       "        const docLinkHtml = 'Like what you see? Visit the ' +\n",
       "          '<a target=\"_blank\" href=https://colab.research.google.com/notebooks/data_table.ipynb>data table notebook</a>'\n",
       "          + ' to learn more about interactive tables.';\n",
       "        element.innerHTML = '';\n",
       "        dataTable['output_type'] = 'display_data';\n",
       "        await google.colab.output.renderOutput(dataTable, element);\n",
       "        const docLink = document.createElement('div');\n",
       "        docLink.innerHTML = docLinkHtml;\n",
       "        element.appendChild(docLink);\n",
       "      }\n",
       "    </script>\n",
       "  </div>\n",
       "\n",
       "\n",
       "<div id=\"df-2c8b2cb6-a130-4fce-8e1e-df31a6d22542\">\n",
       "  <button class=\"colab-df-quickchart\" onclick=\"quickchart('df-2c8b2cb6-a130-4fce-8e1e-df31a6d22542')\"\n",
       "            title=\"Suggest charts.\"\n",
       "            style=\"display:none;\">\n",
       "\n",
       "<svg xmlns=\"http://www.w3.org/2000/svg\" height=\"24px\"viewBox=\"0 0 24 24\"\n",
       "     width=\"24px\">\n",
       "    <g>\n",
       "        <path d=\"M19 3H5c-1.1 0-2 .9-2 2v14c0 1.1.9 2 2 2h14c1.1 0 2-.9 2-2V5c0-1.1-.9-2-2-2zM9 17H7v-7h2v7zm4 0h-2V7h2v10zm4 0h-2v-4h2v4z\"/>\n",
       "    </g>\n",
       "</svg>\n",
       "  </button>\n",
       "\n",
       "<style>\n",
       "  .colab-df-quickchart {\n",
       "      --bg-color: #E8F0FE;\n",
       "      --fill-color: #1967D2;\n",
       "      --hover-bg-color: #E2EBFA;\n",
       "      --hover-fill-color: #174EA6;\n",
       "      --disabled-fill-color: #AAA;\n",
       "      --disabled-bg-color: #DDD;\n",
       "  }\n",
       "\n",
       "  [theme=dark] .colab-df-quickchart {\n",
       "      --bg-color: #3B4455;\n",
       "      --fill-color: #D2E3FC;\n",
       "      --hover-bg-color: #434B5C;\n",
       "      --hover-fill-color: #FFFFFF;\n",
       "      --disabled-bg-color: #3B4455;\n",
       "      --disabled-fill-color: #666;\n",
       "  }\n",
       "\n",
       "  .colab-df-quickchart {\n",
       "    background-color: var(--bg-color);\n",
       "    border: none;\n",
       "    border-radius: 50%;\n",
       "    cursor: pointer;\n",
       "    display: none;\n",
       "    fill: var(--fill-color);\n",
       "    height: 32px;\n",
       "    padding: 0;\n",
       "    width: 32px;\n",
       "  }\n",
       "\n",
       "  .colab-df-quickchart:hover {\n",
       "    background-color: var(--hover-bg-color);\n",
       "    box-shadow: 0 1px 2px rgba(60, 64, 67, 0.3), 0 1px 3px 1px rgba(60, 64, 67, 0.15);\n",
       "    fill: var(--button-hover-fill-color);\n",
       "  }\n",
       "\n",
       "  .colab-df-quickchart-complete:disabled,\n",
       "  .colab-df-quickchart-complete:disabled:hover {\n",
       "    background-color: var(--disabled-bg-color);\n",
       "    fill: var(--disabled-fill-color);\n",
       "    box-shadow: none;\n",
       "  }\n",
       "\n",
       "  .colab-df-spinner {\n",
       "    border: 2px solid var(--fill-color);\n",
       "    border-color: transparent;\n",
       "    border-bottom-color: var(--fill-color);\n",
       "    animation:\n",
       "      spin 1s steps(1) infinite;\n",
       "  }\n",
       "\n",
       "  @keyframes spin {\n",
       "    0% {\n",
       "      border-color: transparent;\n",
       "      border-bottom-color: var(--fill-color);\n",
       "      border-left-color: var(--fill-color);\n",
       "    }\n",
       "    20% {\n",
       "      border-color: transparent;\n",
       "      border-left-color: var(--fill-color);\n",
       "      border-top-color: var(--fill-color);\n",
       "    }\n",
       "    30% {\n",
       "      border-color: transparent;\n",
       "      border-left-color: var(--fill-color);\n",
       "      border-top-color: var(--fill-color);\n",
       "      border-right-color: var(--fill-color);\n",
       "    }\n",
       "    40% {\n",
       "      border-color: transparent;\n",
       "      border-right-color: var(--fill-color);\n",
       "      border-top-color: var(--fill-color);\n",
       "    }\n",
       "    60% {\n",
       "      border-color: transparent;\n",
       "      border-right-color: var(--fill-color);\n",
       "    }\n",
       "    80% {\n",
       "      border-color: transparent;\n",
       "      border-right-color: var(--fill-color);\n",
       "      border-bottom-color: var(--fill-color);\n",
       "    }\n",
       "    90% {\n",
       "      border-color: transparent;\n",
       "      border-bottom-color: var(--fill-color);\n",
       "    }\n",
       "  }\n",
       "</style>\n",
       "\n",
       "  <script>\n",
       "    async function quickchart(key) {\n",
       "      const quickchartButtonEl =\n",
       "        document.querySelector('#' + key + ' button');\n",
       "      quickchartButtonEl.disabled = true;  // To prevent multiple clicks.\n",
       "      quickchartButtonEl.classList.add('colab-df-spinner');\n",
       "      try {\n",
       "        const charts = await google.colab.kernel.invokeFunction(\n",
       "            'suggestCharts', [key], {});\n",
       "      } catch (error) {\n",
       "        console.error('Error during call to suggestCharts:', error);\n",
       "      }\n",
       "      quickchartButtonEl.classList.remove('colab-df-spinner');\n",
       "      quickchartButtonEl.classList.add('colab-df-quickchart-complete');\n",
       "    }\n",
       "    (() => {\n",
       "      let quickchartButtonEl =\n",
       "        document.querySelector('#df-2c8b2cb6-a130-4fce-8e1e-df31a6d22542 button');\n",
       "      quickchartButtonEl.style.display =\n",
       "        google.colab.kernel.accessAllowed ? 'block' : 'none';\n",
       "    })();\n",
       "  </script>\n",
       "</div>\n",
       "    </div>\n",
       "  </div>\n"
      ],
      "text/plain": [
       "   eng      spa\n",
       "0  Go.      Ve.\n",
       "1  Go.    Vete.\n",
       "2  Go.    Vaya.\n",
       "3  Go.  Váyase.\n",
       "4  Hi.    Hola."
      ]
     },
     "execution_count": 6,
     "metadata": {},
     "output_type": "execute_result"
    }
   ],
   "source": [
    "n_samples = 50000 # 5만개 데이터를 학습\n",
    "train = df[:n_samples].copy()\n",
    "train.head()"
   ]
  },
  {
   "cell_type": "markdown",
   "metadata": {
    "id": "xaveP7UjgI5R"
   },
   "source": [
    "## 텍스트 전처리\n",
    "* 액센트 기호 제거\n",
    "  * `unicodedata.normalize(form, unistr)` : unistr에 대한 정규화 형식\n",
    "    * 동일한 문제에 대해 다른 코드값 존재, 정규화 필요\n",
    "      * 예) 옴(Ω)와 오메가(Ω), 합자(é)\n",
    "    * form={'NFC', 'NFD', 'NFKC', 'NFKD'}\n",
    "  * `unicodedata.category(chr)` : 문자에 할당된 일반 범주\n",
    "    * 'Mn' : Mark nonspacing, 액센트 기호\n",
    "    * https://en.wikipedia.org/wiki/Template:General_Category_(Unicode)"
   ]
  },
  {
   "cell_type": "code",
   "execution_count": null,
   "metadata": {
    "colab": {
     "base_uri": "https://localhost:8080/"
    },
    "executionInfo": {
     "elapsed": 16,
     "status": "ok",
     "timestamp": 1695558993288,
     "user": {
      "displayName": "bandal_lab이세우",
      "userId": "06927367528797360084"
     },
     "user_tz": -540
    },
    "id": "fn1tlO3KWXgv",
    "outputId": "c983df32-04e3-4c6a-895a-7e032e423f5e",
    "tags": []
   },
   "outputs": [
    {
     "name": "stdout",
     "output_type": "stream",
     "text": [
      "Sé.\n"
     ]
    },
    {
     "data": {
      "text/plain": [
       "{'S': 'Lu', 'e': 'Ll', '́': 'Mn', '.': 'Po'}"
      ]
     },
     "execution_count": 7,
     "metadata": {},
     "output_type": "execute_result"
    }
   ],
   "source": [
    "import unicodedata\n",
    "print(train['spa'][100])\n",
    "{c:unicodedata.category(c) for c in unicodedata.normalize('NFD', train['spa'][100])}"
   ]
  },
  {
   "cell_type": "code",
   "execution_count": null,
   "metadata": {
    "colab": {
     "base_uri": "https://localhost:8080/"
    },
    "executionInfo": {
     "elapsed": 13,
     "status": "ok",
     "timestamp": 1695558993288,
     "user": {
      "displayName": "bandal_lab이세우",
      "userId": "06927367528797360084"
     },
     "user_tz": -540
    },
    "id": "3ZKK9L6EWZZu",
    "outputId": "ba97c388-ebb0-495d-cefd-77d66f929a9d",
    "tags": []
   },
   "outputs": [
    {
     "name": "stdout",
     "output_type": "stream",
     "text": [
      "제거 전: Inténtalo de nuevo.\n",
      "제거 후: Intentalo de nuevo.\n"
     ]
    }
   ],
   "source": [
    "import unicodedata\n",
    "\n",
    "# 액센트 기호 제거 함수\n",
    "def removeAccents(x):\n",
    "    char_list = []\n",
    "    for char in unicodedata.normalize('NFD', x):\n",
    "        if unicodedata.category(char) != 'Mn': # accent 기호\n",
    "            char_list.append(char)\n",
    "    return ''.join(char_list)\n",
    "\n",
    "print('제거 전:', train.loc[1109, 'spa'])\n",
    "print('제거 후:', removeAccents(train.loc[1109, 'spa']))"
   ]
  },
  {
   "cell_type": "code",
   "execution_count": null,
   "metadata": {
    "id": "14WpTXWvWa7Z",
    "tags": []
   },
   "outputs": [],
   "source": [
    "import re\n",
    "\n",
    "# 전처리 함수 정의\n",
    "def text_preprocess(text):\n",
    "    # 액센트 기호 제거\n",
    "    text = removeAccents(text.lower())\n",
    "\n",
    "    # 알파벳 및 일부 기호(물음표, 느낌표, 마침표)를 제외한 문자 제거\n",
    "    text = re.sub(r'[^a-z0-9!.?]+', r' ', text)\n",
    "\n",
    "    # 기호와 단어 사이 공백 추가\n",
    "    text = re.sub(r'([?.!])', r' \\1', text)\n",
    "\n",
    "    # 연속 공백 제거\n",
    "    text = re.sub(r'\\s+', ' ', text)\n",
    "\n",
    "    return text.strip()"
   ]
  },
  {
   "cell_type": "code",
   "execution_count": null,
   "metadata": {
    "colab": {
     "base_uri": "https://localhost:8080/"
    },
    "executionInfo": {
     "elapsed": 12,
     "status": "ok",
     "timestamp": 1695558993289,
     "user": {
      "displayName": "bandal_lab이세우",
      "userId": "06927367528797360084"
     },
     "user_tz": -540
    },
    "id": "IDIGsUQZWc6H",
    "outputId": "a764fae9-f584-4208-83a8-49a81ad2776e",
    "tags": []
   },
   "outputs": [
    {
     "name": "stdout",
     "output_type": "stream",
     "text": [
      "영어 문장 원본: \t Hold it.\n",
      "영어 문장 전처리: \t hold it .\n",
      "스페인어 문장 원본: \t Sosténgala.\n",
      "스페인어 문장 전처리: \t sostengala .\n"
     ]
    }
   ],
   "source": [
    "# 전처리 함수 동작 확인\n",
    "print('영어 문장 원본: \\t', train.loc[219, 'eng'].strip())\n",
    "print('영어 문장 전처리: \\t' ,text_preprocess(train.loc[219, 'eng']))\n",
    "print('스페인어 문장 원본: \\t', train.loc[219, 'spa'])\n",
    "print('스페인어 문장 전처리: \\t', text_preprocess(train.loc[219, 'spa']))"
   ]
  },
  {
   "cell_type": "code",
   "execution_count": null,
   "metadata": {
    "id": "FuHpBudMWedB",
    "tags": []
   },
   "outputs": [],
   "source": [
    "# 스페인어 인코더 입력 전처리\n",
    "words = train['spa'].apply(text_preprocess).str.split()\n",
    "spa_encoder_input_sentences = [word for word in words]"
   ]
  },
  {
   "cell_type": "code",
   "execution_count": null,
   "metadata": {
    "id": "uzdFhlr9WgdT",
    "tags": []
   },
   "outputs": [],
   "source": [
    "# 영어 디코더 입력/레이블 전처리\n",
    "eng_preprocessed_series = train['eng'].apply(text_preprocess)\n",
    "input_words = ('<sos> ' + eng_preprocessed_series).str.split()\n",
    "label_words = (eng_preprocessed_series + ' <eos>').str.split()\n",
    "\n",
    "eng_decoder_input_sentences = [word for word in input_words]\n",
    "eng_decoder_label_sentences = [word for word in label_words]"
   ]
  },
  {
   "cell_type": "code",
   "execution_count": null,
   "metadata": {
    "colab": {
     "base_uri": "https://localhost:8080/"
    },
    "executionInfo": {
     "elapsed": 5,
     "status": "ok",
     "timestamp": 1695558995521,
     "user": {
      "displayName": "bandal_lab이세우",
      "userId": "06927367528797360084"
     },
     "user_tz": -540
    },
    "id": "cPvzvcNkWhpZ",
    "outputId": "1ca88234-3009-4cc7-c613-37aac4634f4c",
    "tags": []
   },
   "outputs": [
    {
     "name": "stdout",
     "output_type": "stream",
     "text": [
      "Encoder Inputs:  [['ve', '.'], ['vete', '.'], ['vaya', '.']]\n",
      "Decoder Inputs:  [['<sos>', 'go', '.'], ['<sos>', 'go', '.'], ['<sos>', 'go', '.']]\n",
      "Decoder Labels:  [['go', '.', '<eos>'], ['go', '.', '<eos>'], ['go', '.', '<eos>']]\n"
     ]
    }
   ],
   "source": [
    "# 전처리된 문장 확인\n",
    "print('Encoder Inputs: ', spa_encoder_input_sentences[:3])\n",
    "print('Decoder Inputs: ', eng_decoder_input_sentences[:3])\n",
    "print('Decoder Labels: ', eng_decoder_label_sentences[:3])"
   ]
  },
  {
   "cell_type": "markdown",
   "metadata": {
    "id": "l87iQ2xNkw3N"
   },
   "source": [
    "## 토큰화"
   ]
  },
  {
   "cell_type": "code",
   "execution_count": null,
   "metadata": {
    "id": "2b4qSgkXk5sK"
   },
   "outputs": [],
   "source": [
    "from torchtext.data.utils import get_tokenizer\n",
    "from torchtext.vocab import build_vocab_from_iterator\n",
    "import numpy as np\n",
    "\n",
    "\n",
    "def token_generator(data):\n",
    "    for x in data:\n",
    "        yield x"
   ]
  },
  {
   "cell_type": "code",
   "execution_count": null,
   "metadata": {
    "colab": {
     "base_uri": "https://localhost:8080/"
    },
    "executionInfo": {
     "elapsed": 371,
     "status": "ok",
     "timestamp": 1695559002636,
     "user": {
      "displayName": "bandal_lab이세우",
      "userId": "06927367528797360084"
     },
     "user_tz": -540
    },
    "id": "u2kbXNqrXT_U",
    "outputId": "20d8064a-8a82-479d-d64b-6fcb052d6a84",
    "tags": []
   },
   "outputs": [
    {
     "data": {
      "text/plain": [
       "12933"
      ]
     },
     "execution_count": 15,
     "metadata": {},
     "output_type": "execute_result"
    }
   ],
   "source": [
    "# 스페인어 토큰화\n",
    "vocab_spa_torch = build_vocab_from_iterator(\n",
    "    iterator=token_generator(spa_encoder_input_sentences),\n",
    "    specials=['<PAD>', '<OOV>'])\n",
    "vocab_spa_torch.set_default_index(vocab_spa_torch['<OOV>'])\n",
    "len(vocab_spa_torch.get_stoi())"
   ]
  },
  {
   "cell_type": "code",
   "execution_count": null,
   "metadata": {
    "colab": {
     "base_uri": "https://localhost:8080/"
    },
    "executionInfo": {
     "elapsed": 369,
     "status": "ok",
     "timestamp": 1695559003003,
     "user": {
      "displayName": "bandal_lab이세우",
      "userId": "06927367528797360084"
     },
     "user_tz": -540
    },
    "id": "Jt59tWn7Z4XF",
    "outputId": "ce2063ea-66d5-4874-81b5-b23a2c1f7397",
    "tags": []
   },
   "outputs": [
    {
     "data": {
      "text/plain": [
       "6659"
      ]
     },
     "execution_count": 16,
     "metadata": {},
     "output_type": "execute_result"
    }
   ],
   "source": [
    "# 영어 토큰화\n",
    "vocab_eng_torch = build_vocab_from_iterator(\n",
    "    iterator=token_generator(eng_decoder_input_sentences+eng_decoder_label_sentences),\n",
    "    specials=['<PAD>', '<OOV>'])\n",
    "vocab_eng_torch.set_default_index(vocab_eng_torch['<OOV>'])\n",
    "len(vocab_eng_torch.get_stoi())"
   ]
  },
  {
   "cell_type": "markdown",
   "metadata": {
    "id": "evfUetFRk_B2"
   },
   "source": [
    "## Text to Sequence"
   ]
  },
  {
   "cell_type": "code",
   "execution_count": null,
   "metadata": {
    "id": "wEhY-D0VaYc7",
    "tags": []
   },
   "outputs": [],
   "source": [
    "def sent2seq_spa(sentences):\n",
    "    ret = []\n",
    "    for sentence in sentences:\n",
    "        seq = [vocab_spa_torch[token] for token in sentence]\n",
    "        ret.append(seq)\n",
    "    return ret\n",
    "\n",
    "def sent2seq_eng(sentences):\n",
    "    ret = []\n",
    "    for sentence in sentences:\n",
    "        seq = [vocab_eng_torch[token] for token in sentence]\n",
    "        ret.append(seq)\n",
    "    return ret\n",
    "\n",
    "encoder_inputs_torch = sent2seq_spa(spa_encoder_input_sentences)\n",
    "decoder_inputs_torch = sent2seq_eng(eng_decoder_input_sentences)\n",
    "decoder_labels_torch = sent2seq_eng(eng_decoder_label_sentences)"
   ]
  },
  {
   "cell_type": "code",
   "execution_count": null,
   "metadata": {
    "colab": {
     "base_uri": "https://localhost:8080/"
    },
    "executionInfo": {
     "elapsed": 4,
     "status": "ok",
     "timestamp": 1695559004889,
     "user": {
      "displayName": "bandal_lab이세우",
      "userId": "06927367528797360084"
     },
     "user_tz": -540
    },
    "id": "wtvgWpaRd-bO",
    "outputId": "9a968bb2-8020-446a-97b5-509211dbfbe6",
    "tags": []
   },
   "outputs": [
    {
     "name": "stdout",
     "output_type": "stream",
     "text": [
      "Encoder 입력 길이: 13\n",
      "Decoder 입력 길이: 10\n",
      "Decoder 정답 길이: 10\n"
     ]
    }
   ],
   "source": [
    "# 입력 문장 최대 길이 확인\n",
    "encoder_input_len_torch = max([len(i) for i in encoder_inputs_torch])\n",
    "decoder_input_len_torch = max([len(i) for i in decoder_inputs_torch])\n",
    "decoder_label_len_torch = max([len(i) for i in decoder_labels_torch])\n",
    "print('Encoder 입력 길이:', encoder_input_len_torch)\n",
    "print('Decoder 입력 길이:', decoder_input_len_torch)\n",
    "print('Decoder 정답 길이:', decoder_label_len_torch)"
   ]
  },
  {
   "cell_type": "markdown",
   "metadata": {
    "id": "4YyAShR9lIUG"
   },
   "source": [
    "## Padding"
   ]
  },
  {
   "cell_type": "code",
   "execution_count": null,
   "metadata": {
    "id": "5CMQ9Xc-fYC5",
    "tags": []
   },
   "outputs": [],
   "source": [
    "import torch\n",
    "from torch.nn.utils.rnn import pad_sequence\n",
    "\n",
    "encoder_inputs_torch = [torch.LongTensor(seq[::-1]) for seq in encoder_inputs_torch] # pre\n",
    "decoder_inputs_torch = [torch.LongTensor(seq) for seq in decoder_inputs_torch] # post\n",
    "decoder_labels_torch = [torch.LongTensor(seq) for seq in decoder_labels_torch] # post\n",
    "\n",
    "encoder_inputs_torch = pad_sequence(encoder_inputs_torch,\n",
    "                               padding_value=vocab_spa_torch['<PAD>'], batch_first=True)\n",
    "decoder_inputs_torch = pad_sequence(decoder_inputs_torch,\n",
    "                               padding_value=vocab_eng_torch['<PAD>'], batch_first=True)\n",
    "decoder_labels_torch = pad_sequence(decoder_labels_torch,\n",
    "                               padding_value=vocab_eng_torch['<PAD>'], batch_first=True)"
   ]
  },
  {
   "cell_type": "code",
   "execution_count": null,
   "metadata": {
    "colab": {
     "base_uri": "https://localhost:8080/"
    },
    "executionInfo": {
     "elapsed": 6,
     "status": "ok",
     "timestamp": 1695559008918,
     "user": {
      "displayName": "bandal_lab이세우",
      "userId": "06927367528797360084"
     },
     "user_tz": -540
    },
    "id": "_ACaVSwFfl9s",
    "outputId": "30e23415-d773-4fbf-9b63-174f3207f02a",
    "tags": []
   },
   "outputs": [
    {
     "name": "stdout",
     "output_type": "stream",
     "text": [
      "Encoder 입력: torch.Size([50000, 13])\n",
      "Decoder 입력: torch.Size([50000, 10])\n",
      "Decoder 정답: torch.Size([50000, 10])\n"
     ]
    }
   ],
   "source": [
    "# 데이터 shape 확인\n",
    "print('Encoder 입력:', encoder_inputs_torch.shape)\n",
    "print('Decoder 입력:', decoder_inputs_torch.shape)\n",
    "print('Decoder 정답:', decoder_labels_torch.shape)"
   ]
  },
  {
   "cell_type": "code",
   "execution_count": null,
   "metadata": {
    "colab": {
     "base_uri": "https://localhost:8080/"
    },
    "executionInfo": {
     "elapsed": 5,
     "status": "ok",
     "timestamp": 1695559008919,
     "user": {
      "displayName": "bandal_lab이세우",
      "userId": "06927367528797360084"
     },
     "user_tz": -540
    },
    "id": "lIqg-Aeinq2u",
    "outputId": "781a04d1-c168-4cab-d319-cc820c4deaee",
    "tags": []
   },
   "outputs": [
    {
     "data": {
      "text/plain": [
       "tensor([[   0,    0,    0,  ...,    0,  173,    2],\n",
       "        [   0,    0,    0,  ...,    0,  509,    2],\n",
       "        [   0,    0,    0,  ...,    0,  558,    2],\n",
       "        ...,\n",
       "        [   0,    0,    0,  ..., 1261,  694,    2],\n",
       "        [   0,    0,    0,  ...,  177, 1227,    2],\n",
       "        [   0,    0,    0,  ..., 1203, 3523,    2]])"
      ]
     },
     "execution_count": 21,
     "metadata": {},
     "output_type": "execute_result"
    }
   ],
   "source": [
    "encoder_inputs_torch = torch.flip(encoder_inputs_torch, dims=(1,))\n",
    "encoder_inputs_torch"
   ]
  },
  {
   "cell_type": "code",
   "execution_count": null,
   "metadata": {
    "colab": {
     "base_uri": "https://localhost:8080/"
    },
    "executionInfo": {
     "elapsed": 9,
     "status": "ok",
     "timestamp": 1695559009252,
     "user": {
      "displayName": "bandal_lab이세우",
      "userId": "06927367528797360084"
     },
     "user_tz": -540
    },
    "id": "uFvYHnZBpBqT",
    "outputId": "360d13a9-8329-4b87-bdcd-e6ddc83c8af6",
    "tags": []
   },
   "outputs": [
    {
     "name": "stdout",
     "output_type": "stream",
     "text": [
      "Encoder 입력: torch.Size([50000, 13])\n",
      "Decoder 입력: torch.Size([50000, 10])\n",
      "Decoder 정답: torch.Size([50000, 10])\n"
     ]
    }
   ],
   "source": [
    "# 데이터 shape 확인\n",
    "print('Encoder 입력:', encoder_inputs_torch.shape)\n",
    "print('Decoder 입력:', decoder_inputs_torch.shape)\n",
    "print('Decoder 정답:', decoder_labels_torch.shape)"
   ]
  },
  {
   "cell_type": "markdown",
   "metadata": {
    "id": "QZLpO0T7lQAE"
   },
   "source": [
    "## 데이터 분할"
   ]
  },
  {
   "cell_type": "code",
   "execution_count": null,
   "metadata": {
    "id": "eLjA9dxvpDHH",
    "tags": []
   },
   "outputs": [],
   "source": [
    "# 데이터 셔플\n",
    "import numpy as np\n",
    "\n",
    "n_samples = 50000\n",
    "\n",
    "np.random.seed(1)\n",
    "idx = np.arange(n_samples)\n",
    "np.random.shuffle(idx)\n",
    "encoder_inputs_torch = encoder_inputs_torch[idx]\n",
    "decoder_inputs_torch = decoder_inputs_torch[idx]\n",
    "decoder_labels_torch = decoder_labels_torch[idx]"
   ]
  },
  {
   "cell_type": "code",
   "execution_count": null,
   "metadata": {
    "id": "E38sQAJ8pjmu",
    "tags": []
   },
   "outputs": [],
   "source": [
    "# 데이터 분할\n",
    "n_test_samples = int(n_samples*.2) # 8:2 분할\n",
    "encoder_inputs_train_torch = encoder_inputs_torch[:-n_test_samples]\n",
    "decoder_inputs_train_torch = decoder_inputs_torch[:-n_test_samples]\n",
    "decoder_labels_train_torch = decoder_labels_torch[:-n_test_samples]\n",
    "\n",
    "encoder_inputs_test_torch = encoder_inputs_torch[-n_test_samples:]\n",
    "decoder_inputs_test_torch = decoder_inputs_torch[-n_test_samples:]\n",
    "decoder_labels_test_torch = decoder_labels_torch[-n_test_samples:]"
   ]
  },
  {
   "cell_type": "code",
   "execution_count": null,
   "metadata": {
    "colab": {
     "base_uri": "https://localhost:8080/"
    },
    "executionInfo": {
     "elapsed": 7,
     "status": "ok",
     "timestamp": 1695559009252,
     "user": {
      "displayName": "bandal_lab이세우",
      "userId": "06927367528797360084"
     },
     "user_tz": -540
    },
    "id": "UPKRWEOLp2MZ",
    "outputId": "06be274d-c07f-4832-deba-513833140da6",
    "tags": []
   },
   "outputs": [
    {
     "name": "stdout",
     "output_type": "stream",
     "text": [
      "학습 Encoder 입력 크기: torch.Size([40000, 13])\n",
      "학습 Decoder 입력 크기: torch.Size([40000, 10])\n",
      "학습 Decoder 정답 크기: torch.Size([40000, 10])\n",
      "\n",
      "평가 Encoder 입력 크기: torch.Size([10000, 13])\n",
      "평가 Decoder 입력 크기: torch.Size([10000, 10])\n",
      "평가 Decoder 정답 크기: torch.Size([10000, 10])\n"
     ]
    }
   ],
   "source": [
    "print('학습 Encoder 입력 크기:', encoder_inputs_train_torch.shape)\n",
    "print('학습 Decoder 입력 크기:', decoder_inputs_train_torch.shape)\n",
    "print('학습 Decoder 정답 크기:', decoder_labels_train_torch.shape)\n",
    "print()\n",
    "print('평가 Encoder 입력 크기:', encoder_inputs_test_torch.shape)\n",
    "print('평가 Decoder 입력 크기:', decoder_inputs_test_torch.shape)\n",
    "print('평가 Decoder 정답 크기:', decoder_labels_test_torch.shape)"
   ]
  },
  {
   "cell_type": "markdown",
   "metadata": {
    "id": "Q0MMFw2klTmU"
   },
   "source": [
    "# Seq2Seq 모델 생성"
   ]
  },
  {
   "cell_type": "code",
   "execution_count": null,
   "metadata": {
    "id": "9Ewc-4OgsnHM",
    "tags": []
   },
   "outputs": [],
   "source": [
    "import torch\n",
    "from torch import nn\n",
    "from torch import optim"
   ]
  },
  {
   "cell_type": "code",
   "execution_count": null,
   "metadata": {
    "id": "_7-g0FqPraJN",
    "tags": []
   },
   "outputs": [],
   "source": [
    "# Encoder 구현\n",
    "class LSTMEncoder(nn.Module):\n",
    "    def __init__(self, hidden_size, embed_dim, enc_vocab_size, num_layers=1):\n",
    "        super().__init__()\n",
    "\n",
    "        self.embed = nn.Embedding(enc_vocab_size, embed_dim, padding_idx=0)\n",
    "\n",
    "        self.lstm = nn.LSTM(\n",
    "            input_size=embed_dim, hidden_size=hidden_size,\n",
    "            num_layers=num_layers, batch_first=True)\n",
    "\n",
    "        # 파라미터 초기화\n",
    "        nn.init.xavier_uniform_(next(self.lstm.parameters()))\n",
    "\n",
    "    def forward(self, x):\n",
    "        out = self.embed(x)\n",
    "        out, (hidden, cell) = self.lstm(out)\n",
    "\n",
    "        return out, hidden, cell # Decode에 전달할 hidden, cell state도 반환"
   ]
  },
  {
   "cell_type": "code",
   "execution_count": null,
   "metadata": {
    "id": "x9cOmPlUYTIb",
    "tags": []
   },
   "outputs": [],
   "source": [
    "# Decoder 구현\n",
    "class LSTMDecoder(nn.Module):\n",
    "    def __init__(self, hidden_size, embed_dim, dec_vocab_size, num_layers=1):\n",
    "        super().__init__()\n",
    "\n",
    "        self.embed = nn.Embedding(dec_vocab_size, embed_dim, padding_idx=0)\n",
    "\n",
    "        self.lstm = nn.LSTM(\n",
    "            input_size=embed_dim, hidden_size=hidden_size,\n",
    "            num_layers=num_layers, batch_first=True)\n",
    "\n",
    "        self.fc1 = nn.Linear(hidden_size, dec_vocab_size)\n",
    "\n",
    "        nn.init.xavier_uniform_(next(self.lstm.parameters()))\n",
    "        nn.init.xavier_uniform_(self.fc1.weight)\n",
    "\n",
    "    def forward(self, x, h_state, c_state): # 이전 state 입력\n",
    "        out = self.embed(x)\n",
    "        out, (hidden, cell) = self.lstm(out, (h_state, c_state))\n",
    "        out = self.fc1(out)\n",
    "\n",
    "        return out, hidden, cell"
   ]
  },
  {
   "cell_type": "code",
   "execution_count": null,
   "metadata": {
    "id": "XORhM4D5sUdj",
    "tags": []
   },
   "outputs": [],
   "source": [
    "# Encoder-Decoder 모델 구현\n",
    "import random\n",
    "import time\n",
    "\n",
    "class LSTMEncoderDecoderModel(nn.Module):\n",
    "    def __init__(self, hidden_size, embed_dim, enc_vocab_size, dec_vocab_size,\n",
    "                 num_layers=1, tf_rate=0.5, start_token=4, device='cpu'):\n",
    "        super().__init__()\n",
    "        self.tf_rate = tf_rate\n",
    "        self.dec_vocab_size = dec_vocab_size\n",
    "        self.start_token=start_token\n",
    "        self.device=device\n",
    "\n",
    "        self.encoder = LSTMEncoder(hidden_size, embed_dim, enc_vocab_size, num_layers)\n",
    "        self.decoder = LSTMDecoder(hidden_size, embed_dim, dec_vocab_size, num_layers)\n",
    "\n",
    "    def forward(self, x_input, y_targets):\n",
    "        # 출력 값을 저장할 텐서 생성\n",
    "        outputs = torch.zeros(x_input.shape[0], y_targets.shape[1],\n",
    "                              self.dec_vocab_size, device=torch.device(self.device))\n",
    "\n",
    "        # 인코드 출력 중 hidden state를 decoder 입력 state로 사용\n",
    "        out, hidden, cell = self.encoder(x_input)\n",
    "\n",
    "        # <'sos'> 토큰 입력\n",
    "        input_words = [self.start_token]*x_input.shape[0]\n",
    "        decoder_input = torch.LongTensor(input_words).reshape(-1, 1).to(device)\n",
    "\n",
    "        for t in range(y_targets.shape[1]):\n",
    "            out, hidden, cell = self.decoder(decoder_input, hidden, cell)\n",
    "\n",
    "            # 교사강요\n",
    "            if random.random() < self.tf_rate:\n",
    "                decoder_input = y_targets[:, t].unsqueeze(-1)\n",
    "            else:\n",
    "                decoder_input = out.argmax(dim=2) # (batch, 1, vocab_size)\n",
    "            outputs[:, t, :] = out.view(-1, self.dec_vocab_size)\n",
    "\n",
    "        return outputs"
   ]
  },
  {
   "cell_type": "markdown",
   "metadata": {
    "id": "QDWw1y3HKLRd"
   },
   "source": [
    "## Dataset, DataLoader"
   ]
  },
  {
   "cell_type": "code",
   "execution_count": null,
   "metadata": {
    "id": "l89tegList53",
    "tags": []
   },
   "outputs": [],
   "source": [
    "class CustomDataset(torch.utils.data.Dataset):\n",
    "    def __init__(self, enc_x, dec_x, dec_y):\n",
    "        self.enc_x = enc_x\n",
    "        self.dec_x = dec_x\n",
    "        self.dec_y = dec_y\n",
    "\n",
    "    def __len__(self):\n",
    "        return len(self.enc_x)\n",
    "\n",
    "    def __getitem__(self, idx):\n",
    "        return self.enc_x[idx], self.dec_x[idx], self.dec_y[idx]\n",
    "\n",
    "device = 'cuda' if torch.cuda.is_available() else 'cpu'\n",
    "\n",
    "train_set = CustomDataset(encoder_inputs_train_torch,\n",
    "                          decoder_inputs_train_torch, decoder_labels_train_torch)\n",
    "test_set = CustomDataset(encoder_inputs_test_torch,\n",
    "                         decoder_inputs_test_torch, decoder_labels_test_torch)"
   ]
  },
  {
   "cell_type": "code",
   "execution_count": null,
   "metadata": {
    "id": "M06geCLgRVOg",
    "tags": []
   },
   "outputs": [],
   "source": [
    "from torch.utils.data import DataLoader\n",
    "\n",
    "SEED = 777\n",
    "torch.manual_seed(SEED)\n",
    "\n",
    "train_loader = DataLoader(dataset=train_set, batch_size=128,\n",
    "                          shuffle=True, drop_last=True)\n",
    "\n",
    "valid_loader = DataLoader(dataset=test_set, batch_size=128)"
   ]
  },
  {
   "cell_type": "code",
   "execution_count": null,
   "metadata": {
    "id": "rM6NNrQiM0be",
    "tags": []
   },
   "outputs": [],
   "source": [
    "model = LSTMEncoderDecoderModel(\n",
    "    64, 64, len(vocab_spa_torch.get_stoi()), len(vocab_eng_torch.get_stoi()),\n",
    "    tf_rate=1.0, device=device).to(device)"
   ]
  },
  {
   "cell_type": "code",
   "execution_count": null,
   "metadata": {
    "colab": {
     "base_uri": "https://localhost:8080/"
    },
    "executionInfo": {
     "elapsed": 19962,
     "status": "ok",
     "timestamp": 1695559042410,
     "user": {
      "displayName": "bandal_lab이세우",
      "userId": "06927367528797360084"
     },
     "user_tz": -540
    },
    "id": "tCsgh-rYLqm9",
    "outputId": "a3819cb7-54b5-4a0d-f707-2fc09c0b9b19"
   },
   "outputs": [
    {
     "name": "stdout",
     "output_type": "stream",
     "text": [
      "Collecting torchinfo\n",
      "  Downloading torchinfo-1.8.0-py3-none-any.whl (23 kB)\n",
      "Installing collected packages: torchinfo\n",
      "Successfully installed torchinfo-1.8.0\n"
     ]
    }
   ],
   "source": [
    "!pip install torchinfo"
   ]
  },
  {
   "cell_type": "code",
   "execution_count": null,
   "metadata": {
    "colab": {
     "base_uri": "https://localhost:8080/"
    },
    "executionInfo": {
     "elapsed": 10,
     "status": "ok",
     "timestamp": 1695559042411,
     "user": {
      "displayName": "bandal_lab이세우",
      "userId": "06927367528797360084"
     },
     "user_tz": -540
    },
    "id": "VyA-RRZcMRUa",
    "outputId": "7fe1fb60-04fc-4331-de40-25672b242554"
   },
   "outputs": [
    {
     "data": {
      "text/plain": [
       "=================================================================\n",
       "Layer (type:depth-idx)                   Param #\n",
       "=================================================================\n",
       "LSTMEncoderDecoderModel                  --\n",
       "├─LSTMEncoder: 1-1                       --\n",
       "│    └─Embedding: 2-1                    827,712\n",
       "│    └─LSTM: 2-2                         33,280\n",
       "├─LSTMDecoder: 1-2                       --\n",
       "│    └─Embedding: 2-3                    426,176\n",
       "│    └─LSTM: 2-4                         33,280\n",
       "│    └─Linear: 2-5                       432,835\n",
       "=================================================================\n",
       "Total params: 1,753,283\n",
       "Trainable params: 1,753,283\n",
       "Non-trainable params: 0\n",
       "================================================================="
      ]
     },
     "execution_count": 34,
     "metadata": {},
     "output_type": "execute_result"
    }
   ],
   "source": [
    "from torchinfo import summary\n",
    "\n",
    "summary(model)"
   ]
  },
  {
   "cell_type": "markdown",
   "metadata": {
    "id": "7DL5ov0AKOky"
   },
   "source": [
    "## 모델 학습"
   ]
  },
  {
   "cell_type": "code",
   "execution_count": null,
   "metadata": {
    "id": "uAdje3ekP32b",
    "tags": []
   },
   "outputs": [],
   "source": [
    "target_pad_token_idx = vocab_spa_torch.get_stoi()['<PAD>']\n",
    "loss = nn.CrossEntropyLoss(ignore_index=target_pad_token_idx).to(device)\n",
    "optimizer = optim.Adam(model.parameters())"
   ]
  },
  {
   "cell_type": "code",
   "execution_count": null,
   "metadata": {
    "colab": {
     "base_uri": "https://localhost:8080/"
    },
    "executionInfo": {
     "elapsed": 258365,
     "status": "ok",
     "timestamp": 1695559301246,
     "user": {
      "displayName": "bandal_lab이세우",
      "userId": "06927367528797360084"
     },
     "user_tz": -540
    },
    "id": "GB_P-QAvMRUa",
    "outputId": "1c9c113a-7e35-47a4-a3b6-7e468ff4e1b8"
   },
   "outputs": [
    {
     "name": "stderr",
     "output_type": "stream",
     "text": [
      "100%|██████████| 50/50 [04:18<00:00,  5.16s/it, epoch=49, loss=0.62145, val_loss=1.94379]\n"
     ]
    }
   ],
   "source": [
    "from tqdm import tqdm\n",
    "\n",
    "n_epochs = 50 # epochs 수\n",
    "\n",
    "results = {'Loss':[], 'Val_Loss':[]}\n",
    "\n",
    "pbar = tqdm(range(n_epochs))\n",
    "\n",
    "for epoch in pbar:\n",
    "    train_loss = 0\n",
    "    valid_loss = 0\n",
    "\n",
    "    n_train_batches = len(train_loader)\n",
    "    n_valid_batches = len(valid_loader)\n",
    "\n",
    "    model.train() # 학습 모드\n",
    "    for enc_x, dec_x, dec_y in train_loader:\n",
    "        enc_x, dec_x, dec_y = enc_x.to(device), dec_x.to(device), dec_y.to(device)\n",
    "        h = model(enc_x, dec_y) # 예측 값 생성\n",
    "        cost = loss(h.view(-1, h.shape[2]).to(device), dec_y.view(-1)) # cost 계산\n",
    "\n",
    "        optimizer.zero_grad() # 기울기 초기화\n",
    "        cost.backward()       # 역전파 수행\n",
    "        optimizer.step()      # 기울기 업데이트\n",
    "\n",
    "        train_loss += cost/n_train_batches\n",
    "    pbar.set_postfix(epoch=f'{epoch:2d}', loss=f'{train_loss.item():9.5f}')\n",
    "    results['Loss'].append(train_loss.item())\n",
    "\n",
    "    model.eval()\n",
    "    with torch.no_grad():\n",
    "        for enc_x, dec_x, dec_y in valid_loader:\n",
    "            enc_x, dec_x, dec_y = enc_x.to(device), dec_x.to(device), dec_y.to(device)\n",
    "            h = model(enc_x, dec_y) # 예측 값 생성\n",
    "            cost = loss(h.view(-1, h.shape[2]).to(device), dec_y.view(-1)) # cost 계산\n",
    "\n",
    "            valid_loss += cost/n_valid_batches\n",
    "        pbar.set_postfix(epoch=f'{epoch:2d}',\n",
    "                         loss=f'{train_loss.item():9.5f}', val_loss=f'{valid_loss.item():9.5f}')\n",
    "        results['Val_Loss'].append(train_loss.item())"
   ]
  },
  {
   "cell_type": "markdown",
   "metadata": {
    "id": "54IupoXLK8yg"
   },
   "source": [
    "## 추론"
   ]
  },
  {
   "cell_type": "code",
   "execution_count": null,
   "metadata": {
    "id": "kMv0ANtxMRUb"
   },
   "outputs": [],
   "source": [
    "def predict(x_input, target_len=10):\n",
    "    # 출력 값을 저장할 텐서 생성\n",
    "    outputs = []\n",
    "\n",
    "    start_token = vocab_eng_torch.get_stoi()['<sos>']\n",
    "    eng_itos = vocab_eng_torch.get_itos()\n",
    "\n",
    "    model.eval()\n",
    "    with torch.no_grad():\n",
    "        # 인코드 출력 중 hidden state를 decoder 입력 state로 사용\n",
    "        out, hidden, cell = model.encoder(x_input)\n",
    "\n",
    "        # <'sos'> 토큰 입력\n",
    "        input_words = [start_token]*x_input.shape[0]\n",
    "        decoder_input = torch.LongTensor(input_words).reshape(-1, 1).to(device)\n",
    "\n",
    "        c_token = ''\n",
    "\n",
    "        for t in range(target_len):\n",
    "            out, hidden, cell = model.decoder(decoder_input, hidden, cell)\n",
    "            decoder_input = out.argmax(dim=2).reshape(-1, 1)\n",
    "            outputs.append(decoder_input.item())\n",
    "            c_token = eng_itos[outputs[-1]]\n",
    "            if c_token == '<eos>':\n",
    "                break\n",
    "    outputs = ' '.join([eng_itos[idx] for idx in outputs[:-1]])\n",
    "    return outputs"
   ]
  },
  {
   "cell_type": "code",
   "execution_count": null,
   "metadata": {
    "id": "kwwF__jMMRUb"
   },
   "outputs": [],
   "source": [
    "def preprocessing(text, max_len=13):\n",
    "    seq = text_preprocess(text).split()\n",
    "    seq = ['<PAD>']*(max_len-len(seq))+seq\n",
    "    seq = sent2seq_spa([seq])\n",
    "    seq = torch.LongTensor(seq)\n",
    "    return seq"
   ]
  },
  {
   "cell_type": "code",
   "execution_count": null,
   "metadata": {
    "colab": {
     "base_uri": "https://localhost:8080/"
    },
    "executionInfo": {
     "elapsed": 13,
     "status": "ok",
     "timestamp": 1695559301247,
     "user": {
      "displayName": "bandal_lab이세우",
      "userId": "06927367528797360084"
     },
     "user_tz": -540
    },
    "id": "gKjTkArVJfx4",
    "outputId": "f168fc87-3d23-4bbf-ae96-f7590b0bbc50",
    "tags": []
   },
   "outputs": [
    {
     "name": "stdout",
     "output_type": "stream",
     "text": [
      "spanish: Tienen que ser más respetuosos.\n",
      "english: you must be more polite .\n"
     ]
    }
   ],
   "source": [
    "data = preprocessing(df.iloc[47855, 1]).to(device)\n",
    "pred = predict(data)\n",
    "print('spanish:', df.iloc[47855, 1])\n",
    "print('english:', pred)"
   ]
  },
  {
   "cell_type": "code",
   "execution_count": null,
   "metadata": {
    "colab": {
     "base_uri": "https://localhost:8080/"
    },
    "executionInfo": {
     "elapsed": 10,
     "status": "ok",
     "timestamp": 1695559301247,
     "user": {
      "displayName": "bandal_lab이세우",
      "userId": "06927367528797360084"
     },
     "user_tz": -540
    },
    "id": "Ngcit0dXMRUb",
    "outputId": "5048edeb-5097-4d3d-8603-b49d6139e89d"
   },
   "outputs": [
    {
     "name": "stdout",
     "output_type": "stream",
     "text": [
      "spanish: ¿Es esto suficiente dinero?\n",
      "english: is this real silver ?\n"
     ]
    }
   ],
   "source": [
    "data = preprocessing(df.iloc[30402, 1]).to(device)\n",
    "pred = predict(data)\n",
    "print('spanish:', df.iloc[30402, 1])\n",
    "print('english:', pred)"
   ]
  },
  {
   "cell_type": "markdown",
   "metadata": {
    "id": "dtLKsmohOZpS"
   },
   "source": [
    "# 기계번역 평가 지표"
   ]
  },
  {
   "cell_type": "code",
   "execution_count": null,
   "metadata": {
    "id": "KJWY7UyZXoSM",
    "tags": []
   },
   "outputs": [],
   "source": [
    "spa_seq = 'La única habitación libre es una habitación doble.'\n",
    "eng_label_seq = 'The only room available is a double.'\n",
    "eng_predicted_seq = 'the only room is a light a lot of the weekend .'"
   ]
  },
  {
   "cell_type": "markdown",
   "metadata": {
    "id": "FlsCHjxtOfFx"
   },
   "source": [
    "## Unigram Precision"
   ]
  },
  {
   "cell_type": "code",
   "execution_count": null,
   "metadata": {
    "colab": {
     "base_uri": "https://localhost:8080/"
    },
    "executionInfo": {
     "elapsed": 460,
     "status": "ok",
     "timestamp": 1695559589457,
     "user": {
      "displayName": "bandal_lab이세우",
      "userId": "06927367528797360084"
     },
     "user_tz": -540
    },
    "id": "7HfWCVoc6A5w",
    "outputId": "9da20f17-95ea-4dd6-fc0b-8f5b47594387",
    "tags": []
   },
   "outputs": [
    {
     "name": "stdout",
     "output_type": "stream",
     "text": [
      "Unigram Precision:  0.66667\n"
     ]
    }
   ],
   "source": [
    "# unigram precision\n",
    "import re\n",
    "\n",
    "predicted_text = re.sub(r'[^a-zA-Z0-9.]+', r' ', eng_predicted_seq)\n",
    "predicted_text = re.sub(r'([?.!])', r' \\1', predicted_text).strip().lower().split()\n",
    "label_text = re.sub(r'[^a-zA-Z0-9.]+', r' ', eng_label_seq)\n",
    "label_text = re.sub(r'([?.!])', r' \\1', label_text).strip().lower().split()\n",
    "\n",
    "n_total_pred = len(predicted_text)\n",
    "n_total_pred_in_label = 0\n",
    "\n",
    "for word in predicted_text:\n",
    "    if word in label_text:\n",
    "        n_total_pred_in_label+=1\n",
    "print(f'Unigram Precision: {n_total_pred_in_label/n_total_pred: .5f}')"
   ]
  },
  {
   "cell_type": "markdown",
   "metadata": {
    "id": "WX7lIGysOoW5"
   },
   "source": [
    "## Modified Unigram Precision"
   ]
  },
  {
   "cell_type": "code",
   "execution_count": null,
   "metadata": {
    "colab": {
     "base_uri": "https://localhost:8080/"
    },
    "executionInfo": {
     "elapsed": 357,
     "status": "ok",
     "timestamp": 1695559631696,
     "user": {
      "displayName": "bandal_lab이세우",
      "userId": "06927367528797360084"
     },
     "user_tz": -540
    },
    "id": "8D8EZDL36DJ9",
    "outputId": "73f65fed-76f7-4420-a4f9-d54a1082698f",
    "tags": []
   },
   "outputs": [
    {
     "name": "stdout",
     "output_type": "stream",
     "text": [
      "Modified Unigram Precision:  0.50000\n"
     ]
    }
   ],
   "source": [
    "# modified unigram precision\n",
    "predicted_text = re.sub(r'[^a-zA-Z0-9.]+', r' ', eng_predicted_seq)\n",
    "predicted_text = re.sub(r'([?.!])', r' \\1', predicted_text).strip().lower().split()\n",
    "label_text = re.sub(r'[^a-zA-Z0-9.]+', r' ', eng_label_seq)\n",
    "label_text = re.sub(r'([?.!])', r' \\1', label_text).strip().lower().split()\n",
    "\n",
    "n_total_pred = len(predicted_text)\n",
    "n_total_pred_in_label = 0\n",
    "\n",
    "for word in set(predicted_text):\n",
    "    n_total_pred_in_label+=label_text.count(word)\n",
    "print(f'Modified Unigram Precision: {n_total_pred_in_label/n_total_pred: .5f}')"
   ]
  },
  {
   "cell_type": "markdown",
   "metadata": {
    "id": "Xo7HWGjgOuV-"
   },
   "source": [
    "## N-gram Precision"
   ]
  },
  {
   "cell_type": "code",
   "execution_count": null,
   "metadata": {
    "id": "TCBiGS656GN7",
    "tags": []
   },
   "outputs": [],
   "source": [
    "# n-gram 데이터 생성 함수\n",
    "def convert_ngram(x, n):\n",
    "    ret = []\n",
    "    for i in range(len(x)-n+1):\n",
    "        ret.append(x[i:i+n])\n",
    "    return ret"
   ]
  },
  {
   "cell_type": "code",
   "execution_count": null,
   "metadata": {
    "colab": {
     "base_uri": "https://localhost:8080/"
    },
    "executionInfo": {
     "elapsed": 3,
     "status": "ok",
     "timestamp": 1695559652557,
     "user": {
      "displayName": "bandal_lab이세우",
      "userId": "06927367528797360084"
     },
     "user_tz": -540
    },
    "id": "F9L7VWKk6H7T",
    "outputId": "dfcfaebf-efd6-43a2-9819-47fdd1df9fe0",
    "tags": []
   },
   "outputs": [
    {
     "name": "stdout",
     "output_type": "stream",
     "text": [
      "N-gram Precision:  0.27273\n"
     ]
    }
   ],
   "source": [
    "# n-gram precision\n",
    "def ngram_precision(label, pred, n):\n",
    "    predicted_ngram_text = convert_ngram(pred, n)\n",
    "    label_ngram_text = convert_ngram(label, n)\n",
    "\n",
    "    n_total_pred = len(predicted_ngram_text)\n",
    "    n_total_pred_in_label = 0\n",
    "\n",
    "    for ngram in set(tuple(i) for i in predicted_ngram_text):\n",
    "        n_total_pred_in_label+=label_ngram_text.count(list(ngram))\n",
    "    return n_total_pred_in_label/n_total_pred if n_total_pred>0 else 0\n",
    "print(f'N-gram Precision: {ngram_precision(label_text, predicted_text, 2): .5f}')"
   ]
  },
  {
   "cell_type": "markdown",
   "metadata": {
    "id": "8oGn74CmOyoI"
   },
   "source": [
    "## BLEU\n",
    "* Bilingual Evaluation Understudy"
   ]
  },
  {
   "cell_type": "code",
   "execution_count": null,
   "metadata": {
    "colab": {
     "base_uri": "https://localhost:8080/"
    },
    "executionInfo": {
     "elapsed": 623,
     "status": "ok",
     "timestamp": 1695559684528,
     "user": {
      "displayName": "bandal_lab이세우",
      "userId": "06927367528797360084"
     },
     "user_tz": -540
    },
    "id": "h5yW4MIu6KoR",
    "outputId": "92de1674-299f-4c63-dbbb-b16917521fc2",
    "tags": []
   },
   "outputs": [
    {
     "name": "stdout",
     "output_type": "stream",
     "text": [
      "BLEU Score: 0.34172334076593075\n"
     ]
    }
   ],
   "source": [
    "# BLEU 구현\n",
    "def BLEU(label, pred, weights=(.25, .25, .25)):\n",
    "    label_len = len(label)\n",
    "    pred_len = len(pred)\n",
    "\n",
    "    # Brevity Penalty\n",
    "    BP = 1 if pred_len>label_len else np.exp(1-(label_len/pred_len))\n",
    "\n",
    "    # n-gram precision 계산\n",
    "    n_precisions = np.array([ngram_precision(label, pred, n+1) for n in range(len(weights))])\n",
    "\n",
    "    # BLEU 계산\n",
    "    tol = 1e-300\n",
    "    n_precisions[n_precisions == 0] += tol\n",
    "    BLEU = BP * np.exp((np.log(n_precisions)*np.array(weights)).sum())\n",
    "    return BLEU\n",
    "print('BLEU Score:', BLEU(label_text, predicted_text))"
   ]
  },
  {
   "cell_type": "markdown",
   "metadata": {
    "id": "oT32RgpTO9nW"
   },
   "source": [
    "# Attention Mechanism"
   ]
  },
  {
   "cell_type": "markdown",
   "metadata": {
    "id": "BoKNs-k8SlRZ"
   },
   "source": [
    "## Encoder, Decoder"
   ]
  },
  {
   "cell_type": "code",
   "execution_count": null,
   "metadata": {
    "id": "ojrXdijv6MIg",
    "tags": []
   },
   "outputs": [],
   "source": [
    "# Encoder 구현\n",
    "class LSTMEncoder(nn.Module):\n",
    "    def __init__(self, hidden_size, embed_dim, enc_vocab_size,\n",
    "                 num_layers=1, bidirectional=False):\n",
    "        super().__init__()\n",
    "\n",
    "        self.embed = nn.Embedding(enc_vocab_size, embed_dim)\n",
    "\n",
    "        self.lstm = nn.LSTM(\n",
    "            input_size=embed_dim, hidden_size=hidden_size,\n",
    "            num_layers=num_layers, batch_first=True, bidirectional=bidirectional)\n",
    "\n",
    "        # 파라미터 초기화\n",
    "        nn.init.xavier_uniform_(next(self.lstm.parameters()))\n",
    "\n",
    "    def forward(self, x):\n",
    "        out = self.embed(x)\n",
    "        out, (hidden, cell) = self.lstm(out)\n",
    "\n",
    "        return out, hidden, cell"
   ]
  },
  {
   "cell_type": "code",
   "execution_count": null,
   "metadata": {
    "id": "Ct76uSbt_PcX",
    "tags": []
   },
   "outputs": [],
   "source": [
    "# Decoder 구현\n",
    "class LSTMDecoder(nn.Module):\n",
    "    def __init__(self, hidden_size, embed_dim, dec_vocab_size,\n",
    "                 num_layers=1, bidirectional=False):\n",
    "        super().__init__()\n",
    "\n",
    "        self.embed = nn.Embedding(dec_vocab_size, embed_dim)\n",
    "\n",
    "        self.lstm = nn.LSTM(\n",
    "            input_size=embed_dim, hidden_size=hidden_size,\n",
    "            num_layers=num_layers, batch_first=True, bidirectional=bidirectional)\n",
    "\n",
    "        nn.init.xavier_uniform_(next(self.lstm.parameters()))\n",
    "\n",
    "    def forward(self, x, states):\n",
    "        out = self.embed(x)\n",
    "        out, (hidden, cell) = self.lstm(out, states)\n",
    "\n",
    "        return out, hidden, cell"
   ]
  },
  {
   "cell_type": "markdown",
   "metadata": {
    "id": "Z2NKAV1tSny8"
   },
   "source": [
    "## BahdanauAttension"
   ]
  },
  {
   "cell_type": "code",
   "execution_count": null,
   "metadata": {
    "id": "t8ykvf55_SLv",
    "tags": []
   },
   "outputs": [],
   "source": [
    "class BahdanauAttention(nn.Module):\n",
    "    def __init__(self, hidden_size, bidirectional=False):\n",
    "        super().__init__()\n",
    "\n",
    "        if bidirectional:\n",
    "            hidden_size = hidden_size*2\n",
    "\n",
    "        self.w_query = nn.Linear(hidden_size, hidden_size, bias=False)\n",
    "        self.w_key = nn.Linear(hidden_size, hidden_size, bias=False)\n",
    "        self.w_combined = nn.Linear(hidden_size, 1, bias=False)\n",
    "\n",
    "        nn.init.xavier_uniform_(self.w_query.weight)\n",
    "        nn.init.xavier_uniform_(self.w_key.weight)\n",
    "        nn.init.xavier_uniform_(self.w_combined.weight)\n",
    "\n",
    "    def forward(self, query, key, value=None):\n",
    "        if value == None:\n",
    "            value = key\n",
    "        out = torch.tanh(self.w_query(query) + self.w_key(key))\n",
    "        attention_score = self.w_combined(out).permute(0, 2, 1)\n",
    "        attention_weight = torch.softmax(attention_score, dim=2)\n",
    "        context_vector = torch.bmm(attention_weight, value)\n",
    "        return attention_score, attention_weight, context_vector"
   ]
  },
  {
   "cell_type": "markdown",
   "metadata": {
    "id": "efig7fmYSrdk"
   },
   "source": [
    "## LuongAttention"
   ]
  },
  {
   "cell_type": "code",
   "execution_count": null,
   "metadata": {
    "id": "EMSQeycGBlbL",
    "tags": []
   },
   "outputs": [],
   "source": [
    "def LuongAttention(query, key, value=None):\n",
    "    if value == None:\n",
    "        value = key\n",
    "    attention_score = torch.bmm(query, torch.transpose(key, 1,2))\n",
    "    attention_weight = torch.softmax(attention_score, dim=2)\n",
    "    context_vector = torch.bmm(attention_weight, value)\n",
    "    return attention_score, attention_weight, context_vector"
   ]
  },
  {
   "cell_type": "markdown",
   "metadata": {
    "id": "-HSnZuHlSw9J"
   },
   "source": [
    "## AttentionModel 생성"
   ]
  },
  {
   "cell_type": "code",
   "execution_count": null,
   "metadata": {
    "id": "045uTtBSdGdS"
   },
   "outputs": [],
   "source": [
    "# Encoder-Decoder 모델 구현\n",
    "import random\n",
    "\n",
    "class AttentionModel(nn.Module):\n",
    "    def __init__(self, hidden_size, embed_dim, enc_vocab_size, dec_vocab_size,\n",
    "                 num_layers=1, tf_rate=0.5, bidirectional=False, device='cpu'):\n",
    "        super().__init__()\n",
    "        self.tf_rate = tf_rate\n",
    "        self.dec_vocab_size = dec_vocab_size\n",
    "        self.device = device\n",
    "\n",
    "        self.encoder = LSTMEncoder(hidden_size, embed_dim, enc_vocab_size,\n",
    "                                  num_layers, bidirectional=bidirectional)\n",
    "        self.decoder = LSTMDecoder(hidden_size, embed_dim, dec_vocab_size,\n",
    "                                  num_layers, bidirectional=bidirectional)\n",
    "\n",
    "        self.attention = BahdanauAttention(hidden_size, bidirectional=bidirectional)\n",
    "\n",
    "        if bidirectional:\n",
    "            self.output = nn.Linear(hidden_size*2*2, dec_vocab_size)\n",
    "        else:\n",
    "            self.output = nn.Linear(hidden_size*2, dec_vocab_size)\n",
    "\n",
    "        nn.init.xavier_uniform_(self.output.weight)\n",
    "\n",
    "    def forward(self, x_input, y_targets):\n",
    "        # 출력 값을 저장할 텐서 생성\n",
    "        outputs = torch.zeros(x_input.shape[0], y_targets.shape[1],\n",
    "                              self.dec_vocab_size, device=torch.device(self.device))\n",
    "\n",
    "        # 인코드 출력 중 hidden state를 decoder 입력 state로 사용\n",
    "        enc_out, hidden, cell= self.encoder(x_input)\n",
    "\n",
    "        # <'sos'> 토큰 입력\n",
    "        input_words = [vocab_eng_torch.get_stoi()['<sos>']]*x_input.shape[0]\n",
    "        decoder_input = torch.LongTensor(input_words).reshape(-1, 1).to(device)\n",
    "\n",
    "        for t in range(y_targets.shape[1]):\n",
    "            out, hidden, cell = self.decoder(decoder_input, (hidden, cell))\n",
    "\n",
    "            attention_score, attention_weight, context_vector = self.attention(out, enc_out)\n",
    "            out = torch.cat((context_vector, out), dim=2)\n",
    "            out = self.output(out)\n",
    "\n",
    "            # 교사강요\n",
    "            if random.random() < self.tf_rate:\n",
    "                decoder_input = y_targets[:, t].unsqueeze(-1)\n",
    "            else:\n",
    "                decoder_input = out.argmax(dim=2)\n",
    "            outputs[:, t, :] = out.view(-1, self.dec_vocab_size)\n",
    "\n",
    "        return outputs"
   ]
  },
  {
   "cell_type": "markdown",
   "metadata": {
    "id": "eKJkcodpS_h6"
   },
   "source": [
    "## 모델 학습"
   ]
  },
  {
   "cell_type": "code",
   "execution_count": null,
   "metadata": {
    "id": "GBF1LcelcIQi",
    "tags": []
   },
   "outputs": [],
   "source": [
    "torch.manual_seed(777)\n",
    "\n",
    "model = AttentionModel(\n",
    "    64, 64, len(vocab_spa_torch.get_stoi()),len(vocab_eng_torch.get_stoi()),\n",
    "    tf_rate=1.0, bidirectional=True, device=device).to(device)\n",
    "\n",
    "loss = nn.CrossEntropyLoss(ignore_index=target_pad_token_idx).to(device)\n",
    "optimizer = optim.Adam(model.parameters())"
   ]
  },
  {
   "cell_type": "code",
   "execution_count": null,
   "metadata": {
    "colab": {
     "base_uri": "https://localhost:8080/"
    },
    "executionInfo": {
     "elapsed": 207102,
     "status": "ok",
     "timestamp": 1695563947902,
     "user": {
      "displayName": "bandal_lab이세우",
      "userId": "06927367528797360084"
     },
     "user_tz": -540
    },
    "id": "eTmPw2MaMRUf",
    "outputId": "dccee39d-0c98-4178-e3fb-b783a19c1e28"
   },
   "outputs": [
    {
     "name": "stderr",
     "output_type": "stream",
     "text": [
      "100%|██████████| 20/20 [03:27<00:00, 10.35s/it, epoch=19, loss=0.31200, val_loss=1.31415]\n"
     ]
    }
   ],
   "source": [
    "from tqdm import tqdm\n",
    "\n",
    "n_epochs = 20 # epochs 수\n",
    "\n",
    "results = {'Loss':[], 'Val_Loss':[]}\n",
    "\n",
    "pbar = tqdm(range(n_epochs))\n",
    "\n",
    "for epoch in pbar:\n",
    "    train_loss = 0\n",
    "    valid_loss = 0\n",
    "\n",
    "    n_train_batches = len(train_loader)\n",
    "    n_valid_batches = len(valid_loader)\n",
    "\n",
    "    model.train() # 학습 모드\n",
    "    for enc_x, dec_x, dec_y in train_loader:\n",
    "        enc_x, dec_x, dec_y = enc_x.to(device), dec_x.to(device), dec_y.to(device)\n",
    "        h = model(enc_x, dec_y) # 예측 값 생성\n",
    "        cost = loss(h.view(-1, h.shape[2]).to(device), dec_y.view(-1)) # cost 계산\n",
    "\n",
    "        optimizer.zero_grad() # 기울기 초기화\n",
    "        cost.backward()       # 역전파 수행\n",
    "        optimizer.step()      # 기울기 업데이트\n",
    "\n",
    "        train_loss += cost/n_train_batches\n",
    "    pbar.set_postfix(epoch=f'{epoch:2d}', loss=f'{train_loss.item():9.5f}')\n",
    "    results['Loss'].append(train_loss.item())\n",
    "\n",
    "    model.eval()\n",
    "    with torch.no_grad():\n",
    "        for enc_x, dec_x, dec_y in valid_loader:\n",
    "            enc_x, dec_x, dec_y = enc_x.to(device), dec_x.to(device), dec_y.to(device)\n",
    "            h = model(enc_x, dec_y) # 예측 값 생성\n",
    "            cost = loss(h.view(-1, h.shape[2]).to(device), dec_y.view(-1)) # cost 계산\n",
    "\n",
    "            valid_loss += cost/n_valid_batches\n",
    "        pbar.set_postfix(epoch=f'{epoch:2d}',\n",
    "                         loss=f'{train_loss.item():9.5f}', val_loss=f'{valid_loss.item():9.5f}')\n",
    "        results['Val_Loss'].append(valid_loss.item())"
   ]
  },
  {
   "cell_type": "markdown",
   "metadata": {
    "id": "Ml_k9pxfTBXS"
   },
   "source": [
    "## 추론"
   ]
  },
  {
   "cell_type": "code",
   "execution_count": null,
   "metadata": {
    "id": "Vo61emKIMRUf"
   },
   "outputs": [],
   "source": [
    "def predict(x_input, target_len=10):\n",
    "    # 출력 값을 저장할 텐서 생성\n",
    "    outputs = []\n",
    "    weights = []\n",
    "\n",
    "    start_token = vocab_eng_torch.get_stoi()['<sos>']\n",
    "    eng_itos = vocab_eng_torch.get_itos()\n",
    "\n",
    "    model.eval()\n",
    "    with torch.no_grad():\n",
    "        # 인코드 출력 중 hidden state를 decoder 입력 state로 사용\n",
    "        enc_out, hidden, cell = model.encoder(x_input)\n",
    "\n",
    "        # <'sos'> 토큰 입력\n",
    "        input_words = [start_token]*x_input.shape[0]\n",
    "        decoder_input = torch.LongTensor(input_words).reshape(-1, 1).to(device)\n",
    "\n",
    "        c_token = ''\n",
    "\n",
    "        for t in range(target_len):\n",
    "            out, hidden, cell = model.decoder(decoder_input, (hidden, cell))\n",
    "            attention_score, attention_weight, context_vector = model.attention(out, enc_out)\n",
    "            out = torch.cat((context_vector, out), dim=2)\n",
    "            out = model.output(out)\n",
    "            decoder_input = out.argmax(dim=2).reshape(-1, 1)\n",
    "            outputs.append(decoder_input.item())\n",
    "            weights.append(attention_weight.reshape(-1).detach().cpu().numpy())\n",
    "            c_token = eng_itos[outputs[-1]]\n",
    "            if c_token == '<eos>':\n",
    "                break\n",
    "    outputs = ' '.join([eng_itos[idx] for idx in outputs[:-1]])\n",
    "    return outputs, weights"
   ]
  },
  {
   "cell_type": "code",
   "execution_count": null,
   "metadata": {
    "id": "8PJM-Jlh6y1_",
    "tags": []
   },
   "outputs": [],
   "source": [
    "def preprocessing(text, max_len=13):\n",
    "    seq = text_preprocess(text).split()\n",
    "    seq = ['<PAD>']*(max_len-len(seq))+seq\n",
    "    seq = sent2seq_spa([seq])\n",
    "    seq = torch.LongTensor(seq)\n",
    "    return seq"
   ]
  },
  {
   "cell_type": "code",
   "execution_count": null,
   "metadata": {
    "colab": {
     "base_uri": "https://localhost:8080/"
    },
    "executionInfo": {
     "elapsed": 8,
     "status": "ok",
     "timestamp": 1695563947904,
     "user": {
      "displayName": "bandal_lab이세우",
      "userId": "06927367528797360084"
     },
     "user_tz": -540
    },
    "id": "IkB8eN6Y6y1_",
    "outputId": "a70e1d51-d1ec-4a9b-b14f-75a0f177fe09",
    "tags": []
   },
   "outputs": [
    {
     "name": "stdout",
     "output_type": "stream",
     "text": [
      "spanish: Tienen que ser más respetuosos.\n",
      "english: you must be more polite .\n"
     ]
    }
   ],
   "source": [
    "data = preprocessing(df.iloc[47855, 1]).to(device)\n",
    "pred, weights= predict(data)\n",
    "print('spanish:', df.iloc[47855, 1])\n",
    "print('english:', pred)"
   ]
  },
  {
   "cell_type": "code",
   "execution_count": null,
   "metadata": {
    "colab": {
     "base_uri": "https://localhost:8080/"
    },
    "executionInfo": {
     "elapsed": 6,
     "status": "ok",
     "timestamp": 1695563947904,
     "user": {
      "displayName": "bandal_lab이세우",
      "userId": "06927367528797360084"
     },
     "user_tz": -540
    },
    "id": "nrPtYQ-9MRUf",
    "outputId": "f4721a42-4dc2-49ee-dc76-506c3c1b9d83"
   },
   "outputs": [
    {
     "name": "stdout",
     "output_type": "stream",
     "text": [
      "spanish: ¿Es esto suficiente dinero?\n",
      "english: is this enough money ?\n"
     ]
    }
   ],
   "source": [
    "data = preprocessing(df.iloc[30402, 1]).to(device)\n",
    "pred, weights = predict(data)\n",
    "print('spanish:', df.iloc[30402, 1])\n",
    "print('english:', pred)"
   ]
  },
  {
   "cell_type": "code",
   "execution_count": null,
   "metadata": {
    "colab": {
     "base_uri": "https://localhost:8080/",
     "height": 448
    },
    "executionInfo": {
     "elapsed": 1374,
     "status": "ok",
     "timestamp": 1695563949274,
     "user": {
      "displayName": "bandal_lab이세우",
      "userId": "06927367528797360084"
     },
     "user_tz": -540
    },
    "id": "qwBMPUcjoV11",
    "outputId": "20c220c9-e79f-45f6-fb10-0d67b38f7e11",
    "tags": []
   },
   "outputs": [
    {
     "data": {
      "text/plain": [
       "<Axes: >"
      ]
     },
     "execution_count": 74,
     "metadata": {},
     "output_type": "execute_result"
    },
    {
     "data": {
      "image/png": "[encoded data removed]",
      "text/plain": [
       "<Figure size 640x480 with 2 Axes>"
      ]
     },
     "metadata": {},
     "output_type": "display_data"
    }
   ],
   "source": [
    "import seaborn as sns\n",
    "\n",
    "sns.heatmap(np.array(weights))"
   ]
  },
  {
   "cell_type": "markdown",
   "metadata": {
    "id": "wfXq5oa-huQX"
   },
   "source": [
    "# Transformer"
   ]
  },
  {
   "cell_type": "markdown",
   "metadata": {
    "id": "IUytrhzFlTih"
   },
   "source": [
    "## Positional Encoding"
   ]
  },
  {
   "cell_type": "code",
   "execution_count": null,
   "metadata": {
    "id": "Okza5e16ZOY7",
    "tags": []
   },
   "outputs": [],
   "source": [
    "class PositionalEncoding(nn.Module):\n",
    "    def __init__(self, position, d_embed, dropout, device):\n",
    "        super().__init__()\n",
    "\n",
    "        self.pos_encoded = self.encode(position, d_embed).to(device)\n",
    "\n",
    "        self.dropout = nn.Dropout(p=dropout)\n",
    "\n",
    "    def encode(self, length, depth): # 가산될 인코딩 값 계산 함수\n",
    "        positions = np.arange(length).reshape(-1, 1)\n",
    "\n",
    "        depth_even = np.arange(depth)[np.newaxis, ::2]*2/depth\n",
    "        depth_odd = np.arange(depth)[np.newaxis, 1::2]*2/depth\n",
    "\n",
    "        angle_rate_even = 1 / (10000**depth_even)\n",
    "        angle_rate_odd = 1 / (10000**depth_odd)\n",
    "\n",
    "        angle_rad_even = positions * angle_rate_even\n",
    "        angle_rad_odd = positions * angle_rate_odd\n",
    "\n",
    "        pos_encoding = np.zeros((length, depth))\n",
    "        pos_encoding[:, ::2] = np.sin(angle_rad_even)\n",
    "        pos_encoding[:, 1::2] = np.cos(angle_rad_odd)\n",
    "\n",
    "        return torch.FloatTensor(pos_encoding).unsqueeze(0)\n",
    "\n",
    "    def forward(self, inputs):\n",
    "        seq_len = inputs.shape[1]\n",
    "        out = self.dropout(inputs + self.pos_encoded[:, :seq_len, :])\n",
    "        return out"
   ]
  },
  {
   "cell_type": "code",
   "execution_count": null,
   "metadata": {
    "id": "TMd54buQGFCd",
    "tags": []
   },
   "outputs": [],
   "source": [
    "class PositionalEmbedding(nn.Module):\n",
    "    def __init__(self, seq_len, d_model, d_embed, vocab_size,\n",
    "                 dropout, pad, device):\n",
    "        super().__init__()\n",
    "        self.embed = nn.Embedding(vocab_size, d_embed, padding_idx=pad)\n",
    "        self.positional_encoding = PositionalEncoding(seq_len, d_embed,\n",
    "                                                      dropout, device)\n",
    "        self.scaler = d_model**0.5\n",
    "\n",
    "    def forward(self, inputs):\n",
    "        out = self.embed(inputs) * self.scaler\n",
    "        out = self.positional_encoding(out)\n",
    "        return out"
   ]
  },
  {
   "cell_type": "markdown",
   "metadata": {
    "id": "wSEUqLRKmpRh"
   },
   "source": [
    "## Multi-Head Attention"
   ]
  },
  {
   "cell_type": "code",
   "execution_count": null,
   "metadata": {
    "id": "OKl8MLLCskHo",
    "tags": []
   },
   "outputs": [],
   "source": [
    "class ScaledDotProductAttention(nn.Module):\n",
    "    def __init__(self, d_k):\n",
    "        super().__init__()\n",
    "        self.d_k = d_k\n",
    "        self.d_k_sqrt = self.d_k**(1/2)\n",
    "\n",
    "    def forward(self, query, key, value, padding_mask, causal_mask):\n",
    "        attention_score = torch.matmul(query, torch.transpose(key, -2, -1))/self.d_k_sqrt\n",
    "\n",
    "        if padding_mask is not None and causal_mask is not None:\n",
    "            mask = torch.maximum(causal_mask, padding_mask)\n",
    "            attention_score = attention_score.masked_fill(mask==1, -1e9)\n",
    "        elif padding_mask is not None:\n",
    "            attention_score = attention_score.masked_fill(padding_mask==1, -1e9)\n",
    "        elif causal_mask is not None:\n",
    "            attention_score = attention_score.masked_fill(causal_mask==1, -1e9)\n",
    "\n",
    "        attention_weight = torch.softmax(attention_score, dim=-1)\n",
    "        attention_value = torch.matmul(attention_weight, value)\n",
    "\n",
    "        return attention_score, attention_weight, attention_value"
   ]
  },
  {
   "cell_type": "code",
   "execution_count": null,
   "metadata": {
    "id": "SAQyJ3auVOud",
    "tags": []
   },
   "outputs": [],
   "source": [
    "class MultiHeadAttention(nn.Module):\n",
    "    def __init__(self, d_model, d_embed, n_heads, device):\n",
    "        super().__init__()\n",
    "\n",
    "        self.device = device\n",
    "        self.d_model = d_model\n",
    "        self.d_embed = d_embed\n",
    "        self.n_heads = n_heads\n",
    "        self.d_k = d_model // n_heads\n",
    "\n",
    "        self.w_q = nn.Linear(d_embed, d_model, bias=False)\n",
    "        self.w_k = nn.Linear(d_embed, d_model, bias=False)\n",
    "        self.w_v = nn.Linear(d_embed, d_model, bias=False)\n",
    "        self.w_0 = nn.Linear(d_model, d_embed, bias=False)\n",
    "\n",
    "        self.attention = ScaledDotProductAttention(self.d_k)\n",
    "\n",
    "        nn.init.kaiming_uniform_(self.w_q.weight)\n",
    "        nn.init.kaiming_uniform_(self.w_k.weight)\n",
    "        nn.init.kaiming_uniform_(self.w_v.weight)\n",
    "        nn.init.kaiming_uniform_(self.w_0.weight)\n",
    "\n",
    "    def forward(self, query, key, value=None, padding_mask=None, use_causal_mask=False):\n",
    "        if value is None:\n",
    "            value = key\n",
    "\n",
    "        wq = self.w_q(query)\n",
    "        wk = self.w_k(key)\n",
    "        wv = self.w_v(value)\n",
    "\n",
    "        wq = wq.view(wq.shape[0], -1, self.n_heads, self.d_k).permute(0, 2, 1, 3)\n",
    "        wk = wk.view(wk.shape[0], -1, self.n_heads, self.d_k).permute(0, 2, 1, 3)\n",
    "        wv = wv.view(wv.shape[0], -1, self.n_heads, self.d_k).permute(0, 2, 1, 3)\n",
    "\n",
    "        if use_causal_mask:\n",
    "            causal_mask = self._get_causal_mask(wq)\n",
    "        else:\n",
    "            causal_mask = None\n",
    "\n",
    "        attention_score, attention_weight, attention_value = self.attention(\n",
    "            wq, wk, wv, padding_mask=padding_mask, causal_mask=causal_mask)\n",
    "\n",
    "        attention_value = attention_value.permute(0, 2, 1, 3)\n",
    "        out = self.w_0(attention_value.contiguous().view(\n",
    "            attention_value.shape[0], -1, self.d_model))\n",
    "\n",
    "        return out, attention_score, attention_weight, attention_value\n",
    "\n",
    "    def _get_causal_mask(self, x):\n",
    "        mask = torch.ones((x.shape[-2], x.shape[-2]),\n",
    "                          device=torch.device(self.device)).triu(diagonal=1)\n",
    "        return mask"
   ]
  },
  {
   "cell_type": "code",
   "execution_count": null,
   "metadata": {
    "id": "ZvsMe95TryuJ",
    "tags": []
   },
   "outputs": [],
   "source": [
    "class PositionWiseFedForwardNeuralNetwork(nn.Module):\n",
    "    def __init__(self, d_embed, d_ff):\n",
    "        super().__init__()\n",
    "        self.fc1 = nn.Linear(d_embed, d_ff)\n",
    "        self.fc2 = nn.Linear(d_ff, d_embed)\n",
    "        self.relu = nn.ReLU()\n",
    "\n",
    "        nn.init.kaiming_uniform_(self.fc1.weight)\n",
    "        nn.init.kaiming_uniform_(self.fc2.weight)\n",
    "\n",
    "    def forward(self, x):\n",
    "        out = self.relu(self.fc1(x))\n",
    "        out = self.fc2(out)\n",
    "        return out"
   ]
  },
  {
   "cell_type": "markdown",
   "metadata": {
    "id": "4NCmywMimzPD"
   },
   "source": [
    "## Encoder"
   ]
  },
  {
   "cell_type": "code",
   "execution_count": null,
   "metadata": {
    "id": "UQJRiCxCukwM",
    "tags": []
   },
   "outputs": [],
   "source": [
    "class TransformerEncoder(nn.Module):\n",
    "    def __init__(self, d_model, d_embed, d_ff, n_heads, dropout, device):\n",
    "        super().__init__()\n",
    "        self.attention = MultiHeadAttention(d_model, d_embed, n_heads, device)\n",
    "\n",
    "        self.dropout = nn.Dropout(p=dropout)\n",
    "\n",
    "        self.layernorm1 = nn.LayerNorm(d_embed)\n",
    "        self.layernorm2 = nn.LayerNorm(d_embed)\n",
    "\n",
    "        self.fc = PositionWiseFedForwardNeuralNetwork(d_embed, d_ff)\n",
    "\n",
    "    def forward(self, x, padding_mask=None):\n",
    "        out, a, w, v = self.attention(x, x, padding_mask=padding_mask) # self attention\n",
    "        out = self.dropout(out) # dropout\n",
    "        out1 = self.layernorm1(x+out) # Residual Connection and Layer Normalization\n",
    "        out2 = self.fc(out1) # PWFFN\n",
    "        out2 = self.dropout(out2) # dropout\n",
    "        out = self.layernorm2(out1+out2) # Residual Connection and Layer Normalization\n",
    "\n",
    "        return out"
   ]
  },
  {
   "cell_type": "markdown",
   "metadata": {
    "id": "GU6vUPKTm0nq"
   },
   "source": [
    "## Decoder"
   ]
  },
  {
   "cell_type": "code",
   "execution_count": null,
   "metadata": {
    "id": "62ib0atc7Akz",
    "tags": []
   },
   "outputs": [],
   "source": [
    "class TransformerDecoder(nn.Module):\n",
    "    def __init__(self, d_model, d_embed, d_ff, n_heads, dropout, device):\n",
    "        super().__init__()\n",
    "        self.self_attention = MultiHeadAttention(d_model, d_embed, n_heads, device)\n",
    "        self.cross_attention = MultiHeadAttention(d_model, d_embed, n_heads, device)\n",
    "\n",
    "        self.dropout = nn.Dropout(p=dropout)\n",
    "\n",
    "        self.layernorm1 = nn.LayerNorm(d_embed)\n",
    "        self.layernorm2 = nn.LayerNorm(d_embed)\n",
    "        self.layernorm3 = nn.LayerNorm(d_embed)\n",
    "\n",
    "        self.fc = PositionWiseFedForwardNeuralNetwork(d_embed, d_ff)\n",
    "\n",
    "    def forward(self, x, enc_out, self_padding_mask=None, cross_padding_mask=None):\n",
    "        out, a, w, v = self.self_attention(x, x, # self attention\n",
    "                                           padding_mask=self_padding_mask, use_causal_mask=True)\n",
    "        out = self.dropout(out) # dropout\n",
    "        out1 = self.layernorm1(x+out) # Residual Connection and Layer Normalization\n",
    "        out2, a, w, v = self.cross_attention(out1, enc_out, # cross attention\n",
    "                                             padding_mask=cross_padding_mask)\n",
    "        out2 = self.dropout(out2) # dropout\n",
    "        out1 = self.layernorm2(out1+out2) # Residual Connection and Layer Normalization\n",
    "        out2 = self.fc(out1) # PWFFN\n",
    "        out2 = self.dropout(out2) # dropout\n",
    "        out = self.layernorm3(out1+out2) # Residual Connection and Layer Normalization\n",
    "\n",
    "        return out"
   ]
  },
  {
   "cell_type": "code",
   "execution_count": null,
   "metadata": {
    "id": "7yqlkvGHPAAj",
    "tags": []
   },
   "outputs": [],
   "source": [
    "class TransformerEncoderBlock(nn.Module):\n",
    "    def __init__(self, vocab_size, seq_len, d_model, d_embed, d_ff,\n",
    "                 n_heads, dropout, n_layers, pad, device):\n",
    "        super().__init__()\n",
    "\n",
    "        self.positional_embedding = PositionalEmbedding(seq_len, d_model, d_embed,\n",
    "                                                        vocab_size, dropout, pad, device)\n",
    "        self.encoders = nn.ModuleList()\n",
    "\n",
    "        self.n_layers = n_layers\n",
    "\n",
    "        for i in range(n_layers):\n",
    "            self.encoders.append(TransformerEncoder(d_model, d_embed, d_ff,\n",
    "                                                    n_heads, dropout, device))\n",
    "\n",
    "    def forward(self, x, mask=None):\n",
    "        out = self.positional_embedding(x)\n",
    "\n",
    "        for i in range(self.n_layers):\n",
    "            out = self.encoders[i](out, padding_mask=mask)\n",
    "        return out"
   ]
  },
  {
   "cell_type": "code",
   "execution_count": null,
   "metadata": {
    "id": "FVwZYR4ZdB2q",
    "tags": []
   },
   "outputs": [],
   "source": [
    "class TransformerDecoderBlock(nn.Module):\n",
    "    def __init__(self, vocab_size, seq_len, d_model, d_embed, d_ff,\n",
    "                 n_heads, dropout, n_layers, pad, device):\n",
    "        super().__init__()\n",
    "\n",
    "        self.positional_embedding = PositionalEmbedding(seq_len, d_model, d_embed,\n",
    "                                                        vocab_size, dropout, pad, device)\n",
    "        self.decoders = nn.ModuleList()\n",
    "\n",
    "        self.n_layers = n_layers\n",
    "\n",
    "        for i in range(n_layers):\n",
    "            self.decoders.append(TransformerDecoder(d_model, d_embed, d_ff,\n",
    "                                                    n_heads, dropout, device))\n",
    "\n",
    "    def forward(self, x, enc_out, self_mask=None, cross_mask=None):\n",
    "        out = self.positional_embedding(x)\n",
    "\n",
    "        for i in range(self.n_layers):\n",
    "            out = self.decoders[i](out, enc_out,\n",
    "                                   self_padding_mask=self_mask, cross_padding_mask=cross_mask)\n",
    "        return out"
   ]
  },
  {
   "cell_type": "markdown",
   "metadata": {
    "id": "C0YekH-FnEEY"
   },
   "source": [
    "## Transformer Model"
   ]
  },
  {
   "cell_type": "code",
   "execution_count": null,
   "metadata": {
    "id": "UXsyWMJakSAM",
    "tags": []
   },
   "outputs": [],
   "source": [
    "class Transformer(nn.Module):\n",
    "    def __init__(self, enc_vocab_size, dec_vocab_size, enc_seq_len, dec_seq_len,\n",
    "                 d_model=128, d_embed=128, d_ff=256, n_heads=2, dropout=0.1,\n",
    "                 n_layers=2, pad=0, device='cpu'):\n",
    "        super().__init__()\n",
    "\n",
    "        self.device = device\n",
    "\n",
    "        self.encoder_block = TransformerEncoderBlock(enc_vocab_size, enc_seq_len,\n",
    "                                                     d_model, d_embed, d_ff, n_heads,\n",
    "                                                     dropout, n_layers, pad, device)\n",
    "        self.decoder_block = TransformerDecoderBlock(dec_vocab_size, dec_seq_len,\n",
    "                                                     d_model, d_embed, d_ff, n_heads,\n",
    "                                                     dropout, n_layers, pad, device)\n",
    "\n",
    "        self.fc = nn.Linear(d_embed, dec_vocab_size)\n",
    "\n",
    "        nn.init.xavier_uniform_(self.fc.weight)\n",
    "\n",
    "    def forward(self, enc_input, dec_input, pad=0):\n",
    "        enc_self_padding_mask = self._get_qk_padding_mask(enc_input, enc_input, pad).to(self.device)\n",
    "        dec_self_padding_mask = self._get_qk_padding_mask(dec_input, dec_input, pad).to(self.device)\n",
    "        dec_cross_padding_mask = self._get_qk_padding_mask(dec_input, enc_input, pad).to(self.device)\n",
    "\n",
    "        enc_out = self.encoder_block(enc_input, enc_self_padding_mask)\n",
    "        dec_out = self.decoder_block(dec_input, enc_out, dec_self_padding_mask, dec_cross_padding_mask)\n",
    "\n",
    "        out = self.fc(dec_out)\n",
    "        return out\n",
    "\n",
    "    def _get_padding_mask(self, x, pad):\n",
    "        mask = (x==pad)\n",
    "        return mask.to(torch.int32)\n",
    "\n",
    "    def _get_qk_padding_mask(self, query, key, pad):\n",
    "        query_mask = self._get_padding_mask(query, pad)\n",
    "        key_mask = self._get_padding_mask(key, pad)\n",
    "\n",
    "        query_mask = query_mask.unsqueeze(1).unsqueeze(3)\n",
    "        key_mask = key_mask.unsqueeze(1).unsqueeze(2)\n",
    "\n",
    "        query_mask = query_mask.repeat(1, 1, 1, key.shape[1])\n",
    "        key_mask = key_mask.repeat(1, 1, query.shape[1], 1)\n",
    "\n",
    "        mask = query_mask | key_mask\n",
    "\n",
    "        return mask"
   ]
  },
  {
   "cell_type": "code",
   "execution_count": null,
   "metadata": {
    "id": "I1ofdhA0MRUk"
   },
   "outputs": [],
   "source": [
    "enc_vocab_size = len(vocab_spa_torch.get_stoi())\n",
    "enc_seq_len = encoder_inputs_train_torch.shape[1]\n",
    "\n",
    "dec_vocab_size = len(vocab_eng_torch.get_stoi())\n",
    "dec_seq_len = decoder_inputs_train_torch.shape[1]"
   ]
  },
  {
   "cell_type": "code",
   "execution_count": null,
   "metadata": {
    "id": "-2h8vkY7nhJR"
   },
   "outputs": [],
   "source": [
    "# enc_vocab_size, dec_vocab_size, enc_seq_len, dec_seq_len, d_model=128, d_embed=128, d_ff=64, n_heads=2, dropout=0.1, n_layers=5\n",
    "model = Transformer(enc_vocab_size, dec_vocab_size, enc_seq_len, dec_seq_len)"
   ]
  },
  {
   "cell_type": "code",
   "execution_count": null,
   "metadata": {
    "colab": {
     "base_uri": "https://localhost:8080/"
    },
    "executionInfo": {
     "elapsed": 13,
     "status": "ok",
     "timestamp": 1695564659453,
     "user": {
      "displayName": "bandal_lab이세우",
      "userId": "06927367528797360084"
     },
     "user_tz": -540
    },
    "id": "vO4S1WZgccj9",
    "outputId": "8fb9f81c-6f6a-4882-c477-66bd52b8b79c"
   },
   "outputs": [
    {
     "data": {
      "text/plain": [
       "torch.Size([1, 16, 64])"
      ]
     },
     "execution_count": 90,
     "metadata": {},
     "output_type": "execute_result"
    }
   ],
   "source": [
    "pe = PositionalEncoding(16, 64, 0.0, device)\n",
    "data = pe.pos_encoded.squeeze(0).detach().cpu().numpy()\n",
    "pe.pos_encoded.shape"
   ]
  },
  {
   "cell_type": "code",
   "execution_count": null,
   "metadata": {
    "colab": {
     "base_uri": "https://localhost:8080/",
     "height": 547
    },
    "executionInfo": {
     "elapsed": 12,
     "status": "ok",
     "timestamp": 1695564659454,
     "user": {
      "displayName": "bandal_lab이세우",
      "userId": "06927367528797360084"
     },
     "user_tz": -540
    },
    "id": "GwgLPTDBchS7",
    "outputId": "21c5839e-0f16-40a3-d81e-cd151d54f3be"
   },
   "outputs": [
    {
     "data": {
      "image/png": "[encoded data removed]",
      "text/plain": [
       "<Figure size 1000x600 with 2 Axes>"
      ]
     },
     "metadata": {},
     "output_type": "display_data"
    }
   ],
   "source": [
    "import matplotlib.pyplot as plt\n",
    "import seaborn as sns\n",
    "import os\n",
    "os.environ['KMP_DUPLICATE_LIB_OK']='True'\n",
    "\n",
    "plt.figure(figsize=(10, 6))\n",
    "sns.heatmap(data, cmap='RdBu')\n",
    "plt.xlabel('Depth')\n",
    "plt.ylabel('Position')\n",
    "plt.show()"
   ]
  },
  {
   "cell_type": "code",
   "execution_count": null,
   "metadata": {
    "id": "b1DzzR4odvdp",
    "tags": []
   },
   "outputs": [],
   "source": [
    "torch.manual_seed(777)\n",
    "\n",
    "enc_vocab_size = len(vocab_spa_torch.get_stoi())\n",
    "enc_seq_len = encoder_inputs_train_torch.shape[1]\n",
    "\n",
    "dec_vocab_size = len(vocab_eng_torch.get_stoi())\n",
    "dec_seq_len = decoder_inputs_train_torch.shape[1]\n",
    "\n",
    "model = Transformer(enc_vocab_size, dec_vocab_size,  enc_seq_len,  dec_seq_len,\n",
    "                    d_model=128, d_embed=128, d_ff=256, n_heads=4, dropout=0.1, n_layers=2,\n",
    "                    pad=target_pad_token_idx, device=device).to(device)\n",
    "loss = nn.CrossEntropyLoss(ignore_index=target_pad_token_idx).to(device)\n",
    "optimizer = optim.Adam(model.parameters(), lr=1, eps=1e-9, betas=(0.9, 0.98))"
   ]
  },
  {
   "cell_type": "code",
   "execution_count": null,
   "metadata": {
    "colab": {
     "base_uri": "https://localhost:8080/"
    },
    "executionInfo": {
     "elapsed": 9,
     "status": "ok",
     "timestamp": 1695564659454,
     "user": {
      "displayName": "bandal_lab이세우",
      "userId": "06927367528797360084"
     },
     "user_tz": -540
    },
    "id": "jlUcHTeUMRUm",
    "outputId": "df1694e1-1551-4a59-81d2-2c2360fdbeeb"
   },
   "outputs": [
    {
     "data": {
      "text/plain": [
       "==========================================================================================\n",
       "Layer (type:depth-idx)                                            Param #\n",
       "==========================================================================================\n",
       "Transformer                                                       --\n",
       "├─TransformerEncoderBlock: 1-1                                    --\n",
       "│    └─PositionalEmbedding: 2-1                                   --\n",
       "│    │    └─Embedding: 3-1                                        1,655,424\n",
       "│    │    └─PositionalEncoding: 3-2                               --\n",
       "│    └─ModuleList: 2-2                                            --\n",
       "│    │    └─TransformerEncoder: 3-3                               131,968\n",
       "│    │    └─TransformerEncoder: 3-4                               131,968\n",
       "├─TransformerDecoderBlock: 1-2                                    --\n",
       "│    └─PositionalEmbedding: 2-3                                   --\n",
       "│    │    └─Embedding: 3-5                                        852,352\n",
       "│    │    └─PositionalEncoding: 3-6                               --\n",
       "│    └─ModuleList: 2-4                                            --\n",
       "│    │    └─TransformerDecoder: 3-7                               197,760\n",
       "│    │    └─TransformerDecoder: 3-8                               197,760\n",
       "├─Linear: 1-3                                                     859,011\n",
       "==========================================================================================\n",
       "Total params: 4,026,243\n",
       "Trainable params: 4,026,243\n",
       "Non-trainable params: 0\n",
       "=========================================================================================="
      ]
     },
     "execution_count": 93,
     "metadata": {},
     "output_type": "execute_result"
    }
   ],
   "source": [
    "summary(model)"
   ]
  },
  {
   "cell_type": "markdown",
   "metadata": {
    "id": "2kAFfrt5nVPs"
   },
   "source": [
    "## Model 학습"
   ]
  },
  {
   "cell_type": "code",
   "execution_count": null,
   "metadata": {
    "id": "JQaCwsV5MRUm",
    "tags": []
   },
   "outputs": [],
   "source": [
    "class WarmupLRScheduler(optim.lr_scheduler.LambdaLR):\n",
    "    def __init__(self, optimizer, d_model,  warmup_steps, last_epoch=-1):\n",
    "        def lambda_lr(step):\n",
    "            arg1 = step**-0.5 if step > 0 else 0\n",
    "            arg2 = step * (warmup_steps ** -1.5)\n",
    "            return (d_model**-0.5) * min(arg1, arg2)\n",
    "        super().__init__(optimizer, lambda_lr, last_epoch=last_epoch)"
   ]
  },
  {
   "cell_type": "code",
   "execution_count": null,
   "metadata": {
    "id": "1KncrRCwMRUm",
    "tags": []
   },
   "outputs": [],
   "source": [
    "d_model=128\n",
    "warmup_steps=4000\n",
    "scheduler = WarmupLRScheduler(optimizer, d_model, warmup_steps)"
   ]
  },
  {
   "cell_type": "code",
   "execution_count": null,
   "metadata": {
    "id": "Ed4y7zecMRUm"
   },
   "outputs": [],
   "source": [
    "# values = []\n",
    "# for step in range(40000):\n",
    "#     arg1 = step**-0.5 if step > 0 else 0\n",
    "#     arg2 = step * (warmup_steps ** -1.5)\n",
    "#     values.append((d_model**-0.5) * min(arg1, arg2))"
   ]
  },
  {
   "cell_type": "code",
   "execution_count": null,
   "metadata": {
    "id": "heCRnIFRMRUm"
   },
   "outputs": [],
   "source": [
    "# plt.figure(figsize=(12, 5))\n",
    "# plt.plot(range(40000), values)\n",
    "# plt.xlabel('Train Step')\n",
    "# plt.ylabel('Learning Rate')"
   ]
  },
  {
   "cell_type": "code",
   "execution_count": null,
   "metadata": {
    "colab": {
     "base_uri": "https://localhost:8080/"
    },
    "executionInfo": {
     "elapsed": 322609,
     "status": "ok",
     "timestamp": 1695564983504,
     "user": {
      "displayName": "bandal_lab이세우",
      "userId": "06927367528797360084"
     },
     "user_tz": -540
    },
    "id": "UQ_cTWwnMRUn",
    "outputId": "43c1007e-15be-4fc0-b6c3-b2b2931f49f1"
   },
   "outputs": [
    {
     "name": "stderr",
     "output_type": "stream",
     "text": [
      "100%|██████████| 50/50 [05:22<00:00,  6.45s/it, epoch=49, loss=0.46040, val_loss=1.24743]\n"
     ]
    }
   ],
   "source": [
    "from tqdm import tqdm\n",
    "\n",
    "n_epochs = 50 # epochs 수\n",
    "\n",
    "results = {'Loss':[], 'Val_Loss':[]}\n",
    "\n",
    "pbar = tqdm(range(n_epochs))\n",
    "\n",
    "for epoch in pbar:\n",
    "    train_loss = 0\n",
    "    valid_loss = 0\n",
    "\n",
    "    n_train_batches = len(train_loader)\n",
    "    n_valid_batches = len(valid_loader)\n",
    "\n",
    "    model.train() # 학습 모드\n",
    "    for enc_x, dec_x, dec_y in train_loader:\n",
    "        enc_x, dec_x, dec_y = enc_x.to(device), dec_x.to(device), dec_y.to(device)\n",
    "        h = model(enc_x, dec_x) # 예측 값 생성\n",
    "        cost = loss(h.view(-1, h.shape[2]).to(device), dec_y.view(-1)) # cost 계산\n",
    "\n",
    "        optimizer.zero_grad() # 기울기 초기화\n",
    "        cost.backward()       # 역전파 수행\n",
    "        optimizer.step()      # 기울기 업데이트\n",
    "        scheduler.step()      # 학습률 업데이트\n",
    "\n",
    "        train_loss += cost/n_train_batches\n",
    "    pbar.set_postfix(epoch=f'{epoch:2d}', loss=f'{train_loss.item():9.5f}')\n",
    "    results['Loss'].append(train_loss.item())\n",
    "\n",
    "    model.eval()\n",
    "    with torch.no_grad():\n",
    "        for enc_x, dec_x, dec_y in valid_loader:\n",
    "            enc_x, dec_x, dec_y = enc_x.to(device), dec_x.to(device), dec_y.to(device)\n",
    "            h = model(enc_x, dec_x) # 예측 값 생성\n",
    "            cost = loss(h.view(-1, h.shape[2]).to(device), dec_y.view(-1)) # cost 계산\n",
    "\n",
    "            valid_loss += cost/n_valid_batches\n",
    "        pbar.set_postfix(epoch=f'{epoch:2d}',\n",
    "                         loss=f'{train_loss.item():9.5f}', val_loss=f'{valid_loss.item():9.5f}')\n",
    "        results['Val_Loss'].append(valid_loss.item())"
   ]
  },
  {
   "cell_type": "markdown",
   "metadata": {
    "id": "2cKCx6vrnYSL"
   },
   "source": [
    "## 추론"
   ]
  },
  {
   "cell_type": "code",
   "execution_count": null,
   "metadata": {
    "id": "frp5qaxbtWLc"
   },
   "outputs": [],
   "source": [
    "def predict(x_input, target_len=10):\n",
    "    outputs = []\n",
    "\n",
    "    start_token = vocab_eng_torch.get_stoi()['<sos>']\n",
    "    pad = vocab_eng_torch.get_stoi()['<PAD>']\n",
    "    eng_itos = vocab_eng_torch.get_itos()\n",
    "\n",
    "    model.eval()\n",
    "    with torch.no_grad():\n",
    "        input_sequence = [start_token] + ([pad]*(target_len-1))\n",
    "        decoder_input = torch.LongTensor(input_sequence).reshape(1, -1).to(device)\n",
    "\n",
    "        for t in range(target_len):\n",
    "            out = model(x_input, decoder_input)\n",
    "            c_token = out[:, t, :].argmax(dim=1)\n",
    "            decoder_input[:, t+1] = c_token\n",
    "            word = eng_itos[c_token.item()]\n",
    "            if word == '<eos>':\n",
    "                break\n",
    "    outputs = ' '.join([eng_itos[idx] for idx in decoder_input.view(-1)[1:t+1]])\n",
    "    return outputs"
   ]
  },
  {
   "cell_type": "code",
   "execution_count": null,
   "metadata": {
    "colab": {
     "base_uri": "https://localhost:8080/"
    },
    "executionInfo": {
     "elapsed": 23,
     "status": "ok",
     "timestamp": 1695564983506,
     "user": {
      "displayName": "bandal_lab이세우",
      "userId": "06927367528797360084"
     },
     "user_tz": -540
    },
    "id": "0MzNm5CxMRUn",
    "outputId": "4d73859a-c587-4d2d-bdcc-c5940b301794"
   },
   "outputs": [
    {
     "name": "stdout",
     "output_type": "stream",
     "text": [
      "spanish: Tienen que ser más respetuosos.\n",
      "english: they must be more polite .\n"
     ]
    }
   ],
   "source": [
    "def preprocessing(text, max_len=13):\n",
    "    seq = text_preprocess(text).split()\n",
    "    seq = ['<PAD>']*(max_len-len(seq))+seq\n",
    "    seq = sent2seq_spa([seq])\n",
    "    seq = torch.LongTensor(seq)\n",
    "    return seq\n",
    "\n",
    "data = preprocessing(df.iloc[47855, 1]).to(device)\n",
    "pred = predict(data)\n",
    "print('spanish:', df.iloc[47855, 1])\n",
    "print('english:', pred)"
   ]
  },
  {
   "cell_type": "code",
   "execution_count": null,
   "metadata": {
    "colab": {
     "base_uri": "https://localhost:8080/"
    },
    "executionInfo": {
     "elapsed": 14,
     "status": "ok",
     "timestamp": 1695564983506,
     "user": {
      "displayName": "bandal_lab이세우",
      "userId": "06927367528797360084"
     },
     "user_tz": -540
    },
    "id": "lFEHLN7WMRUn",
    "outputId": "0290fb51-0101-4070-f0ef-b8d2137094f8",
    "scrolled": true
   },
   "outputs": [
    {
     "name": "stdout",
     "output_type": "stream",
     "text": [
      "spanish: ¿Es esto suficiente dinero?\n",
      "english: is this enough money ?\n"
     ]
    }
   ],
   "source": [
    "data = preprocessing(df.iloc[30402, 1]).to(device)\n",
    "pred = predict(data)\n",
    "print('spanish:', df.iloc[30402, 1])\n",
    "print('english:', pred)"
   ]
  },
  {
   "cell_type": "markdown",
   "metadata": {
    "id": "eUZ7KIk-MRUo"
   },
   "source": [
    "# torch.nn.Transformer"
   ]
  },
  {
   "cell_type": "code",
   "execution_count": null,
   "metadata": {
    "id": "NpVqt-yPMRUo"
   },
   "outputs": [],
   "source": [
    "class TransformerModel(nn.Module):\n",
    "    def __init__(self, enc_vocab_size, dec_vocab_size, enc_seq_len, dec_seq_len,\n",
    "                 d_model=128, d_embed=128, d_ff=256, n_heads=2, dropout=0.1,\n",
    "                 n_layers=2, pad=0, device='cpu'):\n",
    "        super().__init__()\n",
    "        self.device = device\n",
    "        self.pad = pad\n",
    "\n",
    "        self.enc_embed = PositionalEmbedding(enc_seq_len, d_model, d_embed, enc_vocab_size, dropout, pad, device)\n",
    "        self.dec_embed = PositionalEmbedding(dec_seq_len, d_model, d_embed, dec_vocab_size, dropout, pad, device)\n",
    "        self.transformer = nn.Transformer(d_model, n_heads, n_layers, n_layers,\n",
    "                                          d_ff, dropout, batch_first=True, device=torch.device(device))\n",
    "        self.fc = nn.Linear(d_model, dec_vocab_size)\n",
    "\n",
    "    def forward(self, encoder_input, decoder_input):\n",
    "        enc_out = self.enc_embed(encoder_input)\n",
    "        dec_out = self.dec_embed(decoder_input)\n",
    "\n",
    "        enc_padding_mask = (encoder_input == self.pad).to(self.device)\n",
    "        dec_padding_mask = (decoder_input == self.pad).to(self.device)\n",
    "        dec_mask = self.transformer.generate_square_subsequent_mask(decoder_input.size(1)).bool().to(self.device)\n",
    "        out = self.transformer(enc_out, dec_out,\n",
    "                               src_key_padding_mask=enc_padding_mask,\n",
    "                               tgt_key_padding_mask=dec_padding_mask,\n",
    "                               memory_key_padding_mask=enc_padding_mask, tgt_mask=dec_mask)\n",
    "        out = self.fc(out)\n",
    "        return out"
   ]
  },
  {
   "cell_type": "code",
   "execution_count": null,
   "metadata": {
    "id": "d-vwQ6hbMRUo"
   },
   "outputs": [],
   "source": [
    "torch.manual_seed(777)\n",
    "\n",
    "enc_vocab_size = len(vocab_spa_torch.get_stoi())\n",
    "enc_seq_len = encoder_inputs_train_torch.shape[1]\n",
    "\n",
    "dec_vocab_size = len(vocab_eng_torch.get_stoi())\n",
    "dec_seq_len = decoder_inputs_train_torch.shape[1]\n",
    "\n",
    "model = TransformerModel(enc_vocab_size, dec_vocab_size,  enc_seq_len,  dec_seq_len,\n",
    "                    d_model=128, d_embed=128, d_ff=256, n_heads=4, dropout=0.1, n_layers=2,\n",
    "                    pad=target_pad_token_idx, device=device).to(device)\n",
    "loss = nn.CrossEntropyLoss(ignore_index=target_pad_token_idx).to(device)\n",
    "optimizer = optim.Adam(model.parameters(), lr=1, eps=1e-9, betas=(0.9, 0.98))"
   ]
  },
  {
   "cell_type": "code",
   "execution_count": null,
   "metadata": {
    "id": "IJXO_qLKMRUo"
   },
   "outputs": [],
   "source": [
    "d_model=128\n",
    "warmup_steps=4000\n",
    "scheduler = WarmupLRScheduler(optimizer, d_model, warmup_steps)"
   ]
  },
  {
   "cell_type": "code",
   "execution_count": null,
   "metadata": {
    "colab": {
     "base_uri": "https://localhost:8080/"
    },
    "executionInfo": {
     "elapsed": 340907,
     "status": "ok",
     "timestamp": 1695565324406,
     "user": {
      "displayName": "bandal_lab이세우",
      "userId": "06927367528797360084"
     },
     "user_tz": -540
    },
    "id": "cDWYwCX1MRUo",
    "outputId": "25fd3717-2826-4389-bda3-0a6609923f24"
   },
   "outputs": [
    {
     "name": "stderr",
     "output_type": "stream",
     "text": [
      "  0%|          | 0/50 [00:06<?, ?it/s, epoch=0, loss=7.08868]/usr/local/lib/python3.10/dist-packages/torch/nn/modules/transformer.py:562: UserWarning: Converting mask without torch.bool dtype to bool; this will negatively affect performance. Prefer to use a boolean mask directly. (Triggered internally at ../aten/src/ATen/native/transformers/attention.cpp:150.)\n",
      "  return torch._transformer_encoder_layer_fwd(\n",
      "/usr/local/lib/python3.10/dist-packages/torch/nn/modules/activation.py:1160: UserWarning: Converting mask without torch.bool dtype to bool; this will negatively affect performance. Prefer to use a boolean mask directly. (Triggered internally at ../aten/src/ATen/native/transformers/attention.cpp:150.)\n",
      "  return torch._native_multi_head_attention(\n",
      "100%|██████████| 50/50 [05:40<00:00,  6.81s/it, epoch=49, loss=0.41200, val_loss=1.21330]\n"
     ]
    }
   ],
   "source": [
    "from tqdm import tqdm\n",
    "\n",
    "n_epochs = 50 # epochs 수\n",
    "\n",
    "results = {'Loss':[], 'Val_Loss':[]}\n",
    "\n",
    "pbar = tqdm(range(n_epochs))\n",
    "\n",
    "for epoch in pbar:\n",
    "    train_loss = 0\n",
    "    valid_loss = 0\n",
    "\n",
    "    n_train_batches = len(train_loader)\n",
    "    n_valid_batches = len(valid_loader)\n",
    "\n",
    "    model.train() # 학습 모드\n",
    "    for enc_x, dec_x, dec_y in train_loader:\n",
    "        enc_x, dec_x, dec_y = enc_x.to(device), dec_x.to(device), dec_y.to(device)\n",
    "        h = model(enc_x, dec_x) # 예측 값 생성\n",
    "        cost = loss(h.view(-1, h.shape[2]).to(device), dec_y.view(-1)) # cost 계산\n",
    "\n",
    "        optimizer.zero_grad() # 기울기 초기화\n",
    "        cost.backward()       # 역전파 수행\n",
    "        optimizer.step()      # 기울기 업데이트\n",
    "        scheduler.step()      # 학습률 업데이트\n",
    "\n",
    "        train_loss += cost/n_train_batches\n",
    "    pbar.set_postfix(epoch=f'{epoch:2d}', loss=f'{train_loss.item():9.5f}')\n",
    "    results['Loss'].append(train_loss.item())\n",
    "\n",
    "    model.eval()\n",
    "    with torch.no_grad():\n",
    "        for enc_x, dec_x, dec_y in valid_loader:\n",
    "            enc_x, dec_x, dec_y = enc_x.to(device), dec_x.to(device), dec_y.to(device)\n",
    "            h = model(enc_x, dec_x) # 예측 값 생성\n",
    "            cost = loss(h.view(-1, h.shape[2]).to(device), dec_y.view(-1)) # cost 계산\n",
    "\n",
    "            valid_loss += cost/n_valid_batches\n",
    "        pbar.set_postfix(epoch=f'{epoch:2d}',\n",
    "                         loss=f'{train_loss.item():9.5f}', val_loss=f'{valid_loss.item():9.5f}')\n",
    "        results['Val_Loss'].append(valid_loss.item())"
   ]
  },
  {
   "cell_type": "code",
   "execution_count": null,
   "metadata": {
    "id": "dn3JuFKKMRUy"
   },
   "outputs": [],
   "source": []
  }
 ],
 "metadata": {
  "accelerator": "GPU",
  "availableInstances": [
   {
    "_defaultOrder": 0,
    "_isFastLaunch": true,
    "category": "General purpose",
    "gpuNum": 0,
    "hideHardwareSpecs": false,
    "memoryGiB": 4,
    "name": "ml.t3.medium",
    "vcpuNum": 2
   },
   {
    "_defaultOrder": 1,
    "_isFastLaunch": false,
    "category": "General purpose",
    "gpuNum": 0,
    "hideHardwareSpecs": false,
    "memoryGiB": 8,
    "name": "ml.t3.large",
    "vcpuNum": 2
   },
   {
    "_defaultOrder": 2,
    "_isFastLaunch": false,
    "category": "General purpose",
    "gpuNum": 0,
    "hideHardwareSpecs": false,
    "memoryGiB": 16,
    "name": "ml.t3.xlarge",
    "vcpuNum": 4
   },
   {
    "_defaultOrder": 3,
    "_isFastLaunch": false,
    "category": "General purpose",
    "gpuNum": 0,
    "hideHardwareSpecs": false,
    "memoryGiB": 32,
    "name": "ml.t3.2xlarge",
    "vcpuNum": 8
   },
   {
    "_defaultOrder": 4,
    "_isFastLaunch": true,
    "category": "General purpose",
    "gpuNum": 0,
    "hideHardwareSpecs": false,
    "memoryGiB": 8,
    "name": "ml.m5.large",
    "vcpuNum": 2
   },
   {
    "_defaultOrder": 5,
    "_isFastLaunch": false,
    "category": "General purpose",
    "gpuNum": 0,
    "hideHardwareSpecs": false,
    "memoryGiB": 16,
    "name": "ml.m5.xlarge",
    "vcpuNum": 4
   },
   {
    "_defaultOrder": 6,
    "_isFastLaunch": false,
    "category": "General purpose",
    "gpuNum": 0,
    "hideHardwareSpecs": false,
    "memoryGiB": 32,
    "name": "ml.m5.2xlarge",
    "vcpuNum": 8
   },
   {
    "_defaultOrder": 7,
    "_isFastLaunch": false,
    "category": "General purpose",
    "gpuNum": 0,
    "hideHardwareSpecs": false,
    "memoryGiB": 64,
    "name": "ml.m5.4xlarge",
    "vcpuNum": 16
   },
   {
    "_defaultOrder": 8,
    "_isFastLaunch": false,
    "category": "General purpose",
    "gpuNum": 0,
    "hideHardwareSpecs": false,
    "memoryGiB": 128,
    "name": "ml.m5.8xlarge",
    "vcpuNum": 32
   },
   {
    "_defaultOrder": 9,
    "_isFastLaunch": false,
    "category": "General purpose",
    "gpuNum": 0,
    "hideHardwareSpecs": false,
    "memoryGiB": 192,
    "name": "ml.m5.12xlarge",
    "vcpuNum": 48
   },
   {
    "_defaultOrder": 10,
    "_isFastLaunch": false,
    "category": "General purpose",
    "gpuNum": 0,
    "hideHardwareSpecs": false,
    "memoryGiB": 256,
    "name": "ml.m5.16xlarge",
    "vcpuNum": 64
   },
   {
    "_defaultOrder": 11,
    "_isFastLaunch": false,
    "category": "General purpose",
    "gpuNum": 0,
    "hideHardwareSpecs": false,
    "memoryGiB": 384,
    "name": "ml.m5.24xlarge",
    "vcpuNum": 96
   },
   {
    "_defaultOrder": 12,
    "_isFastLaunch": false,
    "category": "General purpose",
    "gpuNum": 0,
    "hideHardwareSpecs": false,
    "memoryGiB": 8,
    "name": "ml.m5d.large",
    "vcpuNum": 2
   },
   {
    "_defaultOrder": 13,
    "_isFastLaunch": false,
    "category": "General purpose",
    "gpuNum": 0,
    "hideHardwareSpecs": false,
    "memoryGiB": 16,
    "name": "ml.m5d.xlarge",
    "vcpuNum": 4
   },
   {
    "_defaultOrder": 14,
    "_isFastLaunch": false,
    "category": "General purpose",
    "gpuNum": 0,
    "hideHardwareSpecs": false,
    "memoryGiB": 32,
    "name": "ml.m5d.2xlarge",
    "vcpuNum": 8
   },
   {
    "_defaultOrder": 15,
    "_isFastLaunch": false,
    "category": "General purpose",
    "gpuNum": 0,
    "hideHardwareSpecs": false,
    "memoryGiB": 64,
    "name": "ml.m5d.4xlarge",
    "vcpuNum": 16
   },
   {
    "_defaultOrder": 16,
    "_isFastLaunch": false,
    "category": "General purpose",
    "gpuNum": 0,
    "hideHardwareSpecs": false,
    "memoryGiB": 128,
    "name": "ml.m5d.8xlarge",
    "vcpuNum": 32
   },
   {
    "_defaultOrder": 17,
    "_isFastLaunch": false,
    "category": "General purpose",
    "gpuNum": 0,
    "hideHardwareSpecs": false,
    "memoryGiB": 192,
    "name": "ml.m5d.12xlarge",
    "vcpuNum": 48
   },
   {
    "_defaultOrder": 18,
    "_isFastLaunch": false,
    "category": "General purpose",
    "gpuNum": 0,
    "hideHardwareSpecs": false,
    "memoryGiB": 256,
    "name": "ml.m5d.16xlarge",
    "vcpuNum": 64
   },
   {
    "_defaultOrder": 19,
    "_isFastLaunch": false,
    "category": "General purpose",
    "gpuNum": 0,
    "hideHardwareSpecs": false,
    "memoryGiB": 384,
    "name": "ml.m5d.24xlarge",
    "vcpuNum": 96
   },
   {
    "_defaultOrder": 20,
    "_isFastLaunch": false,
    "category": "General purpose",
    "gpuNum": 0,
    "hideHardwareSpecs": true,
    "memoryGiB": 0,
    "name": "ml.geospatial.interactive",
    "supportedImageNames": [
     "sagemaker-geospatial-v1-0"
    ],
    "vcpuNum": 0
   },
   {
    "_defaultOrder": 21,
    "_isFastLaunch": true,
    "category": "Compute optimized",
    "gpuNum": 0,
    "hideHardwareSpecs": false,
    "memoryGiB": 4,
    "name": "ml.c5.large",
    "vcpuNum": 2
   },
   {
    "_defaultOrder": 22,
    "_isFastLaunch": false,
    "category": "Compute optimized",
    "gpuNum": 0,
    "hideHardwareSpecs": false,
    "memoryGiB": 8,
    "name": "ml.c5.xlarge",
    "vcpuNum": 4
   },
   {
    "_defaultOrder": 23,
    "_isFastLaunch": false,
    "category": "Compute optimized",
    "gpuNum": 0,
    "hideHardwareSpecs": false,
    "memoryGiB": 16,
    "name": "ml.c5.2xlarge",
    "vcpuNum": 8
   },
   {
    "_defaultOrder": 24,
    "_isFastLaunch": false,
    "category": "Compute optimized",
    "gpuNum": 0,
    "hideHardwareSpecs": false,
    "memoryGiB": 32,
    "name": "ml.c5.4xlarge",
    "vcpuNum": 16
   },
   {
    "_defaultOrder": 25,
    "_isFastLaunch": false,
    "category": "Compute optimized",
    "gpuNum": 0,
    "hideHardwareSpecs": false,
    "memoryGiB": 72,
    "name": "ml.c5.9xlarge",
    "vcpuNum": 36
   },
   {
    "_defaultOrder": 26,
    "_isFastLaunch": false,
    "category": "Compute optimized",
    "gpuNum": 0,
    "hideHardwareSpecs": false,
    "memoryGiB": 96,
    "name": "ml.c5.12xlarge",
    "vcpuNum": 48
   },
   {
    "_defaultOrder": 27,
    "_isFastLaunch": false,
    "category": "Compute optimized",
    "gpuNum": 0,
    "hideHardwareSpecs": false,
    "memoryGiB": 144,
    "name": "ml.c5.18xlarge",
    "vcpuNum": 72
   },
   {
    "_defaultOrder": 28,
    "_isFastLaunch": false,
    "category": "Compute optimized",
    "gpuNum": 0,
    "hideHardwareSpecs": false,
    "memoryGiB": 192,
    "name": "ml.c5.24xlarge",
    "vcpuNum": 96
   },
   {
    "_defaultOrder": 29,
    "_isFastLaunch": true,
    "category": "Accelerated computing",
    "gpuNum": 1,
    "hideHardwareSpecs": false,
    "memoryGiB": 16,
    "name": "ml.g4dn.xlarge",
    "vcpuNum": 4
   },
   {
    "_defaultOrder": 30,
    "_isFastLaunch": false,
    "category": "Accelerated computing",
    "gpuNum": 1,
    "hideHardwareSpecs": false,
    "memoryGiB": 32,
    "name": "ml.g4dn.2xlarge",
    "vcpuNum": 8
   },
   {
    "_defaultOrder": 31,
    "_isFastLaunch": false,
    "category": "Accelerated computing",
    "gpuNum": 1,
    "hideHardwareSpecs": false,
    "memoryGiB": 64,
    "name": "ml.g4dn.4xlarge",
    "vcpuNum": 16
   },
   {
    "_defaultOrder": 32,
    "_isFastLaunch": false,
    "category": "Accelerated computing",
    "gpuNum": 1,
    "hideHardwareSpecs": false,
    "memoryGiB": 128,
    "name": "ml.g4dn.8xlarge",
    "vcpuNum": 32
   },
   {
    "_defaultOrder": 33,
    "_isFastLaunch": false,
    "category": "Accelerated computing",
    "gpuNum": 4,
    "hideHardwareSpecs": false,
    "memoryGiB": 192,
    "name": "ml.g4dn.12xlarge",
    "vcpuNum": 48
   },
   {
    "_defaultOrder": 34,
    "_isFastLaunch": false,
    "category": "Accelerated computing",
    "gpuNum": 1,
    "hideHardwareSpecs": false,
    "memoryGiB": 256,
    "name": "ml.g4dn.16xlarge",
    "vcpuNum": 64
   },
   {
    "_defaultOrder": 35,
    "_isFastLaunch": false,
    "category": "Accelerated computing",
    "gpuNum": 1,
    "hideHardwareSpecs": false,
    "memoryGiB": 61,
    "name": "ml.p3.2xlarge",
    "vcpuNum": 8
   },
   {
    "_defaultOrder": 36,
    "_isFastLaunch": false,
    "category": "Accelerated computing",
    "gpuNum": 4,
    "hideHardwareSpecs": false,
    "memoryGiB": 244,
    "name": "ml.p3.8xlarge",
    "vcpuNum": 32
   },
   {
    "_defaultOrder": 37,
    "_isFastLaunch": false,
    "category": "Accelerated computing",
    "gpuNum": 8,
    "hideHardwareSpecs": false,
    "memoryGiB": 488,
    "name": "ml.p3.16xlarge",
    "vcpuNum": 64
   },
   {
    "_defaultOrder": 38,
    "_isFastLaunch": false,
    "category": "Accelerated computing",
    "gpuNum": 8,
    "hideHardwareSpecs": false,
    "memoryGiB": 768,
    "name": "ml.p3dn.24xlarge",
    "vcpuNum": 96
   },
   {
    "_defaultOrder": 39,
    "_isFastLaunch": false,
    "category": "Memory Optimized",
    "gpuNum": 0,
    "hideHardwareSpecs": false,
    "memoryGiB": 16,
    "name": "ml.r5.large",
    "vcpuNum": 2
   },
   {
    "_defaultOrder": 40,
    "_isFastLaunch": false,
    "category": "Memory Optimized",
    "gpuNum": 0,
    "hideHardwareSpecs": false,
    "memoryGiB": 32,
    "name": "ml.r5.xlarge",
    "vcpuNum": 4
   },
   {
    "_defaultOrder": 41,
    "_isFastLaunch": false,
    "category": "Memory Optimized",
    "gpuNum": 0,
    "hideHardwareSpecs": false,
    "memoryGiB": 64,
    "name": "ml.r5.2xlarge",
    "vcpuNum": 8
   },
   {
    "_defaultOrder": 42,
    "_isFastLaunch": false,
    "category": "Memory Optimized",
    "gpuNum": 0,
    "hideHardwareSpecs": false,
    "memoryGiB": 128,
    "name": "ml.r5.4xlarge",
    "vcpuNum": 16
   },
   {
    "_defaultOrder": 43,
    "_isFastLaunch": false,
    "category": "Memory Optimized",
    "gpuNum": 0,
    "hideHardwareSpecs": false,
    "memoryGiB": 256,
    "name": "ml.r5.8xlarge",
    "vcpuNum": 32
   },
   {
    "_defaultOrder": 44,
    "_isFastLaunch": false,
    "category": "Memory Optimized",
    "gpuNum": 0,
    "hideHardwareSpecs": false,
    "memoryGiB": 384,
    "name": "ml.r5.12xlarge",
    "vcpuNum": 48
   },
   {
    "_defaultOrder": 45,
    "_isFastLaunch": false,
    "category": "Memory Optimized",
    "gpuNum": 0,
    "hideHardwareSpecs": false,
    "memoryGiB": 512,
    "name": "ml.r5.16xlarge",
    "vcpuNum": 64
   },
   {
    "_defaultOrder": 46,
    "_isFastLaunch": false,
    "category": "Memory Optimized",
    "gpuNum": 0,
    "hideHardwareSpecs": false,
    "memoryGiB": 768,
    "name": "ml.r5.24xlarge",
    "vcpuNum": 96
   },
   {
    "_defaultOrder": 47,
    "_isFastLaunch": false,
    "category": "Accelerated computing",
    "gpuNum": 1,
    "hideHardwareSpecs": false,
    "memoryGiB": 16,
    "name": "ml.g5.xlarge",
    "vcpuNum": 4
   },
   {
    "_defaultOrder": 48,
    "_isFastLaunch": false,
    "category": "Accelerated computing",
    "gpuNum": 1,
    "hideHardwareSpecs": false,
    "memoryGiB": 32,
    "name": "ml.g5.2xlarge",
    "vcpuNum": 8
   },
   {
    "_defaultOrder": 49,
    "_isFastLaunch": false,
    "category": "Accelerated computing",
    "gpuNum": 1,
    "hideHardwareSpecs": false,
    "memoryGiB": 64,
    "name": "ml.g5.4xlarge",
    "vcpuNum": 16
   },
   {
    "_defaultOrder": 50,
    "_isFastLaunch": false,
    "category": "Accelerated computing",
    "gpuNum": 1,
    "hideHardwareSpecs": false,
    "memoryGiB": 128,
    "name": "ml.g5.8xlarge",
    "vcpuNum": 32
   },
   {
    "_defaultOrder": 51,
    "_isFastLaunch": false,
    "category": "Accelerated computing",
    "gpuNum": 1,
    "hideHardwareSpecs": false,
    "memoryGiB": 256,
    "name": "ml.g5.16xlarge",
    "vcpuNum": 64
   },
   {
    "_defaultOrder": 52,
    "_isFastLaunch": false,
    "category": "Accelerated computing",
    "gpuNum": 4,
    "hideHardwareSpecs": false,
    "memoryGiB": 192,
    "name": "ml.g5.12xlarge",
    "vcpuNum": 48
   },
   {
    "_defaultOrder": 53,
    "_isFastLaunch": false,
    "category": "Accelerated computing",
    "gpuNum": 4,
    "hideHardwareSpecs": false,
    "memoryGiB": 384,
    "name": "ml.g5.24xlarge",
    "vcpuNum": 96
   },
   {
    "_defaultOrder": 54,
    "_isFastLaunch": false,
    "category": "Accelerated computing",
    "gpuNum": 8,
    "hideHardwareSpecs": false,
    "memoryGiB": 768,
    "name": "ml.g5.48xlarge",
    "vcpuNum": 192
   },
   {
    "_defaultOrder": 55,
    "_isFastLaunch": false,
    "category": "Accelerated computing",
    "gpuNum": 8,
    "hideHardwareSpecs": false,
    "memoryGiB": 1152,
    "name": "ml.p4d.24xlarge",
    "vcpuNum": 96
   },
   {
    "_defaultOrder": 56,
    "_isFastLaunch": false,
    "category": "Accelerated computing",
    "gpuNum": 8,
    "hideHardwareSpecs": false,
    "memoryGiB": 1152,
    "name": "ml.p4de.24xlarge",
    "vcpuNum": 96
   }
  ],
  "colab": {
   "gpuType": "T4",
   "provenance": [],
   "toc_visible": true
  },
  "instance_type": "ml.g4dn.2xlarge",
  "kernelspec": {
   "display_name": "Python 3 (ipykernel)",
   "language": "python",
   "name": "python3"
  },
  "language_info": {
   "codemirror_mode": {
    "name": "ipython",
    "version": 3
   },
   "file_extension": ".py",
   "mimetype": "text/x-python",
   "name": "python",
   "nbconvert_exporter": "python",
   "pygments_lexer": "ipython3",
   "version": "3.11.5"
  }
 },
 "nbformat": 4,
 "nbformat_minor": 4
}
