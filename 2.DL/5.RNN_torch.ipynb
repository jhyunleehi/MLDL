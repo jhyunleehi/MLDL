{
 "cells": [
  {
   "cell_type": "markdown",
   "metadata": {
    "id": "VEc-UxGV9ikQ"
   },
   "source": [
    "# import\n"
   ]
  },
  {
   "cell_type": "code",
   "execution_count": 1,
   "metadata": {
    "id": "3GNh0DX39gXo"
   },
   "outputs": [],
   "source": [
    "import numpy as np\n",
    "import matplotlib.pyplot as plt\n",
    "import pandas as pd\n",
    "\n",
    "from sklearn.model_selection import train_test_split\n",
    "from sklearn.preprocessing import MinMaxScaler, StandardScaler\n",
    "from sklearn.metrics import mean_absolute_error, mean_squared_error, r2_score, accuracy_score\n",
    "\n",
    "import torch\n",
    "import torch.nn as nn\n",
    "from torch.nn import RNN, Module\n",
    "from torch.utils.data import TensorDataset, DataLoader\n",
    "import torchvision.datasets as dsets\n",
    "import torchvision.transforms as transforms\n",
    "import torch.nn.functional as F"
   ]
  },
  {
   "cell_type": "code",
   "execution_count": 2,
   "metadata": {
    "colab": {
     "base_uri": "https://localhost:8080/",
     "height": 35
    },
    "executionInfo": {
     "elapsed": 263,
     "status": "ok",
     "timestamp": 1697786155836,
     "user": {
      "displayName": "bandal_lab이세우",
      "userId": "06927367528797360084"
     },
     "user_tz": -540
    },
    "id": "Zn6uy3mg8Mtf",
    "outputId": "5316be02-5c4d-4fd4-e201-8e5dbfd27cc5"
   },
   "outputs": [
    {
     "data": {
      "text/plain": [
       "'cuda'"
      ]
     },
     "execution_count": 2,
     "metadata": {},
     "output_type": "execute_result"
    }
   ],
   "source": [
    "device = 'cuda' if torch.cuda.is_available() else 'cpu'\n",
    "device"
   ]
  },
  {
   "cell_type": "markdown",
   "metadata": {
    "id": "3uHQEWMfpMeN"
   },
   "source": [
    "# RNN\n",
    "* `nn.RNN(input_size, hidden_size, num_layers=1, bias=True, batch_first=False, ...)`\n",
    "* input shape\n",
    "  * batch_first=False : L, N, H,\n",
    "  * batch_first=True : N, L, H\n",
    "    * L : sequence_length\n",
    "    * N : batch_size\n",
    "    * H : intput_size(feature_size)"
   ]
  },
  {
   "cell_type": "markdown",
   "metadata": {
    "id": "Sz19GGODBaUN"
   },
   "source": [
    "## Many To Many\n",
    "* 다음 수 예측\n"
   ]
  },
  {
   "cell_type": "code",
   "execution_count": null,
   "metadata": {
    "colab": {
     "base_uri": "https://localhost:8080/",
     "height": 274
    },
    "executionInfo": {
     "elapsed": 545,
     "status": "ok",
     "timestamp": 1697785719564,
     "user": {
      "displayName": "bandal_lab이세우",
      "userId": "06927367528797360084"
     },
     "user_tz": -540
    },
    "id": "q56JMjow9qKM",
    "outputId": "1846e490-4a70-45c4-8c01-48b47e1d9728"
   },
   "outputs": [
    {
     "data": {
      "application/vnd.google.colaboratory.intrinsic+json": {
       "type": "string"
      },
      "text/plain": [
       "'x'"
      ]
     },
     "metadata": {},
     "output_type": "display_data"
    },
    {
     "data": {
      "text/plain": [
       "(5, 4, 1)"
      ]
     },
     "metadata": {},
     "output_type": "display_data"
    },
    {
     "data": {
      "text/plain": [
       "[[[0.0], [0.1], [0.2], [0.3]],\n",
       " [[0.1], [0.2], [0.3], [0.4]],\n",
       " [[0.2], [0.3], [0.4], [0.5]],\n",
       " [[0.3], [0.4], [0.5], [0.6]],\n",
       " [[0.4], [0.5], [0.6], [0.7]]]"
      ]
     },
     "metadata": {},
     "output_type": "display_data"
    },
    {
     "data": {
      "application/vnd.google.colaboratory.intrinsic+json": {
       "type": "string"
      },
      "text/plain": [
       "'y'"
      ]
     },
     "metadata": {},
     "output_type": "display_data"
    },
    {
     "data": {
      "text/plain": [
       "(5, 4, 1)"
      ]
     },
     "metadata": {},
     "output_type": "display_data"
    },
    {
     "data": {
      "text/plain": [
       "[[[0.1], [0.2], [0.3], [0.4]],\n",
       " [[0.2], [0.3], [0.4], [0.5]],\n",
       " [[0.3], [0.4], [0.5], [0.6]],\n",
       " [[0.4], [0.5], [0.6], [0.7]],\n",
       " [[0.5], [0.6], [0.7], [0.8]]]"
      ]
     },
     "metadata": {},
     "output_type": "display_data"
    }
   ],
   "source": [
    "seq_len = 4\n",
    "batch_size = 5\n",
    "\n",
    "x = [ [[i/10] for i in range(j, j+seq_len)] for j in range(batch_size)]\n",
    "y = [ [[i/10] for i in range(j+1, j+seq_len+1)] for j in range(batch_size)]\n",
    "display(\"x\", np.shape(x), x)\n",
    "display(\"y\", np.shape(y), y)\n",
    "\n",
    "x = torch.FloatTensor(x)\n",
    "y = torch.FloatTensor(y)"
   ]
  },
  {
   "cell_type": "code",
   "execution_count": null,
   "metadata": {
    "id": "rLCPRYD8BZcX"
   },
   "outputs": [],
   "source": [
    "torch.manual_seed(0)\n",
    "torch.cuda.manual_seed_all(0)\n",
    "\n",
    "class NextNumberM2M(nn.Module):\n",
    "  def __init__(self, input_size, hidden_size, output_size):\n",
    "    super().__init__()\n",
    "    self.rnn = nn.RNN(input_size, hidden_size, batch_first=True) #input_size, hidden_size, n_layer=1\n",
    "    self.fc = nn.Linear(hidden_size, output_size) # 32 * seq_len\n",
    "\n",
    "  def forward(self, x):\n",
    "    x, h= self.rnn(x)\n",
    "    x = self.fc(x)\n",
    "    return x"
   ]
  },
  {
   "cell_type": "code",
   "execution_count": null,
   "metadata": {
    "colab": {
     "base_uri": "https://localhost:8080/"
    },
    "executionInfo": {
     "elapsed": 3,
     "status": "ok",
     "timestamp": 1697785719857,
     "user": {
      "displayName": "bandal_lab이세우",
      "userId": "06927367528797360084"
     },
     "user_tz": -540
    },
    "id": "nDAKGqGnGS1N",
    "outputId": "cb167e38-80b7-4183-8406-9cffefffafbd"
   },
   "outputs": [
    {
     "data": {
      "text/plain": [
       "torch.Size([5, 4, 1])"
      ]
     },
     "execution_count": 16,
     "metadata": {},
     "output_type": "execute_result"
    }
   ],
   "source": [
    "#input_size, hidden_size, output_size\n",
    "model = NextNumberM2M(1, 32, 1)\n",
    "output = model(x)\n",
    "output.shape"
   ]
  },
  {
   "cell_type": "code",
   "execution_count": null,
   "metadata": {
    "colab": {
     "base_uri": "https://localhost:8080/"
    },
    "executionInfo": {
     "elapsed": 1532,
     "status": "ok",
     "timestamp": 1697785721745,
     "user": {
      "displayName": "bandal_lab이세우",
      "userId": "06927367528797360084"
     },
     "user_tz": -540
    },
    "id": "Z4XmHDYW2eMM",
    "outputId": "a377d4d8-b7f9-43c7-d056-36c72d329473"
   },
   "outputs": [
    {
     "name": "stdout",
     "output_type": "stream",
     "text": [
      "epoch=0, cost:0.2479788064956665\n",
      "epoch=100, cost:0.010503732599318027\n",
      "epoch=200, cost:0.0035929507575929165\n",
      "epoch=300, cost:0.0024054027162492275\n",
      "epoch=400, cost:0.0016623437404632568\n",
      "epoch=500, cost:0.001153325429186225\n",
      "epoch=600, cost:0.0007541654049418867\n",
      "epoch=700, cost:0.0004485029785428196\n",
      "epoch=800, cost:0.00023376746685244143\n",
      "epoch=900, cost:0.0001025596066028811\n"
     ]
    }
   ],
   "source": [
    "loss_fn = nn.MSELoss()\n",
    "opt = torch.optim.Adam(model.parameters())\n",
    "\n",
    "losses = []\n",
    "for epoch in range(1000):\n",
    "  output = model(x)\n",
    "  opt.zero_grad()\n",
    "  cost = loss_fn(output, y)\n",
    "  cost.backward()\n",
    "  opt.step()\n",
    "\n",
    "  if epoch%100==0:\n",
    "    print(f'epoch={epoch}, cost:{cost.item()}')\n",
    "  losses.append(cost.item())"
   ]
  },
  {
   "cell_type": "code",
   "execution_count": null,
   "metadata": {
    "colab": {
     "base_uri": "https://localhost:8080/"
    },
    "executionInfo": {
     "elapsed": 6,
     "status": "ok",
     "timestamp": 1697785722366,
     "user": {
      "displayName": "bandal_lab이세우",
      "userId": "06927367528797360084"
     },
     "user_tz": -540
    },
    "id": "7W3Q5NBB6Mkm",
    "outputId": "44f5674a-92ac-468f-e8d1-638fd1de78f1"
   },
   "outputs": [
    {
     "name": "stdout",
     "output_type": "stream",
     "text": [
      "pred: [[0.11698695 0.19674805 0.29877514 0.39769232]\n",
      " [0.20889658 0.29927945 0.4008466  0.5007172 ]\n",
      " [0.30070758 0.40093058 0.5016182  0.6019354 ]\n",
      " [0.39217407 0.5015364  0.6008695  0.70114577]\n",
      " [0.48305362 0.60094446 0.6984038  0.7981818 ]]\n",
      "round:[[0.1 0.2 0.3 0.4]\n",
      " [0.2 0.3 0.4 0.5]\n",
      " [0.3 0.4 0.5 0.6]\n",
      " [0.4 0.5 0.6 0.7]\n",
      " [0.5 0.6 0.7 0.8]]\n"
     ]
    }
   ],
   "source": [
    "pred = model(x).detach().numpy()\n",
    "print(f'pred: {pred.reshape(-1, 4)}')\n",
    "print(f'round:{np.around(pred.reshape(-1, 4), 1)}')"
   ]
  },
  {
   "cell_type": "markdown",
   "metadata": {
    "id": "xD_S7QZ470h3"
   },
   "source": [
    "## Many To One"
   ]
  },
  {
   "cell_type": "code",
   "execution_count": null,
   "metadata": {
    "colab": {
     "base_uri": "https://localhost:8080/",
     "height": 201
    },
    "executionInfo": {
     "elapsed": 299,
     "status": "ok",
     "timestamp": 1697785727114,
     "user": {
      "displayName": "bandal_lab이세우",
      "userId": "06927367528797360084"
     },
     "user_tz": -540
    },
    "id": "Em2nSxLI7S-I",
    "outputId": "f5ac2cbf-0c6f-4ce7-c1fe-bdc1d164c91d"
   },
   "outputs": [
    {
     "data": {
      "application/vnd.google.colaboratory.intrinsic+json": {
       "type": "string"
      },
      "text/plain": [
       "'x'"
      ]
     },
     "metadata": {},
     "output_type": "display_data"
    },
    {
     "data": {
      "text/plain": [
       "(5, 4, 1)"
      ]
     },
     "metadata": {},
     "output_type": "display_data"
    },
    {
     "data": {
      "text/plain": [
       "[[[0.0], [0.1], [0.2], [0.3]],\n",
       " [[0.1], [0.2], [0.3], [0.4]],\n",
       " [[0.2], [0.3], [0.4], [0.5]],\n",
       " [[0.3], [0.4], [0.5], [0.6]],\n",
       " [[0.4], [0.5], [0.6], [0.7]]]"
      ]
     },
     "metadata": {},
     "output_type": "display_data"
    },
    {
     "data": {
      "application/vnd.google.colaboratory.intrinsic+json": {
       "type": "string"
      },
      "text/plain": [
       "'y'"
      ]
     },
     "metadata": {},
     "output_type": "display_data"
    },
    {
     "data": {
      "text/plain": [
       "(5, 1)"
      ]
     },
     "metadata": {},
     "output_type": "display_data"
    },
    {
     "data": {
      "text/plain": [
       "[[0.4], [0.5], [0.6], [0.7], [0.8]]"
      ]
     },
     "metadata": {},
     "output_type": "display_data"
    }
   ],
   "source": [
    "seq_size = 4\n",
    "batch_size = 5\n",
    "\n",
    "x = [ [[i/10] for i in range(j, j+seq_size)] for j in range(batch_size)]\n",
    "y = [[ (i+seq_size) /10] for i in range(batch_size)]\n",
    "display(\"x\", np.shape(x), x, \"y\", np.shape(y), y)\n",
    "\n",
    "x = torch.FloatTensor(x)\n",
    "y = torch.FloatTensor(y)"
   ]
  },
  {
   "cell_type": "code",
   "execution_count": null,
   "metadata": {
    "id": "3MEZ0lbZ72RV"
   },
   "outputs": [],
   "source": [
    "torch.manual_seed(0)\n",
    "torch.cuda.manual_seed_all(0)\n",
    "\n",
    "class NextNumberM2M(nn.Module):\n",
    "  def __init__(self, input_size, hidden_size, output_size):\n",
    "    super().__init__()\n",
    "    self.rnn = nn.RNN(input_size, hidden_size) #input_size, hidden_size, n_layer=1\n",
    "    self.fc = nn.Linear(32, output_size) # 32 * seq_len\n",
    "\n",
    "  def forward(self, x):\n",
    "    x, h= self.rnn(x)\n",
    "    x = x[:,-1, :] # Many to One\n",
    "    x = self.fc(x)\n",
    "    return x"
   ]
  },
  {
   "cell_type": "code",
   "execution_count": null,
   "metadata": {
    "colab": {
     "base_uri": "https://localhost:8080/"
    },
    "executionInfo": {
     "elapsed": 4,
     "status": "ok",
     "timestamp": 1697785752481,
     "user": {
      "displayName": "bandal_lab이세우",
      "userId": "06927367528797360084"
     },
     "user_tz": -540
    },
    "id": "G_bcro3I8DUm",
    "outputId": "bfed054f-6926-4a42-d100-166daed857d3"
   },
   "outputs": [
    {
     "data": {
      "text/plain": [
       "torch.Size([5, 1])"
      ]
     },
     "execution_count": 22,
     "metadata": {},
     "output_type": "execute_result"
    }
   ],
   "source": [
    "model = NextNumberM2M(1, 32, 1)\n",
    "output = model(x)\n",
    "output.shape"
   ]
  },
  {
   "cell_type": "code",
   "execution_count": null,
   "metadata": {
    "colab": {
     "base_uri": "https://localhost:8080/"
    },
    "executionInfo": {
     "elapsed": 1507,
     "status": "ok",
     "timestamp": 1697785755444,
     "user": {
      "displayName": "bandal_lab이세우",
      "userId": "06927367528797360084"
     },
     "user_tz": -540
    },
    "id": "kNcrUa7D8JZG",
    "outputId": "6e0df647-a164-4872-b470-142c828e8745"
   },
   "outputs": [
    {
     "name": "stdout",
     "output_type": "stream",
     "text": [
      "epoch=0, cost:0.39046409726142883\n",
      "epoch=100, cost:0.0028547984547913074\n",
      "epoch=200, cost:0.000227966665988788\n",
      "epoch=300, cost:2.2824304323876277e-05\n",
      "epoch=400, cost:2.016314510910888e-06\n",
      "epoch=500, cost:9.503328612936457e-08\n",
      "epoch=600, cost:2.4093438355521357e-09\n",
      "epoch=700, cost:3.354276925660038e-11\n",
      "epoch=800, cost:3.1992187761800683e-13\n",
      "epoch=900, cost:1.509903313490213e-14\n"
     ]
    }
   ],
   "source": [
    "loss_fn = nn.MSELoss()\n",
    "opt = torch.optim.Adam(model.parameters())\n",
    "\n",
    "losses = []\n",
    "for epoch in range(1000):\n",
    "  output = model(x)\n",
    "  opt.zero_grad()\n",
    "  cost = loss_fn(output, y)\n",
    "  cost.backward()\n",
    "  opt.step()\n",
    "\n",
    "  if epoch%100==0:\n",
    "    print(f'epoch={epoch}, cost:{cost.item()}')\n",
    "  losses.append(cost.item())"
   ]
  },
  {
   "cell_type": "code",
   "execution_count": null,
   "metadata": {
    "colab": {
     "base_uri": "https://localhost:8080/"
    },
    "executionInfo": {
     "elapsed": 272,
     "status": "ok",
     "timestamp": 1697785758605,
     "user": {
      "displayName": "bandal_lab이세우",
      "userId": "06927367528797360084"
     },
     "user_tz": -540
    },
    "id": "tyEzd52Y8MDx",
    "outputId": "985c59a0-ae9b-4b7a-f144-faa9b48cee1b"
   },
   "outputs": [
    {
     "name": "stdout",
     "output_type": "stream",
     "text": [
      "pred: [[0.39999986]\n",
      " [0.5       ]\n",
      " [0.6       ]\n",
      " [0.70000005]\n",
      " [0.79999995]]\n",
      "round:[[0.4]\n",
      " [0.5]\n",
      " [0.6]\n",
      " [0.7]\n",
      " [0.8]]\n"
     ]
    }
   ],
   "source": [
    "pred = model(x).detach().numpy()\n",
    "print(f'pred: {pred}')\n",
    "print(f'round:{np.around(pred, 1)}')"
   ]
  },
  {
   "cell_type": "markdown",
   "metadata": {
    "id": "5-LujBxd8bmv"
   },
   "source": [
    "# RNN Regression\n",
    "* LSTM, GRU, 주식가격 예측"
   ]
  },
  {
   "cell_type": "markdown",
   "metadata": {
    "id": "mItTOy_r7xbI"
   },
   "source": [
    "## stock 데이터"
   ]
  },
  {
   "cell_type": "code",
   "execution_count": 3,
   "metadata": {},
   "outputs": [],
   "source": [
    "import os\n",
    "os.environ[\"HTTP_PROXY\"] = \"70.10.15.10:8080\"\n",
    "os.environ['HTTPS_PROXY'] = \"70.10.15.10:8080\"\n",
    "os.environ['CURL_CA_BUNDLE'] = ''\n",
    "os.environ['PYTHONHTTPSVERIFY'] ='0' \n",
    "\n",
    "import ssl\n",
    "ssl._create_default_https_context = ssl._create_unverified_context"
   ]
  },
  {
   "cell_type": "code",
   "execution_count": 4,
   "metadata": {
    "executionInfo": {
     "elapsed": 339,
     "status": "ok",
     "timestamp": 1698194562201,
     "user": {
      "displayName": "bandal_lab이세우",
      "userId": "06927367528797360084"
     },
     "user_tz": -540
    },
    "id": "WvAcBDKT8e8I"
   },
   "outputs": [],
   "source": [
    "# 강사가 파일을 제공한 경우 실행하지 마세요.\n",
    "from urllib import request\n",
    "\n",
    "url_stock = 'https://raw.githubusercontent.com/dltpdn/download/master/csv/stock.csv'\n",
    "file_stock = 'stock.csv'\n",
    "with request.urlopen(url_stock) as r:\n",
    "  with open(file_stock, 'wb') as f:\n",
    "    f.write(r.read())"
   ]
  },
  {
   "cell_type": "code",
   "execution_count": 5,
   "metadata": {
    "colab": {
     "base_uri": "https://localhost:8080/",
     "height": 442
    },
    "executionInfo": {
     "elapsed": 4,
     "status": "ok",
     "timestamp": 1698194702098,
     "user": {
      "displayName": "bandal_lab이세우",
      "userId": "06927367528797360084"
     },
     "user_tz": -540
    },
    "id": "wL3e9OiUaB1l",
    "outputId": "92f33f8e-2580-44c4-efec-3673ee08d890"
   },
   "outputs": [
    {
     "data": {
      "text/html": [
       "<div>\n",
       "<style scoped>\n",
       "    .dataframe tbody tr th:only-of-type {\n",
       "        vertical-align: middle;\n",
       "    }\n",
       "\n",
       "    .dataframe tbody tr th {\n",
       "        vertical-align: top;\n",
       "    }\n",
       "\n",
       "    .dataframe thead th {\n",
       "        text-align: right;\n",
       "    }\n",
       "</style>\n",
       "<table border=\"1\" class=\"dataframe\">\n",
       "  <thead>\n",
       "    <tr style=\"text-align: right;\">\n",
       "      <th></th>\n",
       "      <th># Open</th>\n",
       "      <th>High</th>\n",
       "      <th>Low</th>\n",
       "      <th>Volume</th>\n",
       "      <th>Close</th>\n",
       "    </tr>\n",
       "  </thead>\n",
       "  <tbody>\n",
       "    <tr>\n",
       "      <th>0</th>\n",
       "      <td>828.659973</td>\n",
       "      <td>833.450012</td>\n",
       "      <td>828.349976</td>\n",
       "      <td>1247700</td>\n",
       "      <td>831.659973</td>\n",
       "    </tr>\n",
       "    <tr>\n",
       "      <th>1</th>\n",
       "      <td>823.020020</td>\n",
       "      <td>828.070007</td>\n",
       "      <td>821.655029</td>\n",
       "      <td>1597800</td>\n",
       "      <td>828.070007</td>\n",
       "    </tr>\n",
       "    <tr>\n",
       "      <th>2</th>\n",
       "      <td>819.929993</td>\n",
       "      <td>824.400024</td>\n",
       "      <td>818.979980</td>\n",
       "      <td>1281700</td>\n",
       "      <td>824.159973</td>\n",
       "    </tr>\n",
       "    <tr>\n",
       "      <th>3</th>\n",
       "      <td>819.359985</td>\n",
       "      <td>823.000000</td>\n",
       "      <td>818.469971</td>\n",
       "      <td>1304000</td>\n",
       "      <td>818.979980</td>\n",
       "    </tr>\n",
       "    <tr>\n",
       "      <th>4</th>\n",
       "      <td>819.000000</td>\n",
       "      <td>823.000000</td>\n",
       "      <td>816.000000</td>\n",
       "      <td>1053600</td>\n",
       "      <td>820.450012</td>\n",
       "    </tr>\n",
       "    <tr>\n",
       "      <th>...</th>\n",
       "      <td>...</td>\n",
       "      <td>...</td>\n",
       "      <td>...</td>\n",
       "      <td>...</td>\n",
       "      <td>...</td>\n",
       "    </tr>\n",
       "    <tr>\n",
       "      <th>727</th>\n",
       "      <td>599.992707</td>\n",
       "      <td>604.832763</td>\n",
       "      <td>562.192568</td>\n",
       "      <td>147100</td>\n",
       "      <td>567.002574</td>\n",
       "    </tr>\n",
       "    <tr>\n",
       "      <th>728</th>\n",
       "      <td>558.712504</td>\n",
       "      <td>568.452595</td>\n",
       "      <td>558.712504</td>\n",
       "      <td>7900</td>\n",
       "      <td>567.162558</td>\n",
       "    </tr>\n",
       "    <tr>\n",
       "      <th>729</th>\n",
       "      <td>566.892592</td>\n",
       "      <td>567.002574</td>\n",
       "      <td>556.932537</td>\n",
       "      <td>10800</td>\n",
       "      <td>556.972503</td>\n",
       "    </tr>\n",
       "    <tr>\n",
       "      <th>730</th>\n",
       "      <td>561.202549</td>\n",
       "      <td>566.432590</td>\n",
       "      <td>558.672539</td>\n",
       "      <td>41200</td>\n",
       "      <td>559.992565</td>\n",
       "    </tr>\n",
       "    <tr>\n",
       "      <th>731</th>\n",
       "      <td>568.002570</td>\n",
       "      <td>568.002570</td>\n",
       "      <td>552.922516</td>\n",
       "      <td>13100</td>\n",
       "      <td>558.462551</td>\n",
       "    </tr>\n",
       "  </tbody>\n",
       "</table>\n",
       "<p>732 rows × 5 columns</p>\n",
       "</div>"
      ],
      "text/plain": [
       "         # Open        High         Low   Volume       Close\n",
       "0    828.659973  833.450012  828.349976  1247700  831.659973\n",
       "1    823.020020  828.070007  821.655029  1597800  828.070007\n",
       "2    819.929993  824.400024  818.979980  1281700  824.159973\n",
       "3    819.359985  823.000000  818.469971  1304000  818.979980\n",
       "4    819.000000  823.000000  816.000000  1053600  820.450012\n",
       "..          ...         ...         ...      ...         ...\n",
       "727  599.992707  604.832763  562.192568   147100  567.002574\n",
       "728  558.712504  568.452595  558.712504     7900  567.162558\n",
       "729  566.892592  567.002574  556.932537    10800  556.972503\n",
       "730  561.202549  566.432590  558.672539    41200  559.992565\n",
       "731  568.002570  568.002570  552.922516    13100  558.462551\n",
       "\n",
       "[732 rows x 5 columns]"
      ]
     },
     "metadata": {},
     "output_type": "display_data"
    },
    {
     "data": {
      "text/plain": [
       "((507, 7, 5), (218, 7, 5), (507, 1), (218, 1))"
      ]
     },
     "execution_count": 5,
     "metadata": {},
     "output_type": "execute_result"
    }
   ],
   "source": [
    "import numpy as np\n",
    "import pandas as pd\n",
    "from sklearn.preprocessing import StandardScaler\n",
    "from sklearn.model_selection import train_test_split\n",
    "\n",
    "seq_length = 7 # train with 7days features for next day close price\n",
    "data_dim = 5 # 5 features\n",
    "\n",
    "url_stock = 'https://raw.githubusercontent.com/dltpdn/download/master/csv/stock.csv'\n",
    "df = pd.read_csv(url_stock, header=1)\n",
    "display(df)\n",
    "values = df.values[::-1]  # resverse because the data is fliped\n",
    "\n",
    "scaler = StandardScaler() # normalize\n",
    "values_scaled = scaler.fit_transform(values)\n",
    "X,y = [],[]\n",
    "for i in range(0, len(values) - seq_length):\n",
    "    start, end = i, i+seq_length\n",
    "    X.append(values_scaled[start: end]) # 5 features data of 7 days for input\n",
    "    y.append(values_scaled[end, -1:])    # 8th close price\n",
    "X,y = np.array(X), np.array(y)\n",
    "X_train, X_test, y_train, y_test = train_test_split(X, y, test_size=0.3, shuffle=False, random_state=0)\n",
    "X_train.shape, X_test.shape, y_train.shape, y_test.shape\n"
   ]
  },
  {
   "cell_type": "markdown",
   "metadata": {
    "id": "xKUpImxO74SX"
   },
   "source": [
    "## Dataset, DataLoader"
   ]
  },
  {
   "cell_type": "code",
   "execution_count": null,
   "metadata": {
    "id": "svjvDAq-b90r"
   },
   "outputs": [],
   "source": [
    "train_ds = TensorDataset(torch.FloatTensor(X_train), torch.FloatTensor(y_train))\n",
    "test_ds =  TensorDataset(torch.FloatTensor(X_test), torch.FloatTensor(y_test))\n",
    "train_loader = DataLoader(train_ds, batch_size=16, shuffle=True)\n",
    "test_loader = DataLoader(test_ds)"
   ]
  },
  {
   "cell_type": "markdown",
   "metadata": {
    "id": "EI1gckc0774V"
   },
   "source": [
    "## 모델 정의"
   ]
  },
  {
   "cell_type": "code",
   "execution_count": null,
   "metadata": {
    "id": "4d21Q6rPaCVX"
   },
   "outputs": [],
   "source": [
    "import torch.nn.functional as F\n",
    "\n",
    "class StockPrice(nn.Module):\n",
    "  def __init__(self, input_size, output_size):\n",
    "    super(StockPrice, self).__init__()\n",
    "    self.rnn = nn.GRU(input_size, 64, batch_first=True)\n",
    "    self.fc1 = nn.Linear(64, 32)\n",
    "    self.fc2 = nn.Linear(32, 16)\n",
    "    self.fc3 = nn.Linear(16, output_size)\n",
    "\n",
    "  def forward(self, x):\n",
    "    x, _ = self.rnn(x)\n",
    "    x = self.fc1(x[:, -1, :])\n",
    "    x = F.relu(x)\n",
    "    x = self.fc2(x)\n",
    "    x = F.relu(x)\n",
    "    x = self.fc3(x)\n",
    "    return x"
   ]
  },
  {
   "cell_type": "markdown",
   "metadata": {
    "id": "Cy7F0UU08Ph_"
   },
   "source": [
    "## 학습, 평가 함수 정의"
   ]
  },
  {
   "cell_type": "code",
   "execution_count": null,
   "metadata": {
    "id": "b9iBhghh8Gxo"
   },
   "outputs": [],
   "source": [
    "def fit(model, loader, loss_fn, opt):\n",
    "  n_batch = len(loader)\n",
    "  loss=0\n",
    "  model.train()\n",
    "  for (x, y) in loader:\n",
    "    x, y = x.to(device), y.to(device)\n",
    "    y_pred = model(x)\n",
    "    cost = loss_fn(y_pred, y)\n",
    "    opt.zero_grad()\n",
    "    cost.backward()\n",
    "    opt.step()\n",
    "    loss += cost.item()/n_batch\n",
    "  return loss\n",
    "\n",
    "def evaluate(model, loader, metric_fn):\n",
    "  loss=0\n",
    "  n_batch = len(loader)\n",
    "  model.eval()\n",
    "  with torch.no_grad():\n",
    "    for x, y in loader:\n",
    "      x, y = x.to(device), y.to(device)\n",
    "      y_pred = model(x)\n",
    "      cost = metric_fn(y_pred, y)\n",
    "      loss += cost.item()/n_batch\n",
    "  return loss"
   ]
  },
  {
   "cell_type": "code",
   "execution_count": null,
   "metadata": {
    "colab": {
     "base_uri": "https://localhost:8080/"
    },
    "executionInfo": {
     "elapsed": 59164,
     "status": "ok",
     "timestamp": 1697786437886,
     "user": {
      "displayName": "bandal_lab이세우",
      "userId": "06927367528797360084"
     },
     "user_tz": -540
    },
    "id": "UiyLsCSqbCHl",
    "outputId": "9a9f25d5-a3b5-4eda-d2d0-3284f2e256ce"
   },
   "outputs": [
    {
     "name": "stdout",
     "output_type": "stream",
     "text": [
      "epoch=0, cost:0.4361916051711887, val_cost:0.9262568871896513\n",
      "epoch=10, cost:0.013488620781572536, val_cost:0.040164806022712086\n",
      "epoch=20, cost:0.011115845954918768, val_cost:0.023084294134883918\n",
      "epoch=30, cost:0.009566560496750753, val_cost:0.019642279585746148\n",
      "epoch=40, cost:0.008997542150609661, val_cost:0.02606787499480208\n",
      "epoch=50, cost:0.008023088827030733, val_cost:0.011141963139674811\n",
      "epoch=60, cost:0.0077610061889572535, val_cost:0.010033615823521537\n",
      "epoch=70, cost:0.007358341499639209, val_cost:0.009964256834677533\n",
      "epoch=80, cost:0.006835471074737143, val_cost:0.010689306571094126\n",
      "epoch=90, cost:0.006753365785698406, val_cost:0.008812599708199994\n",
      "epoch=100, cost:0.006260119906073669, val_cost:0.00887237118120386\n",
      "epoch=110, cost:0.005989888544718269, val_cost:0.010490139832226592\n",
      "epoch=120, cost:0.005784099696029443, val_cost:0.012458797062157273\n",
      "epoch=130, cost:0.004684921204898274, val_cost:0.008712368066574449\n",
      "epoch=140, cost:0.004779114937264239, val_cost:0.011622196034361192\n",
      "epoch=150, cost:0.004506636025325861, val_cost:0.015849030824178812\n",
      "epoch=160, cost:0.004152998037170619, val_cost:0.013576481534663877\n",
      "epoch=170, cost:0.004132341458898736, val_cost:0.015536112595197347\n",
      "epoch=180, cost:0.003902990483766189, val_cost:0.018339700585785462\n",
      "epoch=190, cost:0.0036141320706519764, val_cost:0.016632245984449238\n"
     ]
    }
   ],
   "source": [
    "torch.manual_seed(0)\n",
    "torch.cuda.manual_seed_all(0)\n",
    "\n",
    "model = StockPrice(5, 1).to(device)\n",
    "loss_fn = nn.MSELoss()\n",
    "opt = torch.optim.Adam(model.parameters())\n",
    "\n",
    "train_losses = []\n",
    "val_losses = []\n",
    "for epoch in range(200):\n",
    "  train_loss = fit(model, train_loader, loss_fn, opt)\n",
    "  val_loss = evaluate(model, test_loader, loss_fn)\n",
    "  if epoch%10==0:\n",
    "    print(f'epoch={epoch}, cost:{train_loss}, val_cost:{val_loss}')\n",
    "  train_losses.append(train_loss)\n",
    "  val_losses.append(val_loss)\n"
   ]
  },
  {
   "cell_type": "code",
   "execution_count": null,
   "metadata": {
    "colab": {
     "base_uri": "https://localhost:8080/",
     "height": 430
    },
    "executionInfo": {
     "elapsed": 6,
     "status": "ok",
     "timestamp": 1697786437888,
     "user": {
      "displayName": "bandal_lab이세우",
      "userId": "06927367528797360084"
     },
     "user_tz": -540
    },
    "id": "Wlb5YpsabOWS",
    "outputId": "0caf113e-2d96-4856-a2a1-440d084b1f13"
   },
   "outputs": [
    {
     "data": {
      "image/png": "[encoded data removed]",
      "text/plain": [
       "<Figure size 640x480 with 1 Axes>"
      ]
     },
     "metadata": {},
     "output_type": "display_data"
    }
   ],
   "source": [
    "plt.plot(train_losses, label='train loss')\n",
    "plt.plot(val_losses, label='val loss')\n",
    "plt.legend();"
   ]
  },
  {
   "cell_type": "markdown",
   "metadata": {
    "id": "pwzl684n8zed"
   },
   "source": [
    "## 추론"
   ]
  },
  {
   "cell_type": "markdown",
   "metadata": {
    "id": "lhV-Lztw9UDY"
   },
   "source": [
    "### 추론 함수 정의"
   ]
  },
  {
   "cell_type": "code",
   "execution_count": null,
   "metadata": {
    "id": "IdrtEprx84d-"
   },
   "outputs": [],
   "source": [
    "def predict(model, loader):\n",
    "  preds = []\n",
    "  model.eval()\n",
    "  with torch.no_grad():\n",
    "    for X, y in loader:\n",
    "      X = X.to(device)\n",
    "      y_pred = model(X)\n",
    "      preds.append(y_pred.detach().cpu().numpy())\n",
    "  return np.concatenate(preds)"
   ]
  },
  {
   "cell_type": "markdown",
   "metadata": {
    "id": "6tPJxMPC9Vm9"
   },
   "source": [
    "### Train data 추론 및 비교"
   ]
  },
  {
   "cell_type": "code",
   "execution_count": null,
   "metadata": {
    "colab": {
     "base_uri": "https://localhost:8080/",
     "height": 452
    },
    "executionInfo": {
     "elapsed": 1172,
     "status": "ok",
     "timestamp": 1697786647425,
     "user": {
      "displayName": "bandal_lab이세우",
      "userId": "06927367528797360084"
     },
     "user_tz": -540
    },
    "id": "JpxGZOwu9HzJ",
    "outputId": "80cc1a38-6883-4ea8-df45-e563194daa89"
   },
   "outputs": [
    {
     "data": {
      "image/png": "[encoded data removed]",
      "text/plain": [
       "<Figure size 640x480 with 1 Axes>"
      ]
     },
     "metadata": {},
     "output_type": "display_data"
    }
   ],
   "source": [
    "outputs_train = predict(model, DataLoader(train_ds))\n",
    "plt.plot(y_train, label='train real')\n",
    "plt.plot(outputs_train, label='train predict')\n",
    "plt.title(\"Train Data\")\n",
    "plt.legend();"
   ]
  },
  {
   "cell_type": "markdown",
   "metadata": {
    "id": "c_LMhsR29fXF"
   },
   "source": [
    "### Test data 추론 및 비교"
   ]
  },
  {
   "cell_type": "code",
   "execution_count": null,
   "metadata": {
    "colab": {
     "base_uri": "https://localhost:8080/",
     "height": 452
    },
    "executionInfo": {
     "elapsed": 1092,
     "status": "ok",
     "timestamp": 1697786660224,
     "user": {
      "displayName": "bandal_lab이세우",
      "userId": "06927367528797360084"
     },
     "user_tz": -540
    },
    "id": "eqQ796vO9h1A",
    "outputId": "de80d63f-a054-40ad-cb91-c26e382143e3"
   },
   "outputs": [
    {
     "data": {
      "image/png": "[encoded data removed]",
      "text/plain": [
       "<Figure size 640x480 with 1 Axes>"
      ]
     },
     "metadata": {},
     "output_type": "display_data"
    }
   ],
   "source": [
    "outputs_test = predict(model, test_loader)\n",
    "plt.plot(y_test, label='test real')\n",
    "plt.plot(outputs_test, label='test predict')\n",
    "plt.title(\"Test Data\")\n",
    "plt.legend();"
   ]
  },
  {
   "cell_type": "markdown",
   "metadata": {
    "id": "f1UDQsBq90dv"
   },
   "source": [
    "## 평가"
   ]
  },
  {
   "cell_type": "code",
   "execution_count": null,
   "metadata": {
    "colab": {
     "base_uri": "https://localhost:8080/"
    },
    "executionInfo": {
     "elapsed": 2,
     "status": "ok",
     "timestamp": 1697786831697,
     "user": {
      "displayName": "bandal_lab이세우",
      "userId": "06927367528797360084"
     },
     "user_tz": -540
    },
    "id": "CHhacK3n92Gc",
    "outputId": "a5eafdff-3ac9-4fb7-fd69-d93dcb824017"
   },
   "outputs": [
    {
     "name": "stdout",
     "output_type": "stream",
     "text": [
      "train mae:0.052895548181730666, rmse:0.06779702975708772, r2:0.9924542499753896 \n",
      "test mae:0.07908635793077799, rmse:0.1074929773186915, r2:0.9171772241099204 \n"
     ]
    }
   ],
   "source": [
    "from sklearn.metrics import mean_absolute_error, mean_squared_error, r2_score\n",
    "\n",
    "mae_train = mean_absolute_error(y_train, outputs_train)\n",
    "rmse_train = mean_squared_error(y_train, outputs_train, squared=False)\n",
    "r2_train = r2_score(y_train, outputs_train)\n",
    "\n",
    "mae_test = mean_absolute_error(y_test, outputs_test)\n",
    "rmse_test = mean_squared_error(y_test, outputs_test, squared=False)\n",
    "r2_test = r2_score(y_test, outputs_test)\n",
    "print(f'train mae:{mae_train}, rmse:{rmse_train}, r2:{r2_train} ')\n",
    "print(f'test mae:{mae_test}, rmse:{rmse_test}, r2:{r2_test} ')\n"
   ]
  },
  {
   "cell_type": "markdown",
   "metadata": {
    "id": "69NWQkAGhN7M"
   },
   "source": [
    "# RNN Classification\n",
    "* MNIST"
   ]
  },
  {
   "cell_type": "markdown",
   "metadata": {
    "id": "1P1rE5r9_MDz"
   },
   "source": [
    "## Dataset"
   ]
  },
  {
   "cell_type": "markdown",
   "metadata": {
    "id": "sMmfjC4GF6HY"
   },
   "source": [
    "### MNIST Dataset"
   ]
  },
  {
   "cell_type": "code",
   "execution_count": 6,
   "metadata": {
    "colab": {
     "base_uri": "https://localhost:8080/"
    },
    "executionInfo": {
     "elapsed": 1093,
     "status": "ok",
     "timestamp": 1697786878716,
     "user": {
      "displayName": "bandal_lab이세우",
      "userId": "06927367528797360084"
     },
     "user_tz": -540
    },
    "id": "gr2lCdLWhCz2",
    "outputId": "131e2b1d-fb72-4363-eeb0-5d8ba9756822"
   },
   "outputs": [
    {
     "data": {
      "text/plain": [
       "(torch.Size([60000, 28, 28]), torch.Size([10000, 28, 28]))"
      ]
     },
     "execution_count": 6,
     "metadata": {},
     "output_type": "execute_result"
    }
   ],
   "source": [
    "import torchvision.datasets as dsets\n",
    "import torchvision.transforms as transforms\n",
    "\n",
    "mnist_train = dsets.MNIST(root='.', # 다운로드 경로 지정\n",
    "                          train=True, # True를 지정하면 훈련 데이터로 다운로드\n",
    "                          transform=transforms.ToTensor(), # 텐서로 변환\n",
    "                          download=True)\n",
    "\n",
    "mnist_test = dsets.MNIST(root='.', # 다운로드 경로 지정\n",
    "                         train=False, # False를 지정하면 테스트 데이터로 다운로드\n",
    "                         transform=transforms.ToTensor(), # 텐서로 변환\n",
    "                         download=True)\n",
    "mnist_train.data.shape, mnist_test.data.shape"
   ]
  },
  {
   "cell_type": "code",
   "execution_count": null,
   "metadata": {
    "colab": {
     "base_uri": "https://localhost:8080/"
    },
    "executionInfo": {
     "elapsed": 272,
     "status": "ok",
     "timestamp": 1697786885905,
     "user": {
      "displayName": "bandal_lab이세우",
      "userId": "06927367528797360084"
     },
     "user_tz": -540
    },
    "id": "sjp7V7l8mMdS",
    "outputId": "c1e4822a-66fc-480a-90f9-f91a8c2d6ef8"
   },
   "outputs": [
    {
     "name": "stdout",
     "output_type": "stream",
     "text": [
      "<class 'torch.Tensor'>\n",
      "torch.Size([1, 28, 28])\n"
     ]
    }
   ],
   "source": [
    "for X, y in mnist_train:\n",
    "  print(X.shape)\n",
    "  break"
   ]
  },
  {
   "cell_type": "markdown",
   "metadata": {
    "id": "8CABA7v5FeOo"
   },
   "source": [
    "### Custom Data Transformations\n",
    "* Squeeze"
   ]
  },
  {
   "cell_type": "code",
   "execution_count": null,
   "metadata": {
    "colab": {
     "base_uri": "https://localhost:8080/"
    },
    "executionInfo": {
     "elapsed": 266,
     "status": "ok",
     "timestamp": 1697788560195,
     "user": {
      "displayName": "bandal_lab이세우",
      "userId": "06927367528797360084"
     },
     "user_tz": -540
    },
    "id": "CTIL5breEM90",
    "outputId": "e1921b05-a27d-4da0-953c-1b38f210cee6"
   },
   "outputs": [
    {
     "name": "stdout",
     "output_type": "stream",
     "text": [
      "torch.Size([28, 28])\n"
     ]
    }
   ],
   "source": [
    "class Squeeze():\n",
    "  def __call__(self, sample):\n",
    "    return torch.squeeze(sample)\n",
    "\n",
    "mnist_train = dsets.MNIST(root='.', # 다운로드 경로 지정\n",
    "                          train=True, # True를 지정하면 훈련 데이터로 다운로드\n",
    "                          transform=transforms.Compose([\n",
    "                              transforms.ToTensor(), # 텐서로 변환\n",
    "                              Squeeze()]), # squeeze\n",
    "                          download=True)\n",
    "\n",
    "mnist_test = dsets.MNIST(root='.', # 다운로드 경로 지정\n",
    "                         train=False, # False를 지정하면 테스트 데이터로 다운로드\n",
    "                         transform=transforms.Compose([\n",
    "                              transforms.ToTensor(), # 텐서로 변환\n",
    "                              Squeeze()]), # squeeze\n",
    "                         download=True)\n",
    "mnist_train.data.shape, mnist_test.data.shape\n",
    "\n",
    "for X, y in mnist_train:\n",
    "  print(X.shape)\n",
    "  break"
   ]
  },
  {
   "cell_type": "markdown",
   "metadata": {
    "id": "zi6PASy2F8mH"
   },
   "source": [
    "### DataLoader"
   ]
  },
  {
   "cell_type": "code",
   "execution_count": null,
   "metadata": {
    "id": "0oGv2B-GjamU"
   },
   "outputs": [],
   "source": [
    "batch_size=64\n",
    "train_loader = DataLoader(dataset=mnist_train,\n",
    "                          batch_size=batch_size,\n",
    "                          shuffle=True)\n",
    "\n",
    "test_loader = DataLoader(dataset=mnist_test,\n",
    "                         batch_size=batch_size)"
   ]
  },
  {
   "cell_type": "code",
   "execution_count": null,
   "metadata": {
    "colab": {
     "base_uri": "https://localhost:8080/"
    },
    "executionInfo": {
     "elapsed": 270,
     "status": "ok",
     "timestamp": 1697789221345,
     "user": {
      "displayName": "bandal_lab이세우",
      "userId": "06927367528797360084"
     },
     "user_tz": -540
    },
    "id": "mPp0-UP-l59R",
    "outputId": "74956099-8856-46ef-88c1-b8c447096409"
   },
   "outputs": [
    {
     "name": "stdout",
     "output_type": "stream",
     "text": [
      "torch.Size([64, 28, 28]) torch.Size([64, 28, 28])\n",
      "tensor(1.) tensor(0.) tensor(9) tensor(0)\n"
     ]
    }
   ],
   "source": [
    "for X, y in train_loader:\n",
    "  print(X.shape, torch.squeeze(X).shape)\n",
    "  print(X.max(), X.min(), y.max(), y.min())\n",
    "  break"
   ]
  },
  {
   "cell_type": "markdown",
   "metadata": {
    "id": "uDBoucluF-Pi"
   },
   "source": [
    "## 모델 정의"
   ]
  },
  {
   "cell_type": "code",
   "execution_count": null,
   "metadata": {
    "id": "aeJmJpZnjric"
   },
   "outputs": [],
   "source": [
    "import torch.nn as nn\n",
    "import torch.nn.functional as F\n",
    "\n",
    "torch.manual_seed(0)\n",
    "torch.cuda.manual_seed_all(0)\n",
    "\n",
    "class MNISTClassifier(nn.Module):\n",
    "  def __init__(self, input_size, seq_len, output_size):\n",
    "    super().__init__()\n",
    "    hidden_size = 128\n",
    "    self.rnn = nn.LSTM(input_size, hidden_size, batch_first=True)\n",
    "    self.fc = nn.Linear(hidden_size, output_size)\n",
    "\n",
    "  def forward(self, x):\n",
    "    x, _ = self.rnn(x)\n",
    "    x = self.fc(x[:, -1, :])\n",
    "    return x"
   ]
  },
  {
   "cell_type": "markdown",
   "metadata": {
    "id": "RPEFzknkGA_o"
   },
   "source": [
    "## 모델 학습"
   ]
  },
  {
   "cell_type": "code",
   "execution_count": null,
   "metadata": {
    "id": "gDcUz9LSkj5C"
   },
   "outputs": [],
   "source": [
    "def fit(model, loader, loss_fn, opt):\n",
    "  n_batch = len(loader)\n",
    "  loss=0\n",
    "  model.train()\n",
    "  for (x, y) in loader:\n",
    "    x, y = x.to(device), y.to(device)\n",
    "    y_pred = model(x)\n",
    "    cost = loss_fn(y_pred, y)\n",
    "    opt.zero_grad()\n",
    "    cost.backward()\n",
    "    opt.step()\n",
    "    loss += cost.item()/n_batch\n",
    "  return loss\n",
    "\n",
    "def evaluate(model, loader, metric_fn):\n",
    "  loss=0\n",
    "  n_batch = len(loader)\n",
    "  model.eval()\n",
    "  with torch.no_grad():\n",
    "    for x, y in loader:\n",
    "      x, y = x.to(device), y.to(device)\n",
    "      y_pred = model(x)\n",
    "      cost = metric_fn(y_pred, y)\n",
    "      loss += cost.item()/n_batch\n",
    "  return loss"
   ]
  },
  {
   "cell_type": "code",
   "execution_count": null,
   "metadata": {
    "colab": {
     "base_uri": "https://localhost:8080/"
    },
    "executionInfo": {
     "elapsed": 110763,
     "status": "ok",
     "timestamp": 1697789720903,
     "user": {
      "displayName": "bandal_lab이세우",
      "userId": "06927367528797360084"
     },
     "user_tz": -540
    },
    "id": "zFwYgkdAkrKK",
    "outputId": "a7c478f2-ecf4-4bb2-9a8c-cb58522d442b"
   },
   "outputs": [
    {
     "name": "stdout",
     "output_type": "stream",
     "text": [
      "epoch=0, cost:0.34345814442115125 , val_cost:0.11356567811209026\n",
      "epoch=1, cost:0.10028005593137612 , val_cost:0.07776127364649582\n",
      "epoch=2, cost:0.08602869801192484 , val_cost:0.07447925952387749\n",
      "epoch=3, cost:0.07388707620279403 , val_cost:0.07170677211752553\n",
      "epoch=4, cost:0.07213480722482829 , val_cost:0.08721212707133669\n",
      "epoch=5, cost:0.06373146063224207 , val_cost:0.06260816670307641\n",
      "epoch=6, cost:0.05937553655447013 , val_cost:0.07348987685885745\n",
      "epoch=7, cost:0.06807283323463195 , val_cost:0.07886833686323746\n",
      "epoch=8, cost:0.06245706268392103 , val_cost:0.07513004028687709\n",
      "epoch=9, cost:0.06335129722608306 , val_cost:0.07469441320607734\n"
     ]
    }
   ],
   "source": [
    "model = MNISTClassifier(28, 28, 10).to(device)\n",
    "loss_fn = nn.CrossEntropyLoss()\n",
    "opt = torch.optim.Adam(model.parameters(), lr=0.01)\n",
    "\n",
    "history={'train_loss' :[], 'val_loss': []}\n",
    "for epoch in range(10):\n",
    "  train_loss = fit(model, train_loader, loss_fn, opt)\n",
    "  val_loss = evaluate(model, test_loader, loss_fn)\n",
    "  print(f'epoch={epoch}, cost:{train_loss} , val_cost:{val_loss}')\n",
    "  history['train_loss'].append(train_loss)\n",
    "  history['val_loss'].append(val_loss)\n"
   ]
  },
  {
   "cell_type": "code",
   "execution_count": null,
   "metadata": {
    "colab": {
     "base_uri": "https://localhost:8080/",
     "height": 430
    },
    "executionInfo": {
     "elapsed": 20,
     "status": "ok",
     "timestamp": 1697789720905,
     "user": {
      "displayName": "bandal_lab이세우",
      "userId": "06927367528797360084"
     },
     "user_tz": -540
    },
    "id": "_lbfzdILk7GQ",
    "outputId": "4dbd3892-6232-413c-c645-4014555d66ee"
   },
   "outputs": [
    {
     "data": {
      "image/png": "[encoded data removed]",
      "text/plain": [
       "<Figure size 640x480 with 1 Axes>"
      ]
     },
     "metadata": {},
     "output_type": "display_data"
    }
   ],
   "source": [
    "plt.plot(history['train_loss'], label='train loss')\n",
    "plt.plot(history['val_loss'], label='val loss')\n",
    "plt.legend();"
   ]
  },
  {
   "cell_type": "markdown",
   "metadata": {
    "id": "hMpNYoVhGK-i"
   },
   "source": [
    "## 평가"
   ]
  },
  {
   "cell_type": "code",
   "execution_count": null,
   "metadata": {
    "colab": {
     "base_uri": "https://localhost:8080/"
    },
    "executionInfo": {
     "elapsed": 64141,
     "status": "ok",
     "timestamp": 1697789785028,
     "user": {
      "displayName": "bandal_lab이세우",
      "userId": "06927367528797360084"
     },
     "user_tz": -540
    },
    "id": "JYM-YiFdGQjw",
    "outputId": "a97e6c61-16d5-4766-a077-07eb2ff5ba20"
   },
   "outputs": [
    {
     "name": "stdout",
     "output_type": "stream",
     "text": [
      "train acc:0.9818666666666667, test acc:0.9778\n"
     ]
    }
   ],
   "source": [
    "def predict(model, loader, fn=None, **kw):\n",
    "  preds = []\n",
    "  model.eval()\n",
    "  with torch.no_grad():\n",
    "    for X, y in loader:\n",
    "      X = X.to(device)\n",
    "      y_pred = model(X)\n",
    "      if fn:\n",
    "        y_pred = fn(y_pred, **kw)\n",
    "      preds.append(y_pred.detach().cpu().numpy())\n",
    "  return np.concatenate(preds)\n",
    "\n",
    "\n",
    "proba_train = predict(model, DataLoader(mnist_train, shuffle=False), F.softmax, dim=1)\n",
    "proba_test = predict(model, DataLoader(mnist_test, shuffle=False), F.softmax, dim=1)\n",
    "pred_train = np.argmax(proba_train, axis=1)\n",
    "pred_test = np.argmax(proba_test, axis=1)\n",
    "train_acc = accuracy_score(mnist_train.targets.numpy(), pred_train)\n",
    "test_acc = accuracy_score(mnist_test.targets.numpy(), pred_test)\n",
    "\n",
    "print(f'train acc:{train_acc}, test acc:{test_acc}')"
   ]
  }
 ],
 "metadata": {
  "accelerator": "GPU",
  "colab": {
   "gpuType": "T4",
   "provenance": []
  },
  "kernelspec": {
   "display_name": "Python 3 (ipykernel)",
   "language": "python",
   "name": "python3"
  },
  "language_info": {
   "codemirror_mode": {
    "name": "ipython",
    "version": 3
   },
   "file_extension": ".py",
   "mimetype": "text/x-python",
   "name": "python",
   "nbconvert_exporter": "python",
   "pygments_lexer": "ipython3",
   "version": "3.11.5"
  }
 },
 "nbformat": 4,
 "nbformat_minor": 4
}
