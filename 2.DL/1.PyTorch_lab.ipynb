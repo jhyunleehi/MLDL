{
 "cells": [
  {
   "cell_type": "markdown",
   "metadata": {
    "id": "LQ_z_CWowgMY"
   },
   "source": [
    "<h1>Pytorch</h1>\n"
   ]
  },
  {
   "cell_type": "markdown",
   "metadata": {
    "id": "iyqjXRF_bBJS"
   },
   "source": [
    "# Ref\n",
    "* https://pytorch.org/docs/stable/index.html\n"
   ]
  },
  {
   "cell_type": "markdown",
   "metadata": {
    "id": "_gEiX6dnbFHY"
   },
   "source": [
    "# import"
   ]
  },
  {
   "cell_type": "code",
   "execution_count": 2,
   "metadata": {
    "colab": {
     "base_uri": "https://localhost:8080/",
     "height": 35
    },
    "executionInfo": {
     "elapsed": 7688,
     "status": "ok",
     "timestamp": 1694951994536,
     "user": {
      "displayName": "bandal_lab이세우",
      "userId": "06927367528797360084"
     },
     "user_tz": -540
    },
    "id": "7jI4kwBfmPlM",
    "outputId": "5aec1249-5ad2-4d45-cf70-b6dffab8bdde"
   },
   "outputs": [
    {
     "data": {
      "text/plain": [
       "'2.0.1+cu117'"
      ]
     },
     "execution_count": 2,
     "metadata": {},
     "output_type": "execute_result"
    }
   ],
   "source": [
    "import numpy as np\n",
    "import pandas as pd\n",
    "import matplotlib.pyplot as plt\n",
    "\n",
    "import torch\n",
    "torch.__version__"
   ]
  },
  {
   "cell_type": "markdown",
   "metadata": {
    "id": "U4Rrx5iVbZkw"
   },
   "source": [
    "# Tensor object\n",
    "* `torch.tensor(data, dtype)`\n",
    "* `torch.XXXTensor(data)`\n",
    "* ![](https://wikidocs.net/images/page/52846/newimage.png)"
   ]
  },
  {
   "cell_type": "markdown",
   "metadata": {},
   "source": [
    "* `torch.tensor(data)`"
   ]
  },
  {
   "cell_type": "code",
   "execution_count": null,
   "metadata": {
    "colab": {
     "base_uri": "https://localhost:8080/"
    },
    "executionInfo": {
     "elapsed": 10,
     "status": "ok",
     "timestamp": 1694945467314,
     "user": {
      "displayName": "bandal_lab이세우",
      "userId": "06927367528797360084"
     },
     "user_tz": -540
    },
    "id": "gyo-SIAzg-En",
    "outputId": "03ddcd2c-8d3e-4a9b-81b9-744cb3d16726"
   },
   "outputs": [
    {
     "name": "stdout",
     "output_type": "stream",
     "text": [
      "tensor(10)\n"
     ]
    }
   ],
   "source": []
  },
  {
   "cell_type": "markdown",
   "metadata": {},
   "source": [
    "* `torch.tensor(data, dtype)`"
   ]
  },
  {
   "cell_type": "code",
   "execution_count": null,
   "metadata": {
    "colab": {
     "base_uri": "https://localhost:8080/"
    },
    "executionInfo": {
     "elapsed": 5,
     "status": "ok",
     "timestamp": 1694945468358,
     "user": {
      "displayName": "bandal_lab이세우",
      "userId": "06927367528797360084"
     },
     "user_tz": -540
    },
    "id": "kDF0nTn8wj2V",
    "outputId": "94f02c37-1771-4b8b-de61-3b64ebd18ae4"
   },
   "outputs": [
    {
     "data": {
      "text/plain": [
       "tensor([1., 2., 3., 4., 5.])"
      ]
     },
     "execution_count": 4,
     "metadata": {},
     "output_type": "execute_result"
    }
   ],
   "source": []
  },
  {
   "cell_type": "markdown",
   "metadata": {},
   "source": [
    "* `torch.FloatTensor(data)`"
   ]
  },
  {
   "cell_type": "code",
   "execution_count": null,
   "metadata": {
    "colab": {
     "base_uri": "https://localhost:8080/"
    },
    "executionInfo": {
     "elapsed": 5,
     "status": "ok",
     "timestamp": 1694945468359,
     "user": {
      "displayName": "bandal_lab이세우",
      "userId": "06927367528797360084"
     },
     "user_tz": -540
    },
    "id": "gM8mhq_9maCA",
    "outputId": "773c6889-c56b-450d-8b68-28a1a0a877a7"
   },
   "outputs": [
    {
     "data": {
      "text/plain": [
       "tensor([0., 1., 2., 3., 4., 5.])"
      ]
     },
     "execution_count": 5,
     "metadata": {},
     "output_type": "execute_result"
    }
   ],
   "source": []
  },
  {
   "cell_type": "markdown",
   "metadata": {
    "id": "7fySiA6DkzzZ"
   },
   "source": [
    "## 속성\n",
    "* `t.shape`, `t.dim()`, `t.size()`"
   ]
  },
  {
   "cell_type": "code",
   "execution_count": null,
   "metadata": {
    "colab": {
     "base_uri": "https://localhost:8080/"
    },
    "executionInfo": {
     "elapsed": 405,
     "status": "ok",
     "timestamp": 1694945482326,
     "user": {
      "displayName": "bandal_lab이세우",
      "userId": "06927367528797360084"
     },
     "user_tz": -540
    },
    "id": "bhRQKM3YmeeS",
    "outputId": "27b1cfe1-0b28-4cb0-984d-9bbcf5c036a2"
   },
   "outputs": [
    {
     "data": {
      "text/plain": [
       "(1, torch.Size([6]), torch.Size([6]))"
      ]
     },
     "execution_count": 6,
     "metadata": {},
     "output_type": "execute_result"
    }
   ],
   "source": []
  },
  {
   "cell_type": "markdown",
   "metadata": {},
   "source": [
    "* `t.name`, `t.dtype`, `t.device`"
   ]
  },
  {
   "cell_type": "code",
   "execution_count": null,
   "metadata": {
    "colab": {
     "base_uri": "https://localhost:8080/"
    },
    "executionInfo": {
     "elapsed": 3,
     "status": "ok",
     "timestamp": 1694946256495,
     "user": {
      "displayName": "bandal_lab이세우",
      "userId": "06927367528797360084"
     },
     "user_tz": -540
    },
    "id": "7FliEdi4qxw-",
    "outputId": "cc45da71-33f2-4ed9-bd66-accdaab82d3b"
   },
   "outputs": [
    {
     "data": {
      "text/plain": [
       "(None, torch.float32, device(type='cpu'))"
      ]
     },
     "execution_count": 20,
     "metadata": {},
     "output_type": "execute_result"
    }
   ],
   "source": []
  },
  {
   "cell_type": "markdown",
   "metadata": {
    "id": "kkvMlNt26ILp"
   },
   "source": [
    "## CUDA device\n",
    "* `torch.cuda.is_available()`\n",
    "\n"
   ]
  },
  {
   "cell_type": "code",
   "execution_count": null,
   "metadata": {
    "colab": {
     "base_uri": "https://localhost:8080/"
    },
    "executionInfo": {
     "elapsed": 10,
     "status": "ok",
     "timestamp": 1694951994537,
     "user": {
      "displayName": "bandal_lab이세우",
      "userId": "06927367528797360084"
     },
     "user_tz": -540
    },
    "id": "fODy4gd96XhD",
    "outputId": "98a1df77-3f42-4666-f408-0219bd80d8e3"
   },
   "outputs": [
    {
     "data": {
      "text/plain": [
       "True"
      ]
     },
     "execution_count": 3,
     "metadata": {},
     "output_type": "execute_result"
    }
   ],
   "source": []
  },
  {
   "cell_type": "markdown",
   "metadata": {},
   "source": [
    "* `torch.cuda.XXXTensor(data)`"
   ]
  },
  {
   "cell_type": "code",
   "execution_count": null,
   "metadata": {
    "colab": {
     "base_uri": "https://localhost:8080/"
    },
    "executionInfo": {
     "elapsed": 7339,
     "status": "ok",
     "timestamp": 1694952001869,
     "user": {
      "displayName": "bandal_lab이세우",
      "userId": "06927367528797360084"
     },
     "user_tz": -540
    },
    "id": "qI40aRCvTqkx",
    "outputId": "e6d79095-6003-419b-bf8f-b685324a5dfb"
   },
   "outputs": [
    {
     "data": {
      "text/plain": [
       "tensor([0., 0., 0., 0., 0., 0., 0., 0., 0., 0.], device='cuda:0')"
      ]
     },
     "execution_count": 4,
     "metadata": {},
     "output_type": "execute_result"
    }
   ],
   "source": []
  },
  {
   "cell_type": "markdown",
   "metadata": {},
   "source": [
    "* `torch.tensor(v, device=torch.device('cuda'))`"
   ]
  },
  {
   "cell_type": "code",
   "execution_count": null,
   "metadata": {
    "colab": {
     "base_uri": "https://localhost:8080/"
    },
    "executionInfo": {
     "elapsed": 21,
     "status": "ok",
     "timestamp": 1694952001870,
     "user": {
      "displayName": "bandal_lab이세우",
      "userId": "06927367528797360084"
     },
     "user_tz": -540
    },
    "id": "jIs1Fzdd6aLk",
    "outputId": "3b95e31f-70c3-4106-e7f1-263decab476a"
   },
   "outputs": [
    {
     "data": {
      "text/plain": [
       "(tensor(10, device='cuda:0'), device(type='cuda', index=0))"
      ]
     },
     "execution_count": 5,
     "metadata": {},
     "output_type": "execute_result"
    }
   ],
   "source": []
  },
  {
   "cell_type": "code",
   "execution_count": null,
   "metadata": {
    "colab": {
     "base_uri": "https://localhost:8080/"
    },
    "executionInfo": {
     "elapsed": 16,
     "status": "ok",
     "timestamp": 1694952001871,
     "user": {
      "displayName": "bandal_lab이세우",
      "userId": "06927367528797360084"
     },
     "user_tz": -540
    },
    "id": "-f2siErLP7hd",
    "outputId": "8480d412-8161-4a63-b028-38b98ebb62a4"
   },
   "outputs": [
    {
     "data": {
      "text/plain": [
       "(tensor(10, device='cuda:0'), device(type='cuda', index=0))"
      ]
     },
     "execution_count": 6,
     "metadata": {},
     "output_type": "execute_result"
    }
   ],
   "source": []
  },
  {
   "cell_type": "markdown",
   "metadata": {},
   "source": [
    "* `tensor.to('cuda')`, `tensor.to('cpu')`"
   ]
  },
  {
   "cell_type": "code",
   "execution_count": null,
   "metadata": {
    "colab": {
     "base_uri": "https://localhost:8080/"
    },
    "executionInfo": {
     "elapsed": 11,
     "status": "ok",
     "timestamp": 1694952001871,
     "user": {
      "displayName": "bandal_lab이세우",
      "userId": "06927367528797360084"
     },
     "user_tz": -540
    },
    "id": "NR3o-8-QP-X0",
    "outputId": "79846813-4efe-4c63-8cbc-cc5ebfb8fb9a"
   },
   "outputs": [
    {
     "data": {
      "text/plain": [
       "(tensor(10, device='cuda:0'), device(type='cuda', index=0))"
      ]
     },
     "execution_count": 7,
     "metadata": {},
     "output_type": "execute_result"
    }
   ],
   "source": []
  },
  {
   "cell_type": "markdown",
   "metadata": {},
   "source": [
    "* `tensor.cuda()`, `tensor.cpu()`"
   ]
  },
  {
   "cell_type": "code",
   "execution_count": null,
   "metadata": {
    "colab": {
     "base_uri": "https://localhost:8080/"
    },
    "executionInfo": {
     "elapsed": 4,
     "status": "ok",
     "timestamp": 1694952019208,
     "user": {
      "displayName": "bandal_lab이세우",
      "userId": "06927367528797360084"
     },
     "user_tz": -540
    },
    "id": "HHNvrOLJTX3i",
    "outputId": "674ffcc2-ba9d-4073-96b3-36e4c7e35fe1"
   },
   "outputs": [
    {
     "data": {
      "text/plain": [
       "(tensor(10, device='cuda:0'), device(type='cuda', index=0))"
      ]
     },
     "execution_count": 8,
     "metadata": {},
     "output_type": "execute_result"
    }
   ],
   "source": []
  },
  {
   "cell_type": "markdown",
   "metadata": {},
   "source": [
    "* 서로 다른 장치가 연산 불가"
   ]
  },
  {
   "cell_type": "code",
   "execution_count": 19,
   "metadata": {},
   "outputs": [
    {
     "data": {
      "text/plain": [
       "(device(type='cpu'), device(type='cuda', index=0))"
      ]
     },
     "execution_count": 19,
     "metadata": {},
     "output_type": "execute_result"
    }
   ],
   "source": [
    "a = torch.tensor([1,2,3])\n",
    "b = torch.tensor(20, device='cuda')\n",
    "a.device, b.device"
   ]
  },
  {
   "cell_type": "code",
   "execution_count": 21,
   "metadata": {},
   "outputs": [
    {
     "ename": "RuntimeError",
     "evalue": "Expected all tensors to be on the same device, but found at least two devices, cuda:0 and cpu!",
     "output_type": "error",
     "traceback": [
      "\u001b[1;31m---------------------------------------------------------------------------\u001b[0m",
      "\u001b[1;31mRuntimeError\u001b[0m                              Traceback (most recent call last)",
      "\u001b[1;32mc:\\Users\\dltpd\\Google Drive\\Lecture\\course\\SDS_AI\\2310\\lab\\2.DL\\1.PyTorch.ipynb Cell 29\u001b[0m line \u001b[0;36m1\n\u001b[1;32m----> <a href='vscode-notebook-cell:/c%3A/Users/dltpd/Google%20Drive/Lecture/course/SDS_AI/2310/lab/2.DL/1.PyTorch.ipynb#Y240sZmlsZQ%3D%3D?line=0'>1</a>\u001b[0m a\u001b[39m*\u001b[39;49mb\n",
      "\u001b[1;31mRuntimeError\u001b[0m: Expected all tensors to be on the same device, but found at least two devices, cuda:0 and cpu!"
     ]
    }
   ],
   "source": [
    "a*b  #오류 발생"
   ]
  },
  {
   "cell_type": "code",
   "execution_count": 22,
   "metadata": {},
   "outputs": [
    {
     "data": {
      "text/plain": [
       "tensor([20, 40, 60], device='cuda:0')"
      ]
     },
     "execution_count": 22,
     "metadata": {},
     "output_type": "execute_result"
    }
   ],
   "source": []
  },
  {
   "cell_type": "code",
   "execution_count": 23,
   "metadata": {},
   "outputs": [
    {
     "data": {
      "text/plain": [
       "tensor([20, 40, 60])"
      ]
     },
     "execution_count": 23,
     "metadata": {},
     "output_type": "execute_result"
    }
   ],
   "source": []
  },
  {
   "cell_type": "markdown",
   "metadata": {
    "id": "9cVMEnAVsuNu"
   },
   "source": [
    "## shape으로 생성"
   ]
  },
  {
   "cell_type": "code",
   "execution_count": null,
   "metadata": {
    "colab": {
     "base_uri": "https://localhost:8080/"
    },
    "executionInfo": {
     "elapsed": 254,
     "status": "ok",
     "timestamp": 1694946779348,
     "user": {
      "displayName": "bandal_lab이세우",
      "userId": "06927367528797360084"
     },
     "user_tz": -540
    },
    "id": "8A6w4MRdsyzv",
    "outputId": "d591c495-1141-49c2-fddb-cad54f920458"
   },
   "outputs": [
    {
     "data": {
      "text/plain": [
       "tensor([[0., 0., 0., 0.],\n",
       "        [0., 0., 0., 0.],\n",
       "        [0., 0., 0., 0.]])"
      ]
     },
     "execution_count": 21,
     "metadata": {},
     "output_type": "execute_result"
    }
   ],
   "source": []
  },
  {
   "cell_type": "code",
   "execution_count": null,
   "metadata": {
    "colab": {
     "base_uri": "https://localhost:8080/"
    },
    "executionInfo": {
     "elapsed": 2,
     "status": "ok",
     "timestamp": 1694946787098,
     "user": {
      "displayName": "bandal_lab이세우",
      "userId": "06927367528797360084"
     },
     "user_tz": -540
    },
    "id": "4wY5G83ms10N",
    "outputId": "00377392-b52a-45f2-adf4-8368abb6460e"
   },
   "outputs": [
    {
     "data": {
      "text/plain": [
       "tensor([[1., 1., 1., 1.],\n",
       "        [1., 1., 1., 1.],\n",
       "        [1., 1., 1., 1.]])"
      ]
     },
     "execution_count": 22,
     "metadata": {},
     "output_type": "execute_result"
    }
   ],
   "source": []
  },
  {
   "cell_type": "code",
   "execution_count": null,
   "metadata": {
    "colab": {
     "base_uri": "https://localhost:8080/"
    },
    "executionInfo": {
     "elapsed": 3,
     "status": "ok",
     "timestamp": 1694946798935,
     "user": {
      "displayName": "bandal_lab이세우",
      "userId": "06927367528797360084"
     },
     "user_tz": -540
    },
    "id": "a-nOmVpus3xL",
    "outputId": "80355c30-6692-49a8-fb4c-3e6b5c4a8da6"
   },
   "outputs": [
    {
     "data": {
      "text/plain": [
       "tensor([[2, 2, 2, 2],\n",
       "        [2, 2, 2, 2],\n",
       "        [2, 2, 2, 2]])"
      ]
     },
     "execution_count": 23,
     "metadata": {},
     "output_type": "execute_result"
    }
   ],
   "source": []
  },
  {
   "cell_type": "markdown",
   "metadata": {
    "id": "Xx03-bnqriL8"
   },
   "source": [
    "## 무작위 수로 생성"
   ]
  },
  {
   "cell_type": "code",
   "execution_count": null,
   "metadata": {
    "colab": {
     "base_uri": "https://localhost:8080/"
    },
    "executionInfo": {
     "elapsed": 290,
     "status": "ok",
     "timestamp": 1694947028103,
     "user": {
      "displayName": "bandal_lab이세우",
      "userId": "06927367528797360084"
     },
     "user_tz": -540
    },
    "id": "xszqfAGntW9k",
    "outputId": "9d7718d2-0cd5-4ad8-e40a-d7e55ac6f6ea"
   },
   "outputs": [
    {
     "data": {
      "text/plain": [
       "tensor([[0.1689, 0.2939, 0.5185, 0.6977],\n",
       "        [0.8000, 0.1610, 0.2823, 0.6816],\n",
       "        [0.9152, 0.3971, 0.8742, 0.4194]])"
      ]
     },
     "execution_count": 31,
     "metadata": {},
     "output_type": "execute_result"
    }
   ],
   "source": []
  },
  {
   "cell_type": "code",
   "execution_count": null,
   "metadata": {
    "colab": {
     "base_uri": "https://localhost:8080/"
    },
    "executionInfo": {
     "elapsed": 3,
     "status": "ok",
     "timestamp": 1694946981669,
     "user": {
      "displayName": "bandal_lab이세우",
      "userId": "06927367528797360084"
     },
     "user_tz": -540
    },
    "id": "rUAAFdX5tarW",
    "outputId": "2d7a22f7-1b32-4c6b-a5ce-dae1eefa27fa"
   },
   "outputs": [
    {
     "data": {
      "text/plain": [
       "tensor([[13, 16, 17, 14],\n",
       "        [17, 17, 17, 19],\n",
       "        [10, 12, 18, 11]])"
      ]
     },
     "execution_count": 28,
     "metadata": {},
     "output_type": "execute_result"
    }
   ],
   "source": []
  },
  {
   "cell_type": "code",
   "execution_count": null,
   "metadata": {
    "colab": {
     "base_uri": "https://localhost:8080/"
    },
    "executionInfo": {
     "elapsed": 5,
     "status": "ok",
     "timestamp": 1694954043513,
     "user": {
      "displayName": "bandal_lab이세우",
      "userId": "06927367528797360084"
     },
     "user_tz": -540
    },
    "id": "BiV0Y1NMXj3Q",
    "outputId": "33233ffb-74ce-4439-ab7f-463c0e688111"
   },
   "outputs": [
    {
     "data": {
      "text/plain": [
       "tensor([[ 2.2585, -2.1120, -0.5786,  0.6473],\n",
       "        [ 0.7739,  1.0141, -1.5353, -0.4139],\n",
       "        [-1.4741,  0.0739, -1.1484,  0.1974]])"
      ]
     },
     "execution_count": 9,
     "metadata": {},
     "output_type": "execute_result"
    }
   ],
   "source": []
  },
  {
   "cell_type": "code",
   "execution_count": null,
   "metadata": {
    "colab": {
     "base_uri": "https://localhost:8080/"
    },
    "executionInfo": {
     "elapsed": 382,
     "status": "ok",
     "timestamp": 1694947009588,
     "user": {
      "displayName": "bandal_lab이세우",
      "userId": "06927367528797360084"
     },
     "user_tz": -540
    },
    "id": "l0HYbDCHrjEe",
    "outputId": "0c811dc9-2c68-4b0a-bdc7-270c69c6871a"
   },
   "outputs": [
    {
     "data": {
      "text/plain": [
       "tensor([0.4963])"
      ]
     },
     "execution_count": 29,
     "metadata": {},
     "output_type": "execute_result"
    }
   ],
   "source": []
  },
  {
   "cell_type": "markdown",
   "metadata": {
    "id": "sOcAUFeCqSus"
   },
   "source": [
    "## arange, 수열로 생성"
   ]
  },
  {
   "cell_type": "code",
   "execution_count": null,
   "metadata": {
    "colab": {
     "base_uri": "https://localhost:8080/"
    },
    "executionInfo": {
     "elapsed": 4,
     "status": "ok",
     "timestamp": 1694325425929,
     "user": {
      "displayName": "bandal_lab이세우",
      "userId": "06927367528797360084"
     },
     "user_tz": -540
    },
    "id": "KT7b99fyqXpk",
    "outputId": "5eea2de7-d656-4075-82fe-163d33a5c85e"
   },
   "outputs": [
    {
     "data": {
      "text/plain": [
       "tensor([0, 1, 2, 3, 4, 5, 6, 7, 8, 9])"
      ]
     },
     "execution_count": 22,
     "metadata": {},
     "output_type": "execute_result"
    }
   ],
   "source": [
    "#torch.range(), deprecated\n"
   ]
  },
  {
   "cell_type": "code",
   "execution_count": null,
   "metadata": {
    "colab": {
     "base_uri": "https://localhost:8080/"
    },
    "executionInfo": {
     "elapsed": 2,
     "status": "ok",
     "timestamp": 1694325431892,
     "user": {
      "displayName": "bandal_lab이세우",
      "userId": "06927367528797360084"
     },
     "user_tz": -540
    },
    "id": "pjAp1aynqkOu",
    "outputId": "b51ea28c-2dec-43fe-d5c7-7924f0563aa5"
   },
   "outputs": [
    {
     "data": {
      "text/plain": [
       "tensor([10, 11, 12, 13, 14, 15, 16, 17, 18, 19])"
      ]
     },
     "execution_count": 23,
     "metadata": {},
     "output_type": "execute_result"
    }
   ],
   "source": []
  },
  {
   "cell_type": "code",
   "execution_count": null,
   "metadata": {
    "colab": {
     "base_uri": "https://localhost:8080/"
    },
    "executionInfo": {
     "elapsed": 3,
     "status": "ok",
     "timestamp": 1694325439246,
     "user": {
      "displayName": "bandal_lab이세우",
      "userId": "06927367528797360084"
     },
     "user_tz": -540
    },
    "id": "WVJaMjKUqlw-",
    "outputId": "60147f28-dd9b-45b7-84b1-4da40eff4223"
   },
   "outputs": [
    {
     "data": {
      "text/plain": [
       "tensor([10, 12, 14, 16, 18])"
      ]
     },
     "execution_count": 24,
     "metadata": {},
     "output_type": "execute_result"
    }
   ],
   "source": []
  },
  {
   "cell_type": "code",
   "execution_count": null,
   "metadata": {
    "colab": {
     "base_uri": "https://localhost:8080/"
    },
    "executionInfo": {
     "elapsed": 3,
     "status": "ok",
     "timestamp": 1694325449349,
     "user": {
      "displayName": "bandal_lab이세우",
      "userId": "06927367528797360084"
     },
     "user_tz": -540
    },
    "id": "y0yb2wD1qnfD",
    "outputId": "6749e1ec-d2f4-46a2-bc5b-51391eff7075"
   },
   "outputs": [
    {
     "data": {
      "text/plain": [
       "tensor([1.2000, 1.4000, 1.6000, 1.8000, 2.0000, 2.2000, 2.4000, 2.6000, 2.8000,\n",
       "        3.0000, 3.2000])"
      ]
     },
     "execution_count": 25,
     "metadata": {},
     "output_type": "execute_result"
    }
   ],
   "source": []
  },
  {
   "cell_type": "markdown",
   "metadata": {
    "id": "N3c0Sxgjkzzz"
   },
   "source": [
    "## 기존 tensor를 이용한 생성, XXXs_like()"
   ]
  },
  {
   "cell_type": "code",
   "execution_count": null,
   "metadata": {
    "colab": {
     "base_uri": "https://localhost:8080/"
    },
    "executionInfo": {
     "elapsed": 270,
     "status": "ok",
     "timestamp": 1694947041188,
     "user": {
      "displayName": "bandal_lab이세우",
      "userId": "06927367528797360084"
     },
     "user_tz": -540
    },
    "id": "JXvQUFcTkzz2",
    "outputId": "0fd68dd5-7d5c-4c2e-c02c-2e2657d92899"
   },
   "outputs": [
    {
     "data": {
      "text/plain": [
       "(tensor([[0.5529, 0.9527, 0.0362, 0.1852],\n",
       "         [0.3734, 0.3051, 0.9320, 0.1759],\n",
       "         [0.2698, 0.1507, 0.0317, 0.2081]]),\n",
       " torch.Size([3, 4]))"
      ]
     },
     "execution_count": 32,
     "metadata": {},
     "output_type": "execute_result"
    }
   ],
   "source": [
    "a = torch.rand(3,4)\n",
    "a, a.shape"
   ]
  },
  {
   "cell_type": "code",
   "execution_count": null,
   "metadata": {
    "colab": {
     "base_uri": "https://localhost:8080/"
    },
    "executionInfo": {
     "elapsed": 288,
     "status": "ok",
     "timestamp": 1694947063071,
     "user": {
      "displayName": "bandal_lab이세우",
      "userId": "06927367528797360084"
     },
     "user_tz": -540
    },
    "id": "hFZLfzZ-kzz2",
    "outputId": "d30c24c2-029c-4633-9cea-54f4503e5b34"
   },
   "outputs": [
    {
     "data": {
      "text/plain": [
       "tensor([[1., 1., 1., 1.],\n",
       "        [1., 1., 1., 1.],\n",
       "        [1., 1., 1., 1.]])"
      ]
     },
     "execution_count": 35,
     "metadata": {},
     "output_type": "execute_result"
    }
   ],
   "source": []
  },
  {
   "cell_type": "code",
   "execution_count": null,
   "metadata": {
    "colab": {
     "base_uri": "https://localhost:8080/"
    },
    "executionInfo": {
     "elapsed": 272,
     "status": "ok",
     "timestamp": 1694947070689,
     "user": {
      "displayName": "bandal_lab이세우",
      "userId": "06927367528797360084"
     },
     "user_tz": -540
    },
    "id": "d9x6Ck7Hkzz4",
    "outputId": "7c479656-fe2b-4cd1-8f8e-bd991cbf83f7"
   },
   "outputs": [
    {
     "data": {
      "text/plain": [
       "tensor([[0., 0., 0., 0.],\n",
       "        [0., 0., 0., 0.],\n",
       "        [0., 0., 0., 0.]])"
      ]
     },
     "execution_count": 36,
     "metadata": {},
     "output_type": "execute_result"
    }
   ],
   "source": []
  },
  {
   "cell_type": "code",
   "execution_count": null,
   "metadata": {
    "colab": {
     "base_uri": "https://localhost:8080/"
    },
    "executionInfo": {
     "elapsed": 3,
     "status": "ok",
     "timestamp": 1694947092106,
     "user": {
      "displayName": "bandal_lab이세우",
      "userId": "06927367528797360084"
     },
     "user_tz": -540
    },
    "id": "2GiciyO0t5Wy",
    "outputId": "1134c886-d2e8-4113-eb1b-f5ba47d44ace"
   },
   "outputs": [
    {
     "data": {
      "text/plain": [
       "tensor([[-1., -1., -1., -1.],\n",
       "        [-1., -1., -1., -1.],\n",
       "        [-1., -1., -1., -1.]])"
      ]
     },
     "execution_count": 38,
     "metadata": {},
     "output_type": "execute_result"
    }
   ],
   "source": []
  },
  {
   "cell_type": "markdown",
   "metadata": {
    "id": "Ozc0FHQfbiI4"
   },
   "source": [
    "# indexing, slicing"
   ]
  },
  {
   "cell_type": "code",
   "execution_count": null,
   "metadata": {
    "colab": {
     "base_uri": "https://localhost:8080/"
    },
    "executionInfo": {
     "elapsed": 290,
     "status": "ok",
     "timestamp": 1694945554386,
     "user": {
      "displayName": "bandal_lab이세우",
      "userId": "06927367528797360084"
     },
     "user_tz": -540
    },
    "id": "rQ3meRDqmo7Y",
    "outputId": "695ad1e1-79ae-4d52-e59e-a8e38dd0b108"
   },
   "outputs": [
    {
     "data": {
      "text/plain": [
       "tensor([[1., 2., 3.],\n",
       "        [4., 5., 6.],\n",
       "        [7., 8., 9.]])"
      ]
     },
     "execution_count": 10,
     "metadata": {},
     "output_type": "execute_result"
    }
   ],
   "source": [
    "t = torch.FloatTensor([[1,2,3], [4,5,6], [7,8,9]])\n",
    "t"
   ]
  },
  {
   "cell_type": "code",
   "execution_count": null,
   "metadata": {
    "colab": {
     "base_uri": "https://localhost:8080/"
    },
    "executionInfo": {
     "elapsed": 3,
     "status": "ok",
     "timestamp": 1694945554757,
     "user": {
      "displayName": "bandal_lab이세우",
      "userId": "06927367528797360084"
     },
     "user_tz": -540
    },
    "id": "N4WfMbv4m2qn",
    "outputId": "52adfa53-1331-4d64-f339-3654fa65304c"
   },
   "outputs": [
    {
     "data": {
      "text/plain": [
       "tensor([1., 2., 3.])"
      ]
     },
     "execution_count": 11,
     "metadata": {},
     "output_type": "execute_result"
    }
   ],
   "source": []
  },
  {
   "cell_type": "code",
   "execution_count": null,
   "metadata": {
    "colab": {
     "base_uri": "https://localhost:8080/"
    },
    "executionInfo": {
     "elapsed": 3,
     "status": "ok",
     "timestamp": 1694945555030,
     "user": {
      "displayName": "bandal_lab이세우",
      "userId": "06927367528797360084"
     },
     "user_tz": -540
    },
    "id": "rQ5lMPBhm5UU",
    "outputId": "4316b107-2bf0-418a-c2f2-8d69af09e98d"
   },
   "outputs": [
    {
     "data": {
      "text/plain": [
       "tensor(6.)"
      ]
     },
     "execution_count": 12,
     "metadata": {},
     "output_type": "execute_result"
    }
   ],
   "source": []
  },
  {
   "cell_type": "code",
   "execution_count": null,
   "metadata": {
    "colab": {
     "base_uri": "https://localhost:8080/"
    },
    "executionInfo": {
     "elapsed": 2,
     "status": "ok",
     "timestamp": 1694945566927,
     "user": {
      "displayName": "bandal_lab이세우",
      "userId": "06927367528797360084"
     },
     "user_tz": -540
    },
    "id": "IW0cvWAJoJx5",
    "outputId": "2a4c0a28-65b1-4d00-9ecb-7dfc4ff93e58"
   },
   "outputs": [
    {
     "data": {
      "text/plain": [
       "tensor([[4., 5., 6.],\n",
       "        [7., 8., 9.]])"
      ]
     },
     "execution_count": 13,
     "metadata": {},
     "output_type": "execute_result"
    }
   ],
   "source": []
  },
  {
   "cell_type": "code",
   "execution_count": null,
   "metadata": {
    "colab": {
     "base_uri": "https://localhost:8080/"
    },
    "executionInfo": {
     "elapsed": 3,
     "status": "ok",
     "timestamp": 1694945595785,
     "user": {
      "displayName": "bandal_lab이세우",
      "userId": "06927367528797360084"
     },
     "user_tz": -540
    },
    "id": "lQ9SKldVoRro",
    "outputId": "0f44cbb5-44d1-41c1-cad3-7cd89150ad27"
   },
   "outputs": [
    {
     "data": {
      "text/plain": [
       "tensor(6.)"
      ]
     },
     "execution_count": 16,
     "metadata": {},
     "output_type": "execute_result"
    }
   ],
   "source": []
  },
  {
   "cell_type": "code",
   "execution_count": null,
   "metadata": {
    "colab": {
     "base_uri": "https://localhost:8080/"
    },
    "executionInfo": {
     "elapsed": 3,
     "status": "ok",
     "timestamp": 1694945574135,
     "user": {
      "displayName": "bandal_lab이세우",
      "userId": "06927367528797360084"
     },
     "user_tz": -540
    },
    "id": "U_eAgjtGoNyP",
    "outputId": "c157174e-c20b-4c97-ca0d-bca8f665954e"
   },
   "outputs": [
    {
     "data": {
      "text/plain": [
       "tensor([[2., 3.],\n",
       "        [5., 6.],\n",
       "        [8., 9.]])"
      ]
     },
     "execution_count": 14,
     "metadata": {},
     "output_type": "execute_result"
    }
   ],
   "source": []
  },
  {
   "cell_type": "code",
   "execution_count": null,
   "metadata": {
    "colab": {
     "base_uri": "https://localhost:8080/"
    },
    "executionInfo": {
     "elapsed": 3,
     "status": "ok",
     "timestamp": 1668957324618,
     "user": {
      "displayName": "bandal_lab이세우",
      "userId": "06927367528797360084"
     },
     "user_tz": -540
    },
    "id": "LdcDbTDzm57e",
    "outputId": "078a3c23-9e69-4ca8-d927-a042fd53ad25"
   },
   "outputs": [
    {
     "data": {
      "text/plain": [
       "tensor([[1., 2., 3.],\n",
       "        [7., 8., 9.]])"
      ]
     },
     "execution_count": 11,
     "metadata": {},
     "output_type": "execute_result"
    }
   ],
   "source": []
  },
  {
   "cell_type": "code",
   "execution_count": null,
   "metadata": {
    "colab": {
     "base_uri": "https://localhost:8080/"
    },
    "executionInfo": {
     "elapsed": 3,
     "status": "ok",
     "timestamp": 1668957338554,
     "user": {
      "displayName": "bandal_lab이세우",
      "userId": "06927367528797360084"
     },
     "user_tz": -540
    },
    "id": "KVLqVw3om8EP",
    "outputId": "186ba7ae-a2c4-4e72-fbec-f984d2254961"
   },
   "outputs": [
    {
     "data": {
      "text/plain": [
       "tensor([[1., 3.],\n",
       "        [4., 6.],\n",
       "        [7., 9.]])"
      ]
     },
     "execution_count": 12,
     "metadata": {},
     "output_type": "execute_result"
    }
   ],
   "source": []
  },
  {
   "cell_type": "markdown",
   "metadata": {
    "id": "Bb4_wtPTppFn"
   },
   "source": [
    "# Math Operation"
   ]
  },
  {
   "cell_type": "markdown",
   "metadata": {
    "id": "x89yG9Pzps_W"
   },
   "source": [
    "# Operator Overriding"
   ]
  },
  {
   "cell_type": "code",
   "execution_count": null,
   "metadata": {},
   "outputs": [],
   "source": [
    "a = torch.tensor(10)"
   ]
  },
  {
   "cell_type": "code",
   "execution_count": null,
   "metadata": {
    "colab": {
     "base_uri": "https://localhost:8080/"
    },
    "executionInfo": {
     "elapsed": 3,
     "status": "ok",
     "timestamp": 1694954983027,
     "user": {
      "displayName": "bandal_lab이세우",
      "userId": "06927367528797360084"
     },
     "user_tz": -540
    },
    "id": "zWhYGGqhpwdO",
    "outputId": "baaf7c76-6158-421b-b100-ed9361c3f423"
   },
   "outputs": [
    {
     "data": {
      "text/plain": [
       "(tensor(11), tensor(11))"
      ]
     },
     "execution_count": 15,
     "metadata": {},
     "output_type": "execute_result"
    }
   ],
   "source": [
    "a.add(1), a+1"
   ]
  },
  {
   "cell_type": "code",
   "execution_count": null,
   "metadata": {
    "colab": {
     "base_uri": "https://localhost:8080/"
    },
    "executionInfo": {
     "elapsed": 4,
     "status": "ok",
     "timestamp": 1694955432845,
     "user": {
      "displayName": "bandal_lab이세우",
      "userId": "06927367528797360084"
     },
     "user_tz": -540
    },
    "id": "kFJJKJzSLdhX",
    "outputId": "1ab08801-458c-4d64-cb09-04bac83178e3"
   },
   "outputs": [
    {
     "data": {
      "text/plain": [
       "(tensor(9), tensor(9))"
      ]
     },
     "execution_count": 16,
     "metadata": {},
     "output_type": "execute_result"
    }
   ],
   "source": [
    "a.subtract(1), a-1"
   ]
  },
  {
   "cell_type": "code",
   "execution_count": null,
   "metadata": {
    "colab": {
     "base_uri": "https://localhost:8080/"
    },
    "executionInfo": {
     "elapsed": 4,
     "status": "ok",
     "timestamp": 1694955445288,
     "user": {
      "displayName": "bandal_lab이세우",
      "userId": "06927367528797360084"
     },
     "user_tz": -540
    },
    "id": "jl0Pm4zzN3cz",
    "outputId": "ff120e8d-7563-4095-9cf3-e4450c61086b"
   },
   "outputs": [
    {
     "data": {
      "text/plain": [
       "(tensor(20), tensor(20))"
      ]
     },
     "execution_count": 17,
     "metadata": {},
     "output_type": "execute_result"
    }
   ],
   "source": [
    "a.mul(2), a*2"
   ]
  },
  {
   "cell_type": "code",
   "execution_count": null,
   "metadata": {
    "colab": {
     "base_uri": "https://localhost:8080/"
    },
    "executionInfo": {
     "elapsed": 3,
     "status": "ok",
     "timestamp": 1694955452671,
     "user": {
      "displayName": "bandal_lab이세우",
      "userId": "06927367528797360084"
     },
     "user_tz": -540
    },
    "id": "Rr98kuxLN5ik",
    "outputId": "2dc3d075-863d-483f-843a-b26004b199bc"
   },
   "outputs": [
    {
     "data": {
      "text/plain": [
       "(tensor(5.), tensor(5.))"
      ]
     },
     "execution_count": 18,
     "metadata": {},
     "output_type": "execute_result"
    }
   ],
   "source": [
    "a.div(2), a/2"
   ]
  },
  {
   "cell_type": "markdown",
   "metadata": {
    "id": "bSP9GDpOoZmX"
   },
   "source": [
    "## broadcasting(Element-Wise)"
   ]
  },
  {
   "cell_type": "code",
   "execution_count": null,
   "metadata": {
    "colab": {
     "base_uri": "https://localhost:8080/"
    },
    "executionInfo": {
     "elapsed": 4,
     "status": "ok",
     "timestamp": 1694956220260,
     "user": {
      "displayName": "bandal_lab이세우",
      "userId": "06927367528797360084"
     },
     "user_tz": -540
    },
    "id": "-ZgYfaJRodL6",
    "outputId": "0f3b4ccd-e5cc-470c-fead-3438b140024a"
   },
   "outputs": [
    {
     "data": {
      "text/plain": [
       "(tensor([11, 22, 33]),\n",
       " tensor([ 9, 18, 27]),\n",
       " tensor([10, 40, 90]),\n",
       " tensor([10., 10., 10.]))"
      ]
     },
     "execution_count": 20,
     "metadata": {},
     "output_type": "execute_result"
    }
   ],
   "source": [
    "a = torch.tensor([10,20,30])\n",
    "b = torch.tensor([1,2,3])\n",
    "\n",
    "a+b, a-b, a*b, a/b"
   ]
  },
  {
   "cell_type": "code",
   "execution_count": null,
   "metadata": {
    "colab": {
     "base_uri": "https://localhost:8080/"
    },
    "executionInfo": {
     "elapsed": 3,
     "status": "ok",
     "timestamp": 1694956393386,
     "user": {
      "displayName": "bandal_lab이세우",
      "userId": "06927367528797360084"
     },
     "user_tz": -540
    },
    "id": "k4YQB5a5RW2Q",
    "outputId": "1e7aaa35-1185-4718-8446-455d8baa043b"
   },
   "outputs": [
    {
     "data": {
      "text/plain": [
       "(tensor([20, 30, 40]),\n",
       " tensor([ 0, 10, 20]),\n",
       " tensor([20, 40, 60]),\n",
       " tensor([ 5., 10., 15.]))"
      ]
     },
     "execution_count": 22,
     "metadata": {},
     "output_type": "execute_result"
    }
   ],
   "source": [
    "a = torch.tensor([10,20,30])\n",
    "a+10, a-10, a*2, a/2"
   ]
  },
  {
   "cell_type": "markdown",
   "metadata": {
    "id": "H3l8uYIykzz5"
   },
   "source": [
    "## inplace operation"
   ]
  },
  {
   "cell_type": "code",
   "execution_count": null,
   "metadata": {
    "id": "i0lPbZbUkzz5",
    "outputId": "a3009a25-2af5-40e8-f994-821898099bf5"
   },
   "outputs": [
    {
     "data": {
      "text/plain": [
       "tensor([[1, 2],\n",
       "        [3, 4]])"
      ]
     },
     "execution_count": 28,
     "metadata": {},
     "output_type": "execute_result"
    }
   ],
   "source": [
    "a = torch.tensor([[1,2], [3,4]])\n",
    "a"
   ]
  },
  {
   "cell_type": "code",
   "execution_count": null,
   "metadata": {
    "id": "9N_uKv8ukzz6",
    "outputId": "cba71838-a6a1-4a0b-b39f-b6c5fcc66c83"
   },
   "outputs": [
    {
     "data": {
      "text/plain": [
       "(tensor([[1, 2],\n",
       "         [3, 4]]),\n",
       " tensor([[4, 5],\n",
       "         [6, 7]]))"
      ]
     },
     "execution_count": 30,
     "metadata": {},
     "output_type": "execute_result"
    }
   ],
   "source": [
    "b = a.add(3)\n",
    "a, b"
   ]
  },
  {
   "cell_type": "code",
   "execution_count": null,
   "metadata": {
    "id": "Cbjnfm_Ikzz7",
    "outputId": "a8d5f7f9-7820-4fc8-dce9-d777d0fbf2e0"
   },
   "outputs": [
    {
     "data": {
      "text/plain": [
       "(tensor([[4, 5],\n",
       "         [6, 7]]),\n",
       " tensor([[4, 5],\n",
       "         [6, 7]]))"
      ]
     },
     "execution_count": 31,
     "metadata": {},
     "output_type": "execute_result"
    }
   ],
   "source": [
    "c = a.add_(3)\n",
    "a, c"
   ]
  },
  {
   "cell_type": "markdown",
   "metadata": {
    "id": "DGySpmRaRonl"
   },
   "source": [
    "# statiscal"
   ]
  },
  {
   "cell_type": "code",
   "execution_count": null,
   "metadata": {
    "colab": {
     "base_uri": "https://localhost:8080/"
    },
    "executionInfo": {
     "elapsed": 4,
     "status": "ok",
     "timestamp": 1694956895737,
     "user": {
      "displayName": "bandal_lab이세우",
      "userId": "06927367528797360084"
     },
     "user_tz": -540
    },
    "id": "2jRtFsVlScB5",
    "outputId": "9bd78719-e5f6-4eba-d01d-7978fdc8fcff"
   },
   "outputs": [
    {
     "data": {
      "text/plain": [
       "tensor([[1., 2.],\n",
       "        [3., 4.]])"
      ]
     },
     "execution_count": 31,
     "metadata": {},
     "output_type": "execute_result"
    }
   ],
   "source": [
    "a = torch.FloatTensor([[1,2], [3,4]], )\n",
    "a"
   ]
  },
  {
   "cell_type": "code",
   "execution_count": null,
   "metadata": {
    "colab": {
     "base_uri": "https://localhost:8080/"
    },
    "executionInfo": {
     "elapsed": 312,
     "status": "ok",
     "timestamp": 1694956769802,
     "user": {
      "displayName": "bandal_lab이세우",
      "userId": "06927367528797360084"
     },
     "user_tz": -540
    },
    "id": "a6dFzA9InXK-",
    "outputId": "1a21bcdc-7d1c-43fe-ef43-9e04d0b9a570"
   },
   "outputs": [
    {
     "data": {
      "text/plain": [
       "(tensor(2.5000), tensor(10.), tensor(4.), tensor(1.))"
      ]
     },
     "execution_count": 27,
     "metadata": {},
     "output_type": "execute_result"
    }
   ],
   "source": [
    "a.mean(), a.sum(), a.max(), a.min()"
   ]
  },
  {
   "cell_type": "code",
   "execution_count": null,
   "metadata": {
    "colab": {
     "base_uri": "https://localhost:8080/"
    },
    "executionInfo": {
     "elapsed": 2,
     "status": "ok",
     "timestamp": 1694956786574,
     "user": {
      "displayName": "bandal_lab이세우",
      "userId": "06927367528797360084"
     },
     "user_tz": -540
    },
    "id": "kKNCeAFLnati",
    "outputId": "cbab7515-d143-4aef-ea69-69cfab93e958"
   },
   "outputs": [
    {
     "data": {
      "text/plain": [
       "(tensor([2., 3.]), tensor([1.5000, 3.5000]))"
      ]
     },
     "execution_count": 29,
     "metadata": {},
     "output_type": "execute_result"
    }
   ],
   "source": []
  },
  {
   "cell_type": "code",
   "execution_count": null,
   "metadata": {
    "colab": {
     "base_uri": "https://localhost:8080/"
    },
    "executionInfo": {
     "elapsed": 2,
     "status": "ok",
     "timestamp": 1694956796497,
     "user": {
      "displayName": "bandal_lab이세우",
      "userId": "06927367528797360084"
     },
     "user_tz": -540
    },
    "id": "xAgt9gaXngd1",
    "outputId": "723f9119-f32a-4b54-adb2-123c6bcb6664"
   },
   "outputs": [
    {
     "data": {
      "text/plain": [
       "(tensor([4., 6.]), tensor([3., 7.]))"
      ]
     },
     "execution_count": 30,
     "metadata": {},
     "output_type": "execute_result"
    }
   ],
   "source": []
  },
  {
   "cell_type": "code",
   "execution_count": null,
   "metadata": {
    "colab": {
     "base_uri": "https://localhost:8080/"
    },
    "executionInfo": {
     "elapsed": 3,
     "status": "ok",
     "timestamp": 1694957003654,
     "user": {
      "displayName": "bandal_lab이세우",
      "userId": "06927367528797360084"
     },
     "user_tz": -540
    },
    "id": "h9Si3-0ZToIx",
    "outputId": "d941d711-8365-40dd-fe3a-e34a7eb8d55e"
   },
   "outputs": [
    {
     "data": {
      "text/plain": [
       "(tensor([3., 4.]), tensor([1, 1]))"
      ]
     },
     "execution_count": 35,
     "metadata": {},
     "output_type": "execute_result"
    }
   ],
   "source": []
  },
  {
   "cell_type": "code",
   "execution_count": null,
   "metadata": {
    "colab": {
     "base_uri": "https://localhost:8080/"
    },
    "executionInfo": {
     "elapsed": 3,
     "status": "ok",
     "timestamp": 1694957038370,
     "user": {
      "displayName": "bandal_lab이세우",
      "userId": "06927367528797360084"
     },
     "user_tz": -540
    },
    "id": "tkZ794ClTqbS",
    "outputId": "fe4266b6-9c73-453c-a8f8-82cfa5226bfe"
   },
   "outputs": [
    {
     "data": {
      "text/plain": [
       "(tensor([1., 3.]), tensor([0, 0]))"
      ]
     },
     "execution_count": 37,
     "metadata": {},
     "output_type": "execute_result"
    }
   ],
   "source": []
  },
  {
   "cell_type": "markdown",
   "metadata": {
    "id": "dDyelUHy_PqH"
   },
   "source": [
    "# Tensor 관리"
   ]
  },
  {
   "cell_type": "markdown",
   "metadata": {
    "id": "LSkqymA8ouZ0"
   },
   "source": [
    "## 재배치\n",
    "* `view()`\n",
    "* `reshape()`"
   ]
  },
  {
   "cell_type": "code",
   "execution_count": null,
   "metadata": {
    "colab": {
     "base_uri": "https://localhost:8080/"
    },
    "executionInfo": {
     "elapsed": 333,
     "status": "ok",
     "timestamp": 1694957467455,
     "user": {
      "displayName": "bandal_lab이세우",
      "userId": "06927367528797360084"
     },
     "user_tz": -540
    },
    "id": "M6Pm7gHunoWS",
    "outputId": "49e0df9d-5bf3-4178-8704-3ff3a9264019"
   },
   "outputs": [
    {
     "data": {
      "text/plain": [
       "tensor([[1., 2., 3.],\n",
       "        [4., 5., 6.]])"
      ]
     },
     "execution_count": 40,
     "metadata": {},
     "output_type": "execute_result"
    }
   ],
   "source": [
    "t = torch.FloatTensor([1,2,3,4,5,6])\n",
    "\n"
   ]
  },
  {
   "cell_type": "code",
   "execution_count": null,
   "metadata": {
    "colab": {
     "base_uri": "https://localhost:8080/"
    },
    "executionInfo": {
     "elapsed": 3,
     "status": "ok",
     "timestamp": 1694957468896,
     "user": {
      "displayName": "bandal_lab이세우",
      "userId": "06927367528797360084"
     },
     "user_tz": -540
    },
    "id": "yj1hCKdzo4Ng",
    "outputId": "eabb146c-3505-4482-c221-481286a294da"
   },
   "outputs": [
    {
     "data": {
      "text/plain": [
       "tensor([[1., 2.],\n",
       "        [3., 4.],\n",
       "        [5., 6.]])"
      ]
     },
     "execution_count": 41,
     "metadata": {},
     "output_type": "execute_result"
    }
   ],
   "source": []
  },
  {
   "cell_type": "code",
   "execution_count": null,
   "metadata": {
    "colab": {
     "base_uri": "https://localhost:8080/"
    },
    "executionInfo": {
     "elapsed": 307,
     "status": "ok",
     "timestamp": 1694957471689,
     "user": {
      "displayName": "bandal_lab이세우",
      "userId": "06927367528797360084"
     },
     "user_tz": -540
    },
    "id": "DxEmdUclo9jJ",
    "outputId": "1c2960cf-de94-4742-ad00-c7d7211d2056"
   },
   "outputs": [
    {
     "data": {
      "text/plain": [
       "torch.Size([1, 3, 2, 1])"
      ]
     },
     "execution_count": 42,
     "metadata": {},
     "output_type": "execute_result"
    }
   ],
   "source": [
    "ft = t.view(1,3,2,1)\n"
   ]
  },
  {
   "cell_type": "code",
   "execution_count": null,
   "metadata": {
    "colab": {
     "base_uri": "https://localhost:8080/"
    },
    "executionInfo": {
     "elapsed": 3,
     "status": "ok",
     "timestamp": 1694957489065,
     "user": {
      "displayName": "bandal_lab이세우",
      "userId": "06927367528797360084"
     },
     "user_tz": -540
    },
    "id": "MKWpzp05Vozi",
    "outputId": "991c3d97-0195-432c-ea28-fa21826f257e"
   },
   "outputs": [
    {
     "data": {
      "text/plain": [
       "tensor([[1., 2.],\n",
       "        [3., 4.],\n",
       "        [5., 6.]])"
      ]
     },
     "execution_count": 43,
     "metadata": {},
     "output_type": "execute_result"
    }
   ],
   "source": []
  },
  {
   "cell_type": "code",
   "execution_count": null,
   "metadata": {
    "id": "NZ_7UFzkVsiM"
   },
   "outputs": [],
   "source": []
  },
  {
   "cell_type": "markdown",
   "metadata": {
    "id": "yQc1zE_2kzzo"
   },
   "source": [
    "## 길이가 1인 축 제어\n",
    "* `squeeze()`\n",
    "* `unsqueeze(dim)`"
   ]
  },
  {
   "cell_type": "code",
   "execution_count": null,
   "metadata": {
    "colab": {
     "base_uri": "https://localhost:8080/"
    },
    "executionInfo": {
     "elapsed": 2,
     "status": "ok",
     "timestamp": 1694957781774,
     "user": {
      "displayName": "bandal_lab이세우",
      "userId": "06927367528797360084"
     },
     "user_tz": -540
    },
    "id": "Pt9maaGWpG8W",
    "outputId": "3ca8522e-2e3d-4d51-8e80-1f6b8b4805e8"
   },
   "outputs": [
    {
     "data": {
      "text/plain": [
       "(tensor([[[[ 0],\n",
       "           [ 1],\n",
       "           [ 2],\n",
       "           [ 3]]],\n",
       " \n",
       " \n",
       "         [[[ 4],\n",
       "           [ 5],\n",
       "           [ 6],\n",
       "           [ 7]]],\n",
       " \n",
       " \n",
       "         [[[ 8],\n",
       "           [ 9],\n",
       "           [10],\n",
       "           [11]]]]),\n",
       " torch.Size([3, 1, 4, 1]))"
      ]
     },
     "execution_count": 46,
     "metadata": {},
     "output_type": "execute_result"
    }
   ],
   "source": [
    "a = torch.arange(12).reshape(3,1,4,1)\n",
    "a,a.shape"
   ]
  },
  {
   "cell_type": "code",
   "execution_count": null,
   "metadata": {
    "colab": {
     "base_uri": "https://localhost:8080/"
    },
    "executionInfo": {
     "elapsed": 395,
     "status": "ok",
     "timestamp": 1694957823268,
     "user": {
      "displayName": "bandal_lab이세우",
      "userId": "06927367528797360084"
     },
     "user_tz": -540
    },
    "id": "hTz0pxJtWybV",
    "outputId": "be977e3c-2293-4373-cabd-923fcd5ca297"
   },
   "outputs": [
    {
     "data": {
      "text/plain": [
       "(tensor([[ 0,  1,  2,  3],\n",
       "         [ 4,  5,  6,  7],\n",
       "         [ 8,  9, 10, 11]]),\n",
       " torch.Size([3, 4]))"
      ]
     },
     "execution_count": 47,
     "metadata": {},
     "output_type": "execute_result"
    }
   ],
   "source": []
  },
  {
   "cell_type": "code",
   "execution_count": null,
   "metadata": {
    "colab": {
     "base_uri": "https://localhost:8080/"
    },
    "executionInfo": {
     "elapsed": 331,
     "status": "ok",
     "timestamp": 1694957835021,
     "user": {
      "displayName": "bandal_lab이세우",
      "userId": "06927367528797360084"
     },
     "user_tz": -540
    },
    "id": "oqchiQt9pIVG",
    "outputId": "cc13035a-3b30-48fc-ede3-b9a2e81e9c0f"
   },
   "outputs": [
    {
     "data": {
      "text/plain": [
       "(tensor([[[ 0,  1,  2,  3],\n",
       "          [ 4,  5,  6,  7],\n",
       "          [ 8,  9, 10, 11]]]),\n",
       " torch.Size([1, 3, 4]))"
      ]
     },
     "execution_count": 48,
     "metadata": {},
     "output_type": "execute_result"
    }
   ],
   "source": []
  },
  {
   "cell_type": "code",
   "execution_count": null,
   "metadata": {
    "id": "ACXq4KRbkzzq"
   },
   "outputs": [],
   "source": []
  },
  {
   "cell_type": "markdown",
   "metadata": {
    "id": "hqWSjLe3pdFq"
   },
   "source": [
    "## type casting\n"
   ]
  },
  {
   "cell_type": "code",
   "execution_count": null,
   "metadata": {
    "colab": {
     "base_uri": "https://localhost:8080/"
    },
    "executionInfo": {
     "elapsed": 4,
     "status": "ok",
     "timestamp": 1668958009012,
     "user": {
      "displayName": "bandal_lab이세우",
      "userId": "06927367528797360084"
     },
     "user_tz": -540
    },
    "id": "C6WjDFNhpeKo",
    "outputId": "475053c2-1178-447a-b794-74dafbb1cdb7"
   },
   "outputs": [
    {
     "data": {
      "text/plain": [
       "torch.float32"
      ]
     },
     "execution_count": 10,
     "metadata": {},
     "output_type": "execute_result"
    }
   ],
   "source": [
    "t = torch.FloatTensor([1.2,2.3,3.4,4.5])\n",
    "t.dtype"
   ]
  },
  {
   "cell_type": "code",
   "execution_count": null,
   "metadata": {
    "colab": {
     "base_uri": "https://localhost:8080/"
    },
    "executionInfo": {
     "elapsed": 2,
     "status": "ok",
     "timestamp": 1668958012817,
     "user": {
      "displayName": "bandal_lab이세우",
      "userId": "06927367528797360084"
     },
     "user_tz": -540
    },
    "id": "_-TBIh-OpjLp",
    "outputId": "d576ac9b-979d-4854-f032-55bf75eabd9c"
   },
   "outputs": [
    {
     "data": {
      "text/plain": [
       "torch.int32"
      ]
     },
     "execution_count": 14,
     "metadata": {},
     "output_type": "execute_result"
    }
   ],
   "source": [
    "t.int().dtype"
   ]
  },
  {
   "cell_type": "code",
   "execution_count": null,
   "metadata": {
    "colab": {
     "base_uri": "https://localhost:8080/"
    },
    "executionInfo": {
     "elapsed": 3,
     "status": "ok",
     "timestamp": 1668958023169,
     "user": {
      "displayName": "bandal_lab이세우",
      "userId": "06927367528797360084"
     },
     "user_tz": -540
    },
    "id": "Cs_6Ixgwplqq",
    "outputId": "e29ffecf-f9a6-427f-8aba-e1f225a5ca15"
   },
   "outputs": [
    {
     "data": {
      "text/plain": [
       "torch.int64"
      ]
     },
     "execution_count": 15,
     "metadata": {},
     "output_type": "execute_result"
    }
   ],
   "source": [
    "t.long().dtype"
   ]
  },
  {
   "cell_type": "code",
   "execution_count": null,
   "metadata": {
    "colab": {
     "base_uri": "https://localhost:8080/"
    },
    "executionInfo": {
     "elapsed": 3,
     "status": "ok",
     "timestamp": 1668958029816,
     "user": {
      "displayName": "bandal_lab이세우",
      "userId": "06927367528797360084"
     },
     "user_tz": -540
    },
    "id": "2KLVkNWRpmsf",
    "outputId": "9f9b8e20-d06a-453d-ec74-df6a6f01f5cd"
   },
   "outputs": [
    {
     "data": {
      "text/plain": [
       "torch.float32"
      ]
     },
     "execution_count": 16,
     "metadata": {},
     "output_type": "execute_result"
    }
   ],
   "source": [
    "t.float().dtype"
   ]
  },
  {
   "cell_type": "markdown",
   "metadata": {
    "id": "KenBfw3MqBwq"
   },
   "source": [
    "## 병합"
   ]
  },
  {
   "cell_type": "code",
   "execution_count": null,
   "metadata": {
    "colab": {
     "base_uri": "https://localhost:8080/",
     "height": 90
    },
    "executionInfo": {
     "elapsed": 7,
     "status": "ok",
     "timestamp": 1694958251228,
     "user": {
      "displayName": "bandal_lab이세우",
      "userId": "06927367528797360084"
     },
     "user_tz": -540
    },
    "id": "h2OP3_TgpoW6",
    "outputId": "63b3e121-d064-48ce-95f1-6feb76b34c47"
   },
   "outputs": [
    {
     "data": {
      "text/plain": [
       "tensor([[0, 1, 2],\n",
       "        [3, 4, 5]])"
      ]
     },
     "metadata": {},
     "output_type": "display_data"
    },
    {
     "data": {
      "text/plain": [
       "tensor([[16, 17, 18],\n",
       "        [19, 20, 21]])"
      ]
     },
     "metadata": {},
     "output_type": "display_data"
    }
   ],
   "source": [
    "t1 = torch.arange(6).reshape(2,3)\n",
    "t2 = torch.arange(16, 22).reshape(2,3)\n",
    "display(t1, t2)\n"
   ]
  },
  {
   "cell_type": "markdown",
   "metadata": {},
   "source": [
    "* cat"
   ]
  },
  {
   "cell_type": "code",
   "execution_count": null,
   "metadata": {
    "colab": {
     "base_uri": "https://localhost:8080/"
    },
    "executionInfo": {
     "elapsed": 4,
     "status": "ok",
     "timestamp": 1668958231634,
     "user": {
      "displayName": "bandal_lab이세우",
      "userId": "06927367528797360084"
     },
     "user_tz": -540
    },
    "id": "g-_hFm6EqU0r",
    "outputId": "9ea19497-b2c8-4756-ff74-209562b15980"
   },
   "outputs": [
    {
     "data": {
      "text/plain": [
       "(tensor([[ 0.,  1.,  2.],\n",
       "         [ 3.,  4.,  5.],\n",
       "         [16., 17., 18.],\n",
       "         [19., 20., 21.]]),\n",
       " torch.Size([4, 3]))"
      ]
     },
     "execution_count": 19,
     "metadata": {},
     "output_type": "execute_result"
    }
   ],
   "source": []
  },
  {
   "cell_type": "code",
   "execution_count": null,
   "metadata": {
    "colab": {
     "base_uri": "https://localhost:8080/"
    },
    "executionInfo": {
     "elapsed": 2,
     "status": "ok",
     "timestamp": 1668958267315,
     "user": {
      "displayName": "bandal_lab이세우",
      "userId": "06927367528797360084"
     },
     "user_tz": -540
    },
    "id": "Qi14Em6qqZoz",
    "outputId": "af11f071-aa0a-4fd4-e036-6a9ca33cdf4d"
   },
   "outputs": [
    {
     "data": {
      "text/plain": [
       "(tensor([[ 0.,  1.,  2., 16., 17., 18.],\n",
       "         [ 3.,  4.,  5., 19., 20., 21.]]),\n",
       " torch.Size([2, 6]))"
      ]
     },
     "execution_count": 20,
     "metadata": {},
     "output_type": "execute_result"
    }
   ],
   "source": []
  },
  {
   "cell_type": "markdown",
   "metadata": {},
   "source": [
    "* stack"
   ]
  },
  {
   "cell_type": "code",
   "execution_count": null,
   "metadata": {
    "colab": {
     "base_uri": "https://localhost:8080/"
    },
    "executionInfo": {
     "elapsed": 2,
     "status": "ok",
     "timestamp": 1668958274753,
     "user": {
      "displayName": "bandal_lab이세우",
      "userId": "06927367528797360084"
     },
     "user_tz": -540
    },
    "id": "G5BNdVq3qfnm",
    "outputId": "fd74ed68-3c53-43b9-fb3a-4d125a960dfa"
   },
   "outputs": [
    {
     "data": {
      "text/plain": [
       "(tensor([[[ 0.,  1.,  2.],\n",
       "          [ 3.,  4.,  5.]],\n",
       " \n",
       "         [[16., 17., 18.],\n",
       "          [19., 20., 21.]]]),\n",
       " torch.Size([2, 2, 3]))"
      ]
     },
     "execution_count": 21,
     "metadata": {},
     "output_type": "execute_result"
    }
   ],
   "source": []
  },
  {
   "cell_type": "code",
   "execution_count": null,
   "metadata": {
    "colab": {
     "base_uri": "https://localhost:8080/"
    },
    "executionInfo": {
     "elapsed": 2,
     "status": "ok",
     "timestamp": 1668958289359,
     "user": {
      "displayName": "bandal_lab이세우",
      "userId": "06927367528797360084"
     },
     "user_tz": -540
    },
    "id": "1jEwkGaLqj-l",
    "outputId": "17532be4-481b-403d-d10e-9b02c0351f14"
   },
   "outputs": [
    {
     "data": {
      "text/plain": [
       "(tensor([[[ 0., 16.],\n",
       "          [ 1., 17.],\n",
       "          [ 2., 18.]],\n",
       " \n",
       "         [[ 3., 19.],\n",
       "          [ 4., 20.],\n",
       "          [ 5., 21.]]]),\n",
       " torch.Size([2, 3, 2]))"
      ]
     },
     "execution_count": 22,
     "metadata": {},
     "output_type": "execute_result"
    }
   ],
   "source": []
  },
  {
   "cell_type": "markdown",
   "metadata": {
    "id": "g7IAMQJqZxw4"
   },
   "source": [
    "# 자동 미분\n",
    "* `requires_grad=True`\n",
    "* `cost.backward()`\n",
    "* `tensor.grad`"
   ]
  },
  {
   "cell_type": "code",
   "execution_count": null,
   "metadata": {
    "colab": {
     "base_uri": "https://localhost:8080/"
    },
    "executionInfo": {
     "elapsed": 326,
     "status": "ok",
     "timestamp": 1694959374778,
     "user": {
      "displayName": "bandal_lab이세우",
      "userId": "06927367528797360084"
     },
     "user_tz": -540
    },
    "id": "XkK9hqlMmGvr",
    "outputId": "218de6cd-6001-45e5-ca17-b5ddbebc2501"
   },
   "outputs": [
    {
     "name": "stdout",
     "output_type": "stream",
     "text": [
      "y:9.0\n",
      "z:18.0\n",
      "dz:12.0\n"
     ]
    }
   ],
   "source": [
    "x = torch.tensor(3., requires_grad=True)\n",
    "y = x **2\n",
    "print(f'y:{y}')\n",
    "z = 2 * y\n",
    "print(f'z:{z}')\n"
   ]
  },
  {
   "cell_type": "markdown",
   "metadata": {
    "id": "Z0172S81ckmH"
   },
   "source": [
    "* `torch.autograd.grad()`"
   ]
  },
  {
   "cell_type": "code",
   "execution_count": null,
   "metadata": {
    "colab": {
     "base_uri": "https://localhost:8080/"
    },
    "executionInfo": {
     "elapsed": 344,
     "status": "ok",
     "timestamp": 1694959378475,
     "user": {
      "displayName": "bandal_lab이세우",
      "userId": "06927367528797360084"
     },
     "user_tz": -540
    },
    "id": "4A-NQNyPmOo_",
    "outputId": "f267cbbe-ad8e-401f-8fbc-5d2214c16acb"
   },
   "outputs": [
    {
     "name": "stdout",
     "output_type": "stream",
     "text": [
      "y:9.0\n",
      "z:18.0\n",
      "dy:(tensor(6.),)\n",
      "dz:(tensor(12.),)\n"
     ]
    }
   ],
   "source": [
    "x = torch.tensor(3., requires_grad=True)\n",
    "y = x **2\n",
    "print(f'y:{y}')\n",
    "z = 2 * y\n",
    "print(f'z:{z}')\n"
   ]
  },
  {
   "cell_type": "code",
   "execution_count": null,
   "metadata": {
    "colab": {
     "base_uri": "https://localhost:8080/"
    },
    "executionInfo": {
     "elapsed": 296,
     "status": "ok",
     "timestamp": 1694959382883,
     "user": {
      "displayName": "bandal_lab이세우",
      "userId": "06927367528797360084"
     },
     "user_tz": -540
    },
    "id": "q84_iYOrZzun",
    "outputId": "593f8737-ddc9-4389-abe8-3b8c1ca73ebb"
   },
   "outputs": [
    {
     "name": "stdout",
     "output_type": "stream",
     "text": [
      "y:9.0\n",
      "z:18.0\n",
      "dy:6.0\n",
      "dz:18.0\n"
     ]
    }
   ],
   "source": [
    "x = torch.tensor(3., requires_grad=True)\n",
    "y = x **2\n",
    "print(f'y:{y}')\n",
    "z = 2 * y\n",
    "print(f'z:{z}')\n",
    "\n",
    "y.backward(retain_graph=True)\n",
    "print(f'dy:{x.grad}')\n",
    "\n",
    "z.backward()\n",
    "print(f'dz:{x.grad}')"
   ]
  },
  {
   "cell_type": "markdown",
   "metadata": {
    "id": "nGekH78hdH0n"
   },
   "source": [
    "# NumPy 객체 변환"
   ]
  },
  {
   "cell_type": "code",
   "execution_count": 24,
   "metadata": {
    "colab": {
     "base_uri": "https://localhost:8080/"
    },
    "executionInfo": {
     "elapsed": 3,
     "status": "ok",
     "timestamp": 1694959485726,
     "user": {
      "displayName": "bandal_lab이세우",
      "userId": "06927367528797360084"
     },
     "user_tz": -540
    },
    "id": "8r3Vfhr8dKOO",
    "outputId": "a5cc12d9-7c29-4fbd-b487-39fb67cf28dc"
   },
   "outputs": [
    {
     "data": {
      "text/plain": [
       "tensor([1, 2, 3, 4], dtype=torch.int32)"
      ]
     },
     "execution_count": 24,
     "metadata": {},
     "output_type": "execute_result"
    }
   ],
   "source": [
    "a = np.array([1,2,3,4])\n",
    "b = torch.from_numpy(a)\n",
    "b"
   ]
  },
  {
   "cell_type": "code",
   "execution_count": 25,
   "metadata": {
    "colab": {
     "base_uri": "https://localhost:8080/"
    },
    "executionInfo": {
     "elapsed": 356,
     "status": "ok",
     "timestamp": 1694959495336,
     "user": {
      "displayName": "bandal_lab이세우",
      "userId": "06927367528797360084"
     },
     "user_tz": -540
    },
    "id": "hCEyBU8LdT9o",
    "outputId": "45ca3807-dd73-466c-9e68-8c2e7d6cecc7"
   },
   "outputs": [
    {
     "data": {
      "text/plain": [
       "array([1, 2, 3, 4])"
      ]
     },
     "execution_count": 25,
     "metadata": {},
     "output_type": "execute_result"
    }
   ],
   "source": []
  },
  {
   "cell_type": "markdown",
   "metadata": {},
   "source": [
    "* `requires_grad=True`로 생성한 tensor\n",
    "    * `tensor.detach()` 호출 필요"
   ]
  },
  {
   "cell_type": "code",
   "execution_count": 39,
   "metadata": {},
   "outputs": [
    {
     "ename": "RuntimeError",
     "evalue": "Can't call numpy() on Tensor that requires grad. Use tensor.detach().numpy() instead.",
     "output_type": "error",
     "traceback": [
      "\u001b[1;31m---------------------------------------------------------------------------\u001b[0m",
      "\u001b[1;31mRuntimeError\u001b[0m                              Traceback (most recent call last)",
      "\u001b[1;32mc:\\Users\\dltpd\\Google Drive\\Lecture\\course\\SDS_AI\\2310\\lab\\2.DL\\1.PyTorch.ipynb Cell 114\u001b[0m line \u001b[0;36m2\n\u001b[0;32m      <a href='vscode-notebook-cell:/c%3A/Users/dltpd/Google%20Drive/Lecture/course/SDS_AI/2310/lab/2.DL/1.PyTorch.ipynb#Y233sZmlsZQ%3D%3D?line=0'>1</a>\u001b[0m a \u001b[39m=\u001b[39m torch\u001b[39m.\u001b[39mtensor(\u001b[39m2.\u001b[39m,  requires_grad\u001b[39m=\u001b[39m\u001b[39mTrue\u001b[39;00m)\n\u001b[1;32m----> <a href='vscode-notebook-cell:/c%3A/Users/dltpd/Google%20Drive/Lecture/course/SDS_AI/2310/lab/2.DL/1.PyTorch.ipynb#Y233sZmlsZQ%3D%3D?line=1'>2</a>\u001b[0m a\u001b[39m.\u001b[39;49mnumpy()\n",
      "\u001b[1;31mRuntimeError\u001b[0m: Can't call numpy() on Tensor that requires grad. Use tensor.detach().numpy() instead."
     ]
    }
   ],
   "source": [
    "a = torch.tensor(2.,  requires_grad=True)\n",
    "a.numpy() # 오류 발생"
   ]
  },
  {
   "cell_type": "code",
   "execution_count": 40,
   "metadata": {},
   "outputs": [
    {
     "data": {
      "text/plain": [
       "array(2., dtype=float32)"
      ]
     },
     "execution_count": 40,
     "metadata": {},
     "output_type": "execute_result"
    }
   ],
   "source": []
  },
  {
   "cell_type": "markdown",
   "metadata": {},
   "source": [
    "* cuda 장치에 `requires_grad=True`인 tensor\n",
    "    * cpu로 이동 필요"
   ]
  },
  {
   "cell_type": "code",
   "execution_count": 42,
   "metadata": {},
   "outputs": [
    {
     "ename": "TypeError",
     "evalue": "can't convert cuda:0 device type tensor to numpy. Use Tensor.cpu() to copy the tensor to host memory first.",
     "output_type": "error",
     "traceback": [
      "\u001b[1;31m---------------------------------------------------------------------------\u001b[0m",
      "\u001b[1;31mTypeError\u001b[0m                                 Traceback (most recent call last)",
      "\u001b[1;32mc:\\Users\\dltpd\\Google Drive\\Lecture\\course\\SDS_AI\\2310\\lab\\2.DL\\1.PyTorch.ipynb Cell 116\u001b[0m line \u001b[0;36m2\n\u001b[0;32m      <a href='vscode-notebook-cell:/c%3A/Users/dltpd/Google%20Drive/Lecture/course/SDS_AI/2310/lab/2.DL/1.PyTorch.ipynb#Y246sZmlsZQ%3D%3D?line=0'>1</a>\u001b[0m b \u001b[39m=\u001b[39m torch\u001b[39m.\u001b[39mtensor(\u001b[39m2.\u001b[39m,  requires_grad\u001b[39m=\u001b[39m\u001b[39mTrue\u001b[39;00m, device\u001b[39m=\u001b[39m\u001b[39m'\u001b[39m\u001b[39mcuda\u001b[39m\u001b[39m'\u001b[39m)\n\u001b[1;32m----> <a href='vscode-notebook-cell:/c%3A/Users/dltpd/Google%20Drive/Lecture/course/SDS_AI/2310/lab/2.DL/1.PyTorch.ipynb#Y246sZmlsZQ%3D%3D?line=1'>2</a>\u001b[0m b\u001b[39m.\u001b[39;49mdetach()\u001b[39m.\u001b[39;49mnumpy()\n",
      "\u001b[1;31mTypeError\u001b[0m: can't convert cuda:0 device type tensor to numpy. Use Tensor.cpu() to copy the tensor to host memory first."
     ]
    }
   ],
   "source": [
    "b = torch.tensor(2.,  requires_grad=True, device='cuda')\n",
    "b.detach().numpy() # 오류 발생"
   ]
  },
  {
   "cell_type": "code",
   "execution_count": 43,
   "metadata": {},
   "outputs": [
    {
     "data": {
      "text/plain": [
       "array(2., dtype=float32)"
      ]
     },
     "execution_count": 43,
     "metadata": {},
     "output_type": "execute_result"
    }
   ],
   "source": []
  },
  {
   "cell_type": "markdown",
   "metadata": {
    "id": "wuDQ6N6wrcux"
   },
   "source": [
    "# 선형회귀"
   ]
  },
  {
   "cell_type": "code",
   "execution_count": null,
   "metadata": {
    "colab": {
     "base_uri": "https://localhost:8080/",
     "height": 448
    },
    "executionInfo": {
     "elapsed": 705,
     "status": "ok",
     "timestamp": 1694960033861,
     "user": {
      "displayName": "bandal_lab이세우",
      "userId": "06927367528797360084"
     },
     "user_tz": -540
    },
    "id": "ZRdTDITHmH1s",
    "outputId": "a410e57f-18ba-4c29-a0fa-cc7e2efad22d"
   },
   "outputs": [
    {
     "data": {
      "text/plain": [
       "[<matplotlib.lines.Line2D at 0x79cc9b762bf0>]"
      ]
     },
     "execution_count": 61,
     "metadata": {},
     "output_type": "execute_result"
    },
    {
     "data": {
      "image/png": "[encoded data removed]",
      "text/plain": [
       "<Figure size 640x480 with 1 Axes>"
      ]
     },
     "metadata": {},
     "output_type": "display_data"
    }
   ],
   "source": [
    "import matplotlib.pyplot as plt\n",
    "\n",
    "torch.manual_seed(777)\n",
    "m = 50\n",
    "X = \n",
    "y = \n",
    "\n",
    "\n",
    "plt.plot(X, y, 'b.')"
   ]
  },
  {
   "cell_type": "code",
   "execution_count": null,
   "metadata": {
    "colab": {
     "base_uri": "https://localhost:8080/",
     "height": 540
    },
    "executionInfo": {
     "elapsed": 1560,
     "status": "ok",
     "timestamp": 1694960088870,
     "user": {
      "displayName": "bandal_lab이세우",
      "userId": "06927367528797360084"
     },
     "user_tz": -540
    },
    "id": "tjd296oKfFZb",
    "outputId": "028d2849-7d73-4611-e56a-68bb46382911"
   },
   "outputs": [
    {
     "name": "stdout",
     "output_type": "stream",
     "text": [
      "Epoch:0 W:0.4061444103717804, b:0.009800707921385765, cost:3391.945556640625, gradient:-3242.291015625\n",
      "Epoch:20 W:2.01865816116333, b:0.9561110734939575, cost:143.71856689453125, gradient:-79.39769744873047\n",
      "Epoch:40 W:2.032474994659424, b:2.103633403778076, cost:142.9861297607422, gradient:14.422710418701172\n",
      "Epoch:60 W:2.000445604324341, b:3.184799909591675, cost:144.71490478515625, gradient:16.08077621459961\n",
      "Epoch:80 W:1.9696635007858276, b:4.171477317810059, cost:146.79794311523438, gradient:14.681190490722656\n",
      "Epoch:100 W:1.9421005249023438, b:5.044960021972656, cost:149.0658416748047, gradient:12.92572021484375\n"
     ]
    },
    {
     "data": {
      "image/png": "[encoded data removed]",
      "text/plain": [
       "<Figure size 640x480 with 1 Axes>"
      ]
     },
     "metadata": {},
     "output_type": "display_data"
    }
   ],
   "source": [
    "import matplotlib.pyplot as plt\n",
    "\n",
    "plt.plot(X, y, 'b.')\n",
    "torch.manual_seed(777)\n",
    "# code here.\n"
   ]
  },
  {
   "cell_type": "markdown",
   "metadata": {
    "id": "7ZUCTbRXI0SU"
   },
   "source": [
    "# Optimizer\n",
    "* optimizer 시각화 : http://www.denizyuret.com/2015/03/alec-radfords-animations-for.html"
   ]
  },
  {
   "cell_type": "code",
   "execution_count": null,
   "metadata": {
    "colab": {
     "base_uri": "https://localhost:8080/",
     "height": 559
    },
    "executionInfo": {
     "elapsed": 2277,
     "status": "ok",
     "timestamp": 1694389319885,
     "user": {
      "displayName": "bandal_lab이세우",
      "userId": "06927367528797360084"
     },
     "user_tz": -540
    },
    "id": "EdVgjXjIqnmF",
    "outputId": "cfa59073-8e84-4d4c-a7b4-a4727c5a8d74"
   },
   "outputs": [
    {
     "name": "stdout",
     "output_type": "stream",
     "text": [
      "Epoch:0 W:tensor([0.4061], requires_grad=True), b:0.009800707921385765, cost:3391.945556640625\n",
      "Epoch:20 W:tensor([2.0361], requires_grad=True), b:0.05865742266178131, cost:144.1429443359375\n",
      "Epoch:40 W:tensor([2.0838], requires_grad=True), b:0.059554144740104675, cost:141.3599395751953\n",
      "Epoch:60 W:tensor([2.0852], requires_grad=True), b:0.059047527611255646, cost:141.35740661621094\n",
      "Epoch:80 W:tensor([2.0853], requires_grad=True), b:0.05850039795041084, cost:141.35723876953125\n",
      "Epoch:100 W:tensor([2.0853], requires_grad=True), b:0.05795261636376381, cost:141.35708618164062\n"
     ]
    },
    {
     "data": {
      "text/plain": [
       "<matplotlib.legend.Legend at 0x799032644d00>"
      ]
     },
     "execution_count": 38,
     "metadata": {},
     "output_type": "execute_result"
    },
    {
     "data": {
      "image/png": "[encoded data removed]",
      "text/plain": [
       "<Figure size 640x480 with 1 Axes>"
      ]
     },
     "metadata": {},
     "output_type": "display_data"
    }
   ],
   "source": [
    "import matplotlib.pyplot as plt\n",
    "\n",
    "plt.plot(X, y, 'b.')\n",
    "torch.manual_seed(777)\n",
    "\n",
    "W = torch.rand(1, requires_grad=True)  # 자동 미분 가능, Variable\n",
    "b = torch.tensor(0., requires_grad=True)\n",
    "plt.plot(X, (W*X+b).detach().numpy(), 'b-', label='init Model')\n",
    "\n",
    "# code here"
   ]
  }
 ],
 "metadata": {
  "accelerator": "GPU",
  "colab": {
   "gpuType": "T4",
   "provenance": [],
   "toc_visible": true
  },
  "kernelspec": {
   "display_name": "Python 3 (ipykernel)",
   "language": "python",
   "name": "python3"
  },
  "language_info": {
   "codemirror_mode": {
    "name": "ipython",
    "version": 3
   },
   "file_extension": ".py",
   "mimetype": "text/x-python",
   "name": "python",
   "nbconvert_exporter": "python",
   "pygments_lexer": "ipython3",
   "version": "3.10.8"
  }
 },
 "nbformat": 4,
 "nbformat_minor": 4
}
